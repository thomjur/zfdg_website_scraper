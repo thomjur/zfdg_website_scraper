{
 "cells": [
  {
   "cell_type": "code",
   "execution_count": null,
   "metadata": {},
   "outputs": [],
   "source": [
    "from scraper import Corpus\n",
    "from data_preparation import DataPreparation\n",
    "from analyzer import Analyzer\n",
    "import pandas as pd"
   ]
  },
  {
   "cell_type": "code",
   "execution_count": null,
   "metadata": {},
   "outputs": [],
   "source": [
    "%load_ext autoreload\n",
    "%autoreload 2\n",
    "pd.set_option('display.max_columns', 999)"
   ]
  },
  {
   "cell_type": "markdown",
   "metadata": {},
   "source": [
    "# Beschreibung\n",
    "\n",
    "Dieses Notebook dient dazu, die einzelnen Schritte des Programms zur Analyse der Multimodalität von Webseiten auszuführen. Für die Details siehe Artikel \"Vorstellung eines (teil-)automatisierten Verfahrens zur Analyse der Multimodalität von Webseiten\" (eingereicht bei [Zeitschrift für digitale Geisteswissenschaften](https://zfdg.de/)).\n",
    "\n",
    "**ACHTUNG**: Dieses Programm dient nur zur Dokumentation und Durchführung der Analyse im Kontext des Artikels und ist nicht für eine allgemeine Nutzung ausgelegt. Erfordert zahlreiche Vorkehrungen, bspw. funktioniert die derzeitige Version nur mit dem Edge-Webdriver, der im selben Verzeichnis wie das Programm liegen muss."
   ]
  },
  {
   "cell_type": "markdown",
   "metadata": {},
   "source": [
    "# 1. Corpus-Initialisierung\n",
    "*Muss für jedes Webseiten-Sample nur einmal ausgeführt werden.*"
   ]
  },
  {
   "cell_type": "code",
   "execution_count": null,
   "metadata": {},
   "outputs": [],
   "source": [
    "cp = Corpus()"
   ]
  },
  {
   "cell_type": "code",
   "execution_count": null,
   "metadata": {},
   "outputs": [],
   "source": [
    "cp.initCorpus()"
   ]
  },
  {
   "cell_type": "markdown",
   "metadata": {},
   "source": [
    "# 2. Vorbereitung der Corpus-Daten\n",
    "\n",
    "*Muss für jedes Webseiten-Sample nur einmal ausgeführt werden.*"
   ]
  },
  {
   "cell_type": "code",
   "execution_count": null,
   "metadata": {},
   "outputs": [],
   "source": [
    "dp = DataPreparation()"
   ]
  },
  {
   "cell_type": "code",
   "execution_count": null,
   "metadata": {},
   "outputs": [],
   "source": [
    "dp.getImages()"
   ]
  },
  {
   "cell_type": "code",
   "execution_count": null,
   "metadata": {},
   "outputs": [],
   "source": [
    "data_dict = dp.createAnalyzerDict()"
   ]
  },
  {
   "cell_type": "markdown",
   "metadata": {},
   "source": [
    "# 3. Analysis"
   ]
  },
  {
   "cell_type": "code",
   "execution_count": null,
   "metadata": {},
   "outputs": [],
   "source": [
    "ana = Analyzer()"
   ]
  },
  {
   "cell_type": "code",
   "execution_count": null,
   "metadata": {},
   "outputs": [],
   "source": [
    "ana.getColumnSelection()"
   ]
  },
  {
   "cell_type": "markdown",
   "metadata": {},
   "source": [
    "## Feature Selektionen des ZFDG Article:\n",
    "\n",
    "Images and Video Features: `['background_images', 'total_images', 'big_images', 'middle_images', 'small_images', 'very_small_images', 'small_videos', 'big_videos', 'RA_big_images/total_images', 'RA_middle_images/total_images', 'RA_small_images/total_images', 'RA_very_small_images/total_images']`\n",
    "\n",
    "Images Small Feature Set: `['total_images', 'big_images', 'middle_images', 'small_images', 'very_small_images']`\n",
    "\n",
    "Text Features: `['total_length', 'headings', 'RA_headings/total_length']`\n",
    "\n",
    "Images, Video, and Text Features: `['total_images', 'big_images', 'middle_images', 'small_images', 'very_small_images', 'small_videos', 'big_videos', 'RA_big_images/total_images', 'RA_middle_images/total_images', 'RA_small_images/total_images', 'RA_very_small_images/total_images', 'total_length', 'headings', 'RA_headings/total_length', 'RA_total_images/total_length']`\n",
    "\n",
    "Features-Set können mit der Methode `setColumnSelection()` geändert werden."
   ]
  },
  {
   "cell_type": "code",
   "execution_count": null,
   "metadata": {},
   "outputs": [],
   "source": [
    "# KMeans clustering and standardization"
   ]
  },
  {
   "cell_type": "code",
   "execution_count": null,
   "metadata": {},
   "outputs": [],
   "source": [
    "ana_selection = ana.getDataFrame()"
   ]
  },
  {
   "cell_type": "code",
   "execution_count": null,
   "metadata": {},
   "outputs": [],
   "source": [
    "standardized_data = ana.standardizeData(ana_selection)"
   ]
  },
  {
   "cell_type": "code",
   "execution_count": null,
   "metadata": {},
   "outputs": [],
   "source": [
    "clustered_data = ana.clusterDataKMeans(standardized_data, n=3)"
   ]
  },
  {
   "cell_type": "code",
   "execution_count": null,
   "metadata": {},
   "outputs": [],
   "source": [
    "ana.createElbowPlot(clustered_data)"
   ]
  },
  {
   "cell_type": "code",
   "execution_count": null,
   "metadata": {},
   "outputs": [],
   "source": [
    "# optional auf Basis der Ergebnisse des Elbow-Plot neues Clustering \n",
    "#clustered_data = ana.clusterDataKMeans(standardized_data, n=XX)"
   ]
  },
  {
   "cell_type": "code",
   "execution_count": null,
   "metadata": {},
   "outputs": [],
   "source": [
    "ana.getScreenshotsFromClusters(clustered_data)"
   ]
  },
  {
   "cell_type": "code",
   "execution_count": null,
   "metadata": {},
   "outputs": [],
   "source": [
    "clustered_data.sort_values(\"clusters\")"
   ]
  }
 ],
 "metadata": {
  "kernelspec": {
   "display_name": "Python 3",
   "language": "python",
   "name": "python3"
  },
  "language_info": {
   "codemirror_mode": {
    "name": "ipython",
    "version": 3
   },
   "file_extension": ".py",
   "mimetype": "text/x-python",
   "name": "python",
   "nbconvert_exporter": "python",
   "pygments_lexer": "ipython3",
   "version": "3.9.1"
  }
 },
 "nbformat": 4,
 "nbformat_minor": 4
}
