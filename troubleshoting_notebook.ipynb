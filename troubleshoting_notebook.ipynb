{
 "cells": [
  {
   "cell_type": "code",
   "execution_count": 1,
   "metadata": {},
   "outputs": [],
   "source": [
    "from bs4 import BeautifulSoup\n",
    "from urllib.parse import urljoin, urlparse\n",
    "import shutil, os, time, datetime, re\n",
    "import pandas as pd\n",
    "from PIL import Image\n",
    "from scraper import DataPreparation, Corpus\n",
    "from analyzer import Analyzer"
   ]
  },
  {
   "cell_type": "code",
   "execution_count": 11,
   "metadata": {},
   "outputs": [
    {
     "name": "stdout",
     "output_type": "stream",
     "text": [
      "The autoreload extension is already loaded. To reload it, use:\n",
      "  %reload_ext autoreload\n"
     ]
    }
   ],
   "source": [
    "%load_ext autoreload\n",
    "%autoreload 2"
   ]
  },
  {
   "cell_type": "markdown",
   "metadata": {},
   "source": [
    "# TODO\n",
    "\n",
    "- carousel finder\n",
    "- select some features from builtwith\n",
    "\n",
    "# WORKFLOW\n",
    "\n",
    "1. Create Corpus with `Corpus.initCorpus()` (once initialized, you do not have to initialize it again).\n",
    "2. Prepare the website data in the corpus (via `DataPreparation()` class).\n",
    "\n",
    "    1. Download and analyze images via `DataPreparation.getImages()`.\n",
    "    2. Once you have downloaded the data for the current corpus, you do not need to download and analyze the images again. You can no access them via `DataPreparation.getImagesFromPickle()`.\n",
    "    3. Analyze the infrastructure of the websites with `DataPreparation.getBuiltWith()`. Once you have done this, you can access the data via `DataPreparation.getBuiltWithFromPickle()`.\n",
    "    4. Create and save a dictionary with all the results (except those from `DataPreparation.getBuiltWith()`) via `DataPreparation.createAnalyzerDict()`.\n",
    "\n",
    "3. The clustering of the data dictionary and the analysis of the `builtwith` data are conducted with the `Analyzer` class.\n",
    "    1.To cluster the data in the dictionary created with `DataPreparation.createAnalyzerDict()`, the user can choose the columns that should be selected with the help of the method `Analyzer.setColumnSelection()`. The data can then be clustered with the method `Analyzer.clusterDataKMeans()`. However, it is advisable to standardize the data first with the method `Analyzer.standardizeData()`.\n",
    "    2. To figure out which n works best in the `Analyzer.clusterDataKMeans()` method, the user can use `Analyzer.createElbowPlot()`.\n",
    "    3. The results of the clustering can be visualized with `Analyzer.visualizeCluster()`-\n",
    "    4. To analyze the `builtwith` data, the user first needs to execute `Analyzer.getBuiltWithCategorical()`.\n",
    "    5. Then, the data can be anaylzed using cosine with `Analyzer.getCosine4CategoricalData()`."
   ]
  },
  {
   "cell_type": "markdown",
   "metadata": {},
   "source": [
    "# Corpus Creation"
   ]
  },
  {
   "cell_type": "code",
   "execution_count": 3,
   "metadata": {},
   "outputs": [],
   "source": [
    "cp = Corpus()"
   ]
  },
  {
   "cell_type": "code",
   "execution_count": 4,
   "metadata": {},
   "outputs": [],
   "source": [
    "#cp.initCorpus()"
   ]
  },
  {
   "cell_type": "markdown",
   "metadata": {},
   "source": [
    "# Data Preparation"
   ]
  },
  {
   "cell_type": "code",
   "execution_count": 5,
   "metadata": {},
   "outputs": [],
   "source": [
    "dp = DataPreparation()"
   ]
  },
  {
   "cell_type": "code",
   "execution_count": 6,
   "metadata": {},
   "outputs": [],
   "source": [
    "#dp.getImages()"
   ]
  },
  {
   "cell_type": "code",
   "execution_count": 7,
   "metadata": {},
   "outputs": [],
   "source": [
    "data_dict = dp.createAnalyzerDict()"
   ]
  },
  {
   "cell_type": "code",
   "execution_count": null,
   "metadata": {},
   "outputs": [],
   "source": []
  },
  {
   "cell_type": "markdown",
   "metadata": {},
   "source": [
    "# Analysis"
   ]
  },
  {
   "cell_type": "code",
   "execution_count": 16,
   "metadata": {},
   "outputs": [],
   "source": [
    "ana = Analyzer()"
   ]
  },
  {
   "cell_type": "code",
   "execution_count": 17,
   "metadata": {},
   "outputs": [
    {
     "name": "stdout",
     "output_type": "stream",
     "text": [
      "Currently, the following columns are selected: ['total_images', 'big_images', 'middle_images', 'small_images', 'very_small_images', 'background_images', 'total_length', 'headings', 'external_links', 'internal_links', 'total_links', 'RA_big_images/total_images', 'RA_middle_images/total_images', 'RA_small_images/total_images', 'RA_total_images/total_length', 'RA_big_and_middle_images/total_length', 'RA_internal_links/external_links', 'RA_very_small_images/total_images']\n"
     ]
    }
   ],
   "source": [
    "ana.getColumnSelection()"
   ]
  },
  {
   "cell_type": "code",
   "execution_count": 18,
   "metadata": {},
   "outputs": [
    {
     "data": {
      "text/html": [
       "<div>\n",
       "<style scoped>\n",
       "    .dataframe tbody tr th:only-of-type {\n",
       "        vertical-align: middle;\n",
       "    }\n",
       "\n",
       "    .dataframe tbody tr th {\n",
       "        vertical-align: top;\n",
       "    }\n",
       "\n",
       "    .dataframe thead th {\n",
       "        text-align: right;\n",
       "    }\n",
       "</style>\n",
       "<table border=\"1\" class=\"dataframe\">\n",
       "  <thead>\n",
       "    <tr style=\"text-align: right;\">\n",
       "      <th></th>\n",
       "      <th>total_images</th>\n",
       "      <th>big_images</th>\n",
       "      <th>middle_images</th>\n",
       "      <th>small_images</th>\n",
       "      <th>very_small_images</th>\n",
       "      <th>background_images</th>\n",
       "      <th>total_length</th>\n",
       "      <th>headings</th>\n",
       "      <th>external_links</th>\n",
       "      <th>internal_links</th>\n",
       "      <th>total_links</th>\n",
       "      <th>RA_big_images/total_images</th>\n",
       "      <th>RA_middle_images/total_images</th>\n",
       "      <th>RA_small_images/total_images</th>\n",
       "      <th>RA_total_images/total_length</th>\n",
       "      <th>RA_big_and_middle_images/total_length</th>\n",
       "      <th>RA_internal_links/external_links</th>\n",
       "      <th>RA_very_small_images/total_images</th>\n",
       "    </tr>\n",
       "  </thead>\n",
       "  <tbody>\n",
       "    <tr>\n",
       "      <th>marginalie.hypotheses.org</th>\n",
       "      <td>7</td>\n",
       "      <td>1</td>\n",
       "      <td>3</td>\n",
       "      <td>0</td>\n",
       "      <td>3</td>\n",
       "      <td>0</td>\n",
       "      <td>18381</td>\n",
       "      <td>37</td>\n",
       "      <td>29</td>\n",
       "      <td>232</td>\n",
       "      <td>261</td>\n",
       "      <td>0.142857</td>\n",
       "      <td>0.428571</td>\n",
       "      <td>0.0</td>\n",
       "      <td>0.000381</td>\n",
       "      <td>0.000218</td>\n",
       "      <td>8.0</td>\n",
       "      <td>0.428571</td>\n",
       "    </tr>\n",
       "  </tbody>\n",
       "</table>\n",
       "</div>"
      ],
      "text/plain": [
       "                           total_images  big_images  middle_images  \\\n",
       "marginalie.hypotheses.org             7           1              3   \n",
       "\n",
       "                           small_images  very_small_images  background_images  \\\n",
       "marginalie.hypotheses.org             0                  3                  0   \n",
       "\n",
       "                           total_length  headings  external_links  \\\n",
       "marginalie.hypotheses.org         18381        37              29   \n",
       "\n",
       "                           internal_links  total_links  \\\n",
       "marginalie.hypotheses.org             232          261   \n",
       "\n",
       "                           RA_big_images/total_images  \\\n",
       "marginalie.hypotheses.org                    0.142857   \n",
       "\n",
       "                           RA_middle_images/total_images  \\\n",
       "marginalie.hypotheses.org                       0.428571   \n",
       "\n",
       "                           RA_small_images/total_images  \\\n",
       "marginalie.hypotheses.org                           0.0   \n",
       "\n",
       "                           RA_total_images/total_length  \\\n",
       "marginalie.hypotheses.org                      0.000381   \n",
       "\n",
       "                           RA_big_and_middle_images/total_length  \\\n",
       "marginalie.hypotheses.org                               0.000218   \n",
       "\n",
       "                           RA_internal_links/external_links  \\\n",
       "marginalie.hypotheses.org                               8.0   \n",
       "\n",
       "                           RA_very_small_images/total_images  \n",
       "marginalie.hypotheses.org                           0.428571  "
      ]
     },
     "execution_count": 18,
     "metadata": {},
     "output_type": "execute_result"
    }
   ],
   "source": [
    "ana.getDataFrame()"
   ]
  },
  {
   "cell_type": "code",
   "execution_count": null,
   "metadata": {},
   "outputs": [],
   "source": []
  },
  {
   "cell_type": "code",
   "execution_count": 8,
   "metadata": {},
   "outputs": [],
   "source": [
    "# KMeans clustering and standardization"
   ]
  },
  {
   "cell_type": "code",
   "execution_count": 10,
   "metadata": {},
   "outputs": [],
   "source": [
    "#ana.setColumnSelection(['total_length'])"
   ]
  },
  {
   "cell_type": "code",
   "execution_count": null,
   "metadata": {},
   "outputs": [],
   "source": []
  },
  {
   "cell_type": "code",
   "execution_count": 49,
   "metadata": {},
   "outputs": [],
   "source": [
    "ana_small = ana.data_df[ana.column_selection]"
   ]
  },
  {
   "cell_type": "code",
   "execution_count": 50,
   "metadata": {},
   "outputs": [],
   "source": [
    "standardized_data = ana.standardizeData(ana_small)"
   ]
  },
  {
   "cell_type": "code",
   "execution_count": 53,
   "metadata": {},
   "outputs": [
    {
     "name": "stdout",
     "output_type": "stream",
     "text": [
      "Websites in cluster 0:\n",
      "-----------------------------------------------\n",
      "\n",
      "marginalie.hypotheses.org\n",
      "https://marginalie.hypotheses.org/\n",
      "ekd.de\n",
      "https://www.ekd.de/\n",
      "gamestar.de\n",
      "https://www.gamestar.de/\n",
      "nike.com\n",
      "https://www.nike.com/\n",
      "nytimes.com\n",
      "https://www.nytimes.com/\n",
      "\n",
      "Websites in cluster 1:\n",
      "-----------------------------------------------\n",
      "\n",
      "faz.net\n",
      "https://www.faz.net/aktuell/\n",
      "wind-energie.de\n",
      "https://www.wind-energie.de/die-windkraft/\n",
      "\n",
      "Websites in cluster 2:\n",
      "-----------------------------------------------\n",
      "\n",
      "liebesleben.de\n",
      "https://www.liebesleben.de/\n",
      "netzwerk-ebd.de\n",
      "https://www.netzwerk-ebd.de/\n",
      "oma-kocht.de\n",
      "https://www.oma-kocht.de/\n",
      "spd.de\n",
      "https://www.spd.de/\n",
      "windows-faq.de\n",
      "https://www.windows-faq.de/\n",
      "\n"
     ]
    }
   ],
   "source": [
    "clustered_data = ana.clusterDataKMeans(standardized_data, n=3)"
   ]
  },
  {
   "cell_type": "code",
   "execution_count": 52,
   "metadata": {},
   "outputs": [
    {
     "name": "stdout",
     "output_type": "stream",
     "text": [
      "Creating elbow plot in range between [2, 3, 4, 5, 6, 7, 8] n for KMeans.\n"
     ]
    },
    {
     "data": {
      "image/png": "[encoded data removed]",
      "text/plain": [
       "<Figure size 504x504 with 1 Axes>"
      ]
     },
     "metadata": {
      "needs_background": "light"
     },
     "output_type": "display_data"
    }
   ],
   "source": [
    "ana.createElbowPlot(clustered_data)"
   ]
  },
  {
   "cell_type": "code",
   "execution_count": 15,
   "metadata": {},
   "outputs": [],
   "source": [
    "#ana.visualizeCluster(clustered_data, \"total_length\", \"total_images\")"
   ]
  },
  {
   "cell_type": "code",
   "execution_count": 13,
   "metadata": {},
   "outputs": [
    {
     "name": "stdout",
     "output_type": "stream",
     "text": [
      "marginalie.hypotheses.org\n",
      "3\n",
      "Press enter to continue and take screenshot of page...\n",
      "Screenshots/3/marginalie.hypotheses.org.png\n",
      "ekd.de\n",
      "1\n",
      "Press enter to continue and take screenshot of page...\n",
      "Screenshots/1/ekd.de.png\n",
      "faz.net\n",
      "2\n",
      "Press enter to continue and take screenshot of page...\n",
      "Screenshots/2/faz.net.png\n",
      "gamestar.de\n",
      "1\n",
      "Press enter to continue and take screenshot of page...\n",
      "Screenshots/1/gamestar.de.png\n",
      "liebesleben.de\n",
      "2\n",
      "Press enter to continue and take screenshot of page...\n",
      "Screenshots/2/liebesleben.de.png\n",
      "netzwerk-ebd.de\n",
      "1\n",
      "Press enter to continue and take screenshot of page...\n",
      "Screenshots/1/netzwerk-ebd.de.png\n",
      "nike.com\n",
      "0\n",
      "Press enter to continue and take screenshot of page...\n",
      "Screenshots/0/nike.com.png\n",
      "nytimes.com\n",
      "2\n",
      "Press enter to continue and take screenshot of page...\n",
      "Screenshots/2/nytimes.com.png\n",
      "oma-kocht.de\n",
      "2\n",
      "Press enter to continue and take screenshot of page...\n",
      "Screenshots/2/oma-kocht.de.png\n",
      "spd.de\n",
      "1\n",
      "Press enter to continue and take screenshot of page...\n",
      "Screenshots/1/spd.de.png\n",
      "wind-energie.de\n",
      "0\n",
      "Press enter to continue and take screenshot of page...\n",
      "Screenshots/0/wind-energie.de.png\n",
      "windows-faq.de\n",
      "1\n",
      "Press enter to continue and take screenshot of page...\n",
      "Screenshots/1/windows-faq.de.png\n"
     ]
    }
   ],
   "source": [
    "ana.getScreenshotsFromClusters(clustered_data)"
   ]
  },
  {
   "cell_type": "code",
   "execution_count": 54,
   "metadata": {},
   "outputs": [
    {
     "data": {
      "text/html": [
       "<div>\n",
       "<style scoped>\n",
       "    .dataframe tbody tr th:only-of-type {\n",
       "        vertical-align: middle;\n",
       "    }\n",
       "\n",
       "    .dataframe tbody tr th {\n",
       "        vertical-align: top;\n",
       "    }\n",
       "\n",
       "    .dataframe thead th {\n",
       "        text-align: right;\n",
       "    }\n",
       "</style>\n",
       "<table border=\"1\" class=\"dataframe\">\n",
       "  <thead>\n",
       "    <tr style=\"text-align: right;\">\n",
       "      <th></th>\n",
       "      <th>total_length_scaled</th>\n",
       "      <th>clusters</th>\n",
       "    </tr>\n",
       "  </thead>\n",
       "  <tbody>\n",
       "    <tr>\n",
       "      <th>marginalie.hypotheses.org</th>\n",
       "      <td>-0.032334</td>\n",
       "      <td>0</td>\n",
       "    </tr>\n",
       "    <tr>\n",
       "      <th>ekd.de</th>\n",
       "      <td>0.429641</td>\n",
       "      <td>0</td>\n",
       "    </tr>\n",
       "    <tr>\n",
       "      <th>faz.net</th>\n",
       "      <td>2.400957</td>\n",
       "      <td>1</td>\n",
       "    </tr>\n",
       "    <tr>\n",
       "      <th>gamestar.de</th>\n",
       "      <td>-0.221546</td>\n",
       "      <td>0</td>\n",
       "    </tr>\n",
       "    <tr>\n",
       "      <th>liebesleben.de</th>\n",
       "      <td>-0.886133</td>\n",
       "      <td>2</td>\n",
       "    </tr>\n",
       "    <tr>\n",
       "      <th>netzwerk-ebd.de</th>\n",
       "      <td>-0.702348</td>\n",
       "      <td>2</td>\n",
       "    </tr>\n",
       "    <tr>\n",
       "      <th>nike.com</th>\n",
       "      <td>-0.322249</td>\n",
       "      <td>0</td>\n",
       "    </tr>\n",
       "    <tr>\n",
       "      <th>nytimes.com</th>\n",
       "      <td>0.187833</td>\n",
       "      <td>0</td>\n",
       "    </tr>\n",
       "    <tr>\n",
       "      <th>oma-kocht.de</th>\n",
       "      <td>-0.809751</td>\n",
       "      <td>2</td>\n",
       "    </tr>\n",
       "    <tr>\n",
       "      <th>spd.de</th>\n",
       "      <td>-0.975781</td>\n",
       "      <td>2</td>\n",
       "    </tr>\n",
       "    <tr>\n",
       "      <th>wind-energie.de</th>\n",
       "      <td>1.593054</td>\n",
       "      <td>1</td>\n",
       "    </tr>\n",
       "    <tr>\n",
       "      <th>windows-faq.de</th>\n",
       "      <td>-0.661343</td>\n",
       "      <td>2</td>\n",
       "    </tr>\n",
       "  </tbody>\n",
       "</table>\n",
       "</div>"
      ],
      "text/plain": [
       "                           total_length_scaled  clusters\n",
       "marginalie.hypotheses.org            -0.032334         0\n",
       "ekd.de                                0.429641         0\n",
       "faz.net                               2.400957         1\n",
       "gamestar.de                          -0.221546         0\n",
       "liebesleben.de                       -0.886133         2\n",
       "netzwerk-ebd.de                      -0.702348         2\n",
       "nike.com                             -0.322249         0\n",
       "nytimes.com                           0.187833         0\n",
       "oma-kocht.de                         -0.809751         2\n",
       "spd.de                               -0.975781         2\n",
       "wind-energie.de                       1.593054         1\n",
       "windows-faq.de                       -0.661343         2"
      ]
     },
     "execution_count": 54,
     "metadata": {},
     "output_type": "execute_result"
    }
   ],
   "source": [
    "clustered_data"
   ]
  },
  {
   "cell_type": "code",
   "execution_count": 27,
   "metadata": {},
   "outputs": [
    {
     "data": {
      "text/html": [
       "<div>\n",
       "<style scoped>\n",
       "    .dataframe tbody tr th:only-of-type {\n",
       "        vertical-align: middle;\n",
       "    }\n",
       "\n",
       "    .dataframe tbody tr th {\n",
       "        vertical-align: top;\n",
       "    }\n",
       "\n",
       "    .dataframe thead th {\n",
       "        text-align: right;\n",
       "    }\n",
       "</style>\n",
       "<table border=\"1\" class=\"dataframe\">\n",
       "  <thead>\n",
       "    <tr style=\"text-align: right;\">\n",
       "      <th></th>\n",
       "      <th>total_images</th>\n",
       "      <th>big_images</th>\n",
       "      <th>middle_images</th>\n",
       "      <th>small_images</th>\n",
       "      <th>very_small_images</th>\n",
       "      <th>background_images</th>\n",
       "      <th>total_length</th>\n",
       "      <th>external_links</th>\n",
       "      <th>internal_links</th>\n",
       "      <th>total_links</th>\n",
       "      <th>RA_big_images/total_images</th>\n",
       "      <th>RA_middle_images/total_images</th>\n",
       "      <th>RA_small_images/total_images</th>\n",
       "      <th>RA_very_small_images/total_images</th>\n",
       "      <th>RA_total_images/total_length</th>\n",
       "      <th>RA_big_and_middle_images/total_length</th>\n",
       "      <th>RA_internal_links/external_links</th>\n",
       "    </tr>\n",
       "  </thead>\n",
       "  <tbody>\n",
       "    <tr>\n",
       "      <th>marginalie.hypotheses.org</th>\n",
       "      <td>5</td>\n",
       "      <td>1</td>\n",
       "      <td>3</td>\n",
       "      <td>0</td>\n",
       "      <td>1</td>\n",
       "      <td>0</td>\n",
       "      <td>17994</td>\n",
       "      <td>27</td>\n",
       "      <td>232</td>\n",
       "      <td>259</td>\n",
       "      <td>0.200000</td>\n",
       "      <td>0.600000</td>\n",
       "      <td>0.000000</td>\n",
       "      <td>0.200000</td>\n",
       "      <td>0.000278</td>\n",
       "      <td>0.000222</td>\n",
       "      <td>8.592593</td>\n",
       "    </tr>\n",
       "    <tr>\n",
       "      <th>ekd.de</th>\n",
       "      <td>35</td>\n",
       "      <td>1</td>\n",
       "      <td>14</td>\n",
       "      <td>20</td>\n",
       "      <td>0</td>\n",
       "      <td>1</td>\n",
       "      <td>24889</td>\n",
       "      <td>15</td>\n",
       "      <td>485</td>\n",
       "      <td>500</td>\n",
       "      <td>0.028571</td>\n",
       "      <td>0.400000</td>\n",
       "      <td>0.571429</td>\n",
       "      <td>0.000000</td>\n",
       "      <td>0.001406</td>\n",
       "      <td>0.000603</td>\n",
       "      <td>32.333333</td>\n",
       "    </tr>\n",
       "    <tr>\n",
       "      <th>faz.net</th>\n",
       "      <td>38</td>\n",
       "      <td>3</td>\n",
       "      <td>2</td>\n",
       "      <td>33</td>\n",
       "      <td>0</td>\n",
       "      <td>2</td>\n",
       "      <td>54311</td>\n",
       "      <td>18</td>\n",
       "      <td>757</td>\n",
       "      <td>775</td>\n",
       "      <td>0.078947</td>\n",
       "      <td>0.052632</td>\n",
       "      <td>0.868421</td>\n",
       "      <td>0.000000</td>\n",
       "      <td>0.000700</td>\n",
       "      <td>0.000092</td>\n",
       "      <td>42.055556</td>\n",
       "    </tr>\n",
       "    <tr>\n",
       "      <th>gamestar.de</th>\n",
       "      <td>46</td>\n",
       "      <td>2</td>\n",
       "      <td>3</td>\n",
       "      <td>41</td>\n",
       "      <td>0</td>\n",
       "      <td>0</td>\n",
       "      <td>15170</td>\n",
       "      <td>27</td>\n",
       "      <td>390</td>\n",
       "      <td>417</td>\n",
       "      <td>0.043478</td>\n",
       "      <td>0.065217</td>\n",
       "      <td>0.891304</td>\n",
       "      <td>0.000000</td>\n",
       "      <td>0.003032</td>\n",
       "      <td>0.000330</td>\n",
       "      <td>14.444444</td>\n",
       "    </tr>\n",
       "    <tr>\n",
       "      <th>liebesleben.de</th>\n",
       "      <td>7</td>\n",
       "      <td>0</td>\n",
       "      <td>2</td>\n",
       "      <td>5</td>\n",
       "      <td>0</td>\n",
       "      <td>4</td>\n",
       "      <td>5251</td>\n",
       "      <td>11</td>\n",
       "      <td>132</td>\n",
       "      <td>143</td>\n",
       "      <td>0.000000</td>\n",
       "      <td>0.285714</td>\n",
       "      <td>0.714286</td>\n",
       "      <td>0.000000</td>\n",
       "      <td>0.001333</td>\n",
       "      <td>0.000381</td>\n",
       "      <td>12.000000</td>\n",
       "    </tr>\n",
       "    <tr>\n",
       "      <th>netzwerk-ebd.de</th>\n",
       "      <td>12</td>\n",
       "      <td>0</td>\n",
       "      <td>2</td>\n",
       "      <td>9</td>\n",
       "      <td>1</td>\n",
       "      <td>0</td>\n",
       "      <td>7994</td>\n",
       "      <td>21</td>\n",
       "      <td>183</td>\n",
       "      <td>204</td>\n",
       "      <td>0.000000</td>\n",
       "      <td>0.166667</td>\n",
       "      <td>0.750000</td>\n",
       "      <td>0.083333</td>\n",
       "      <td>0.001501</td>\n",
       "      <td>0.000250</td>\n",
       "      <td>8.714286</td>\n",
       "    </tr>\n",
       "    <tr>\n",
       "      <th>nike.com</th>\n",
       "      <td>16</td>\n",
       "      <td>7</td>\n",
       "      <td>9</td>\n",
       "      <td>0</td>\n",
       "      <td>0</td>\n",
       "      <td>2</td>\n",
       "      <td>13667</td>\n",
       "      <td>6</td>\n",
       "      <td>564</td>\n",
       "      <td>570</td>\n",
       "      <td>0.437500</td>\n",
       "      <td>0.562500</td>\n",
       "      <td>0.000000</td>\n",
       "      <td>0.000000</td>\n",
       "      <td>0.001171</td>\n",
       "      <td>0.001171</td>\n",
       "      <td>94.000000</td>\n",
       "    </tr>\n",
       "    <tr>\n",
       "      <th>nytimes.com</th>\n",
       "      <td>78</td>\n",
       "      <td>1</td>\n",
       "      <td>7</td>\n",
       "      <td>70</td>\n",
       "      <td>0</td>\n",
       "      <td>1</td>\n",
       "      <td>21280</td>\n",
       "      <td>5</td>\n",
       "      <td>580</td>\n",
       "      <td>585</td>\n",
       "      <td>0.012821</td>\n",
       "      <td>0.089744</td>\n",
       "      <td>0.897436</td>\n",
       "      <td>0.000000</td>\n",
       "      <td>0.003665</td>\n",
       "      <td>0.000376</td>\n",
       "      <td>116.000000</td>\n",
       "    </tr>\n",
       "    <tr>\n",
       "      <th>oma-kocht.de</th>\n",
       "      <td>49</td>\n",
       "      <td>1</td>\n",
       "      <td>10</td>\n",
       "      <td>38</td>\n",
       "      <td>0</td>\n",
       "      <td>4</td>\n",
       "      <td>6391</td>\n",
       "      <td>13</td>\n",
       "      <td>292</td>\n",
       "      <td>305</td>\n",
       "      <td>0.020408</td>\n",
       "      <td>0.204082</td>\n",
       "      <td>0.775510</td>\n",
       "      <td>0.000000</td>\n",
       "      <td>0.007667</td>\n",
       "      <td>0.001721</td>\n",
       "      <td>22.461538</td>\n",
       "    </tr>\n",
       "    <tr>\n",
       "      <th>spd.de</th>\n",
       "      <td>3</td>\n",
       "      <td>1</td>\n",
       "      <td>0</td>\n",
       "      <td>2</td>\n",
       "      <td>0</td>\n",
       "      <td>1</td>\n",
       "      <td>3913</td>\n",
       "      <td>4</td>\n",
       "      <td>111</td>\n",
       "      <td>115</td>\n",
       "      <td>0.333333</td>\n",
       "      <td>0.000000</td>\n",
       "      <td>0.666667</td>\n",
       "      <td>0.000000</td>\n",
       "      <td>0.000767</td>\n",
       "      <td>0.000256</td>\n",
       "      <td>27.750000</td>\n",
       "    </tr>\n",
       "    <tr>\n",
       "      <th>wind-energie.de</th>\n",
       "      <td>11</td>\n",
       "      <td>6</td>\n",
       "      <td>3</td>\n",
       "      <td>2</td>\n",
       "      <td>0</td>\n",
       "      <td>6</td>\n",
       "      <td>42253</td>\n",
       "      <td>18</td>\n",
       "      <td>245</td>\n",
       "      <td>263</td>\n",
       "      <td>0.545455</td>\n",
       "      <td>0.272727</td>\n",
       "      <td>0.181818</td>\n",
       "      <td>0.000000</td>\n",
       "      <td>0.000260</td>\n",
       "      <td>0.000213</td>\n",
       "      <td>13.611111</td>\n",
       "    </tr>\n",
       "    <tr>\n",
       "      <th>windows-faq.de</th>\n",
       "      <td>14</td>\n",
       "      <td>0</td>\n",
       "      <td>11</td>\n",
       "      <td>3</td>\n",
       "      <td>0</td>\n",
       "      <td>1</td>\n",
       "      <td>8606</td>\n",
       "      <td>8</td>\n",
       "      <td>228</td>\n",
       "      <td>236</td>\n",
       "      <td>0.000000</td>\n",
       "      <td>0.785714</td>\n",
       "      <td>0.214286</td>\n",
       "      <td>0.000000</td>\n",
       "      <td>0.001627</td>\n",
       "      <td>0.001278</td>\n",
       "      <td>28.500000</td>\n",
       "    </tr>\n",
       "  </tbody>\n",
       "</table>\n",
       "</div>"
      ],
      "text/plain": [
       "                           total_images  big_images  middle_images  \\\n",
       "marginalie.hypotheses.org             5           1              3   \n",
       "ekd.de                               35           1             14   \n",
       "faz.net                              38           3              2   \n",
       "gamestar.de                          46           2              3   \n",
       "liebesleben.de                        7           0              2   \n",
       "netzwerk-ebd.de                      12           0              2   \n",
       "nike.com                             16           7              9   \n",
       "nytimes.com                          78           1              7   \n",
       "oma-kocht.de                         49           1             10   \n",
       "spd.de                                3           1              0   \n",
       "wind-energie.de                      11           6              3   \n",
       "windows-faq.de                       14           0             11   \n",
       "\n",
       "                           small_images  very_small_images  background_images  \\\n",
       "marginalie.hypotheses.org             0                  1                  0   \n",
       "ekd.de                               20                  0                  1   \n",
       "faz.net                              33                  0                  2   \n",
       "gamestar.de                          41                  0                  0   \n",
       "liebesleben.de                        5                  0                  4   \n",
       "netzwerk-ebd.de                       9                  1                  0   \n",
       "nike.com                              0                  0                  2   \n",
       "nytimes.com                          70                  0                  1   \n",
       "oma-kocht.de                         38                  0                  4   \n",
       "spd.de                                2                  0                  1   \n",
       "wind-energie.de                       2                  0                  6   \n",
       "windows-faq.de                        3                  0                  1   \n",
       "\n",
       "                           total_length  external_links  internal_links  \\\n",
       "marginalie.hypotheses.org         17994              27             232   \n",
       "ekd.de                            24889              15             485   \n",
       "faz.net                           54311              18             757   \n",
       "gamestar.de                       15170              27             390   \n",
       "liebesleben.de                     5251              11             132   \n",
       "netzwerk-ebd.de                    7994              21             183   \n",
       "nike.com                          13667               6             564   \n",
       "nytimes.com                       21280               5             580   \n",
       "oma-kocht.de                       6391              13             292   \n",
       "spd.de                             3913               4             111   \n",
       "wind-energie.de                   42253              18             245   \n",
       "windows-faq.de                     8606               8             228   \n",
       "\n",
       "                           total_links  RA_big_images/total_images  \\\n",
       "marginalie.hypotheses.org          259                    0.200000   \n",
       "ekd.de                             500                    0.028571   \n",
       "faz.net                            775                    0.078947   \n",
       "gamestar.de                        417                    0.043478   \n",
       "liebesleben.de                     143                    0.000000   \n",
       "netzwerk-ebd.de                    204                    0.000000   \n",
       "nike.com                           570                    0.437500   \n",
       "nytimes.com                        585                    0.012821   \n",
       "oma-kocht.de                       305                    0.020408   \n",
       "spd.de                             115                    0.333333   \n",
       "wind-energie.de                    263                    0.545455   \n",
       "windows-faq.de                     236                    0.000000   \n",
       "\n",
       "                           RA_middle_images/total_images  \\\n",
       "marginalie.hypotheses.org                       0.600000   \n",
       "ekd.de                                          0.400000   \n",
       "faz.net                                         0.052632   \n",
       "gamestar.de                                     0.065217   \n",
       "liebesleben.de                                  0.285714   \n",
       "netzwerk-ebd.de                                 0.166667   \n",
       "nike.com                                        0.562500   \n",
       "nytimes.com                                     0.089744   \n",
       "oma-kocht.de                                    0.204082   \n",
       "spd.de                                          0.000000   \n",
       "wind-energie.de                                 0.272727   \n",
       "windows-faq.de                                  0.785714   \n",
       "\n",
       "                           RA_small_images/total_images  \\\n",
       "marginalie.hypotheses.org                      0.000000   \n",
       "ekd.de                                         0.571429   \n",
       "faz.net                                        0.868421   \n",
       "gamestar.de                                    0.891304   \n",
       "liebesleben.de                                 0.714286   \n",
       "netzwerk-ebd.de                                0.750000   \n",
       "nike.com                                       0.000000   \n",
       "nytimes.com                                    0.897436   \n",
       "oma-kocht.de                                   0.775510   \n",
       "spd.de                                         0.666667   \n",
       "wind-energie.de                                0.181818   \n",
       "windows-faq.de                                 0.214286   \n",
       "\n",
       "                           RA_very_small_images/total_images  \\\n",
       "marginalie.hypotheses.org                           0.200000   \n",
       "ekd.de                                              0.000000   \n",
       "faz.net                                             0.000000   \n",
       "gamestar.de                                         0.000000   \n",
       "liebesleben.de                                      0.000000   \n",
       "netzwerk-ebd.de                                     0.083333   \n",
       "nike.com                                            0.000000   \n",
       "nytimes.com                                         0.000000   \n",
       "oma-kocht.de                                        0.000000   \n",
       "spd.de                                              0.000000   \n",
       "wind-energie.de                                     0.000000   \n",
       "windows-faq.de                                      0.000000   \n",
       "\n",
       "                           RA_total_images/total_length  \\\n",
       "marginalie.hypotheses.org                      0.000278   \n",
       "ekd.de                                         0.001406   \n",
       "faz.net                                        0.000700   \n",
       "gamestar.de                                    0.003032   \n",
       "liebesleben.de                                 0.001333   \n",
       "netzwerk-ebd.de                                0.001501   \n",
       "nike.com                                       0.001171   \n",
       "nytimes.com                                    0.003665   \n",
       "oma-kocht.de                                   0.007667   \n",
       "spd.de                                         0.000767   \n",
       "wind-energie.de                                0.000260   \n",
       "windows-faq.de                                 0.001627   \n",
       "\n",
       "                           RA_big_and_middle_images/total_length  \\\n",
       "marginalie.hypotheses.org                               0.000222   \n",
       "ekd.de                                                  0.000603   \n",
       "faz.net                                                 0.000092   \n",
       "gamestar.de                                             0.000330   \n",
       "liebesleben.de                                          0.000381   \n",
       "netzwerk-ebd.de                                         0.000250   \n",
       "nike.com                                                0.001171   \n",
       "nytimes.com                                             0.000376   \n",
       "oma-kocht.de                                            0.001721   \n",
       "spd.de                                                  0.000256   \n",
       "wind-energie.de                                         0.000213   \n",
       "windows-faq.de                                          0.001278   \n",
       "\n",
       "                           RA_internal_links/external_links  \n",
       "marginalie.hypotheses.org                          8.592593  \n",
       "ekd.de                                            32.333333  \n",
       "faz.net                                           42.055556  \n",
       "gamestar.de                                       14.444444  \n",
       "liebesleben.de                                    12.000000  \n",
       "netzwerk-ebd.de                                    8.714286  \n",
       "nike.com                                          94.000000  \n",
       "nytimes.com                                      116.000000  \n",
       "oma-kocht.de                                      22.461538  \n",
       "spd.de                                            27.750000  \n",
       "wind-energie.de                                   13.611111  \n",
       "windows-faq.de                                    28.500000  "
      ]
     },
     "execution_count": 27,
     "metadata": {},
     "output_type": "execute_result"
    }
   ],
   "source": [
    "ana.data_df"
   ]
  },
  {
   "cell_type": "code",
   "execution_count": null,
   "metadata": {},
   "outputs": [],
   "source": []
  },
  {
   "cell_type": "code",
   "execution_count": null,
   "metadata": {},
   "outputs": [],
   "source": []
  },
  {
   "cell_type": "code",
   "execution_count": null,
   "metadata": {},
   "outputs": [],
   "source": []
  },
  {
   "cell_type": "code",
   "execution_count": null,
   "metadata": {},
   "outputs": [],
   "source": []
  },
  {
   "cell_type": "markdown",
   "metadata": {},
   "source": [
    "# Testing stuff"
   ]
  },
  {
   "cell_type": "code",
   "execution_count": null,
   "metadata": {},
   "outputs": [],
   "source": [
    "#try and get live image sizes"
   ]
  },
  {
   "cell_type": "code",
   "execution_count": 34,
   "metadata": {},
   "outputs": [],
   "source": [
    "from selenium import webdriver\n",
    "from selenium.webdriver.support import expected_conditions as EC\n",
    "import time"
   ]
  },
  {
   "cell_type": "code",
   "execution_count": 42,
   "metadata": {},
   "outputs": [],
   "source": [
    "wbdriver = webdriver.Edge(\"webdriver/msedgedriver.exe\")"
   ]
  },
  {
   "cell_type": "code",
   "execution_count": 43,
   "metadata": {},
   "outputs": [],
   "source": [
    "page = wbdriver.get(\"https://www.faz.net\")"
   ]
  },
  {
   "cell_type": "code",
   "execution_count": 44,
   "metadata": {},
   "outputs": [],
   "source": [
    "wbdriver.maximize_window()"
   ]
  },
  {
   "cell_type": "code",
   "execution_count": 49,
   "metadata": {},
   "outputs": [],
   "source": [
    "\n",
    "for x in range(10):\n",
    "    wbdriver.execute_script(\"window.scrollTo(0,document.body.scrollHeight)\")\n",
    "    time.sleep(2)"
   ]
  },
  {
   "cell_type": "code",
   "execution_count": null,
   "metadata": {},
   "outputs": [],
   "source": []
  },
  {
   "cell_type": "code",
   "execution_count": 50,
   "metadata": {},
   "outputs": [],
   "source": [
    "imgs = wbdriver.find_elements_by_tag_name(\"img\")"
   ]
  },
  {
   "cell_type": "code",
   "execution_count": 51,
   "metadata": {},
   "outputs": [
    {
     "name": "stdout",
     "output_type": "stream",
     "text": [
      "https://media1.faz.net/ppmedia/aktuell/1103502508/1.6684701/avatar80x80/die-zahl-derer-die-sich.jpg\n",
      "https://media0.faz.net/ppmedia/aktuell/2571813293/1.7136426/format_top1_breit/ein-lehrer-in-einem-leeren.jpg\n",
      "https://media1.faz.net/ppmedia/aktuell/254045363/1.7136635/article_teaser_top2/mit-speer-und-ohne-t-shirt-im.jpg\n",
      "https://media0.faz.net/ppmedia/aktuell/politik/von-trump-zu-biden/1080348380/1.7136158/article_teaser_top2/donald-trump-am-donnerstag-im.jpg\n",
      "https://media0.faz.net/ppmedia/redaktion/3946603523/1.1123696/avatar50x50/jasper-von-altenbockum-kum.jpg\n",
      "https://media1.faz.net/ppmedia/aktuell/politik/fraktur/2608167345/1.7136399/article_teaser_top2/kann-ebenfalls-systemrelevant.jpg\n",
      "https://media0.faz.net/ppmedia/aktuell/politik/ausland/2515062192/1.7134532/article_teaser_top2/ende-oktober-im-nizza-trauer.jpg\n",
      "https://media0.faz.net/ppmedia/aktuell/wissen/1127451885/1.7132468/article_teaser_top2/aggressive-fremdgeher.jpg\n",
      "https://www.faz.net/img/leer.gif\n",
      "https://www.faz.net/img/leer.gif\n",
      "https://www.faz.net/img/leer.gif\n",
      "https://www.faz.net/img/leer.gif\n",
      "https://www.faz.net/img/leer.gif\n",
      "https://www.faz.net/img/leer.gif\n",
      "https://www.faz.net/img/leer.gif\n",
      "https://www.faz.net/img/leer.gif\n",
      "https://www.faz.net/img/leer.gif\n",
      "https://media0.faz.net/ppmedia/redaktion/1645399556/1.6049412/stoererbig/autorenportraet-theile-gustav.jpg\n",
      "https://media0.faz.net/ppmedia/redaktion/2839396282/1.6487204/stoererbig/autorenportraet-ross-andreas.jpg\n",
      "https://media1.faz.net/ppmedia/aktuell/3247582383/1.2906465/stoererbig/joachim-m-ller-jung.jpg\n",
      "https://media0.faz.net/ppmedia/aktuell/1459480383/1.5712554/stoererbig/autorenportraet-melanie-muehl.jpg\n",
      "https://media1.faz.net/ppmedia/redaktion/3961762516/1.6280019/stoererbig/autorenportraet-kohler.jpg\n",
      "https://media0.faz.net/ppmedia/redaktion/2974861340/1.5198258/stoererbig/autorenrportraet-gueler-aylin.jpg\n",
      "https://media0.faz.net/ppmedia/aktuell/714184398/1.6767634/stoererbig/autorenportraet-kehler-marie.jpg\n",
      "https://media0.faz.net/ppmedia/aktuell/3669181146/1.6844788/stoererbig/das-plenum-des-bundestages-am.jpg\n",
      "https://media1.faz.net/ppmedia/aktuell/1122568196/1.6849257/stoererbig/sicher-ist-nur-die.jpg\n",
      "https://media1.faz.net/ppmedia/aktuell/wirtschaft/3838791297/1.6834013/stoererbig/franziska-giffey-spd.jpg\n",
      "https://media0.faz.net/ppmedia/aktuell/sport/3744092440/1.6852914/stoererbig/67768113.jpg\n",
      "https://media1.faz.net/ppmedia/aktuell/1103502508/1.6684701/stoererbig/die-zahl-derer-die-sich.jpg\n",
      "https://media1.faz.net/ppmedia/aktuell/2967842002/1.6926075/stoererbig/joe-biden-will-einem-direkten.jpg\n",
      "https://www.faz.net/img/leer.gif\n",
      "https://www.faz.net/img/leer.gif\n",
      "https://www.faz.net/img/leer.gif\n",
      "https://www.faz.net/img/leer.gif\n",
      "https://media0.faz.net/ppmedia/aktuell/4014436135/1.7136188/multimedia_teaser/71155271.jpg\n",
      "https://media0.faz.net/ppmedia/aktuell/2596584891/1.7136068/article_teaser_ressortmodul/71154286.jpg\n",
      "https://media1.faz.net/ppmedia/aktuell/3335786131/1.7134323/article_teaser_ressortmodul/71138370.jpg\n",
      "https://media0.faz.net/ppmedia/aktuell/2483068356/1.7136218/article_teaser_ressortmodul/71155423.jpg\n",
      "https://www.faz.net/img/leer.gif\n",
      "https://www.faz.net/img/leer.gif\n",
      "https://www.faz.net/img/leer.gif\n",
      "https://www.faz.net/img/leer.gif\n",
      "https://www.faz.net/img/leer.gif\n",
      "https://www.faz.net/img/leer.gif\n",
      "https://www.faz.net/img/leer.gif\n",
      "https://www.faz.net/img/leer.gif\n",
      "https://www.faz.net/img/leer.gif\n",
      "https://www.faz.net/img/leer.gif\n",
      "https://www.faz.net/img/leer.gif\n",
      "https://www.faz.net/img/leer.gif\n",
      "https://www.faz.net/img/leer.gif\n",
      "https://www.faz.net/img/leer.gif\n",
      "https://www.faz.net/img/leer.gif\n",
      "https://www.faz.net/img/leer.gif\n",
      "https://www.faz.net/img/leer.gif\n",
      "https://www.faz.net/img/leer.gif\n",
      "https://dynamic.faz.net/red/2018/folgen-sie-uns/facebook.svg\n",
      "https://dynamic.faz.net/red/2018/folgen-sie-uns/instagram.svg\n",
      "https://dynamic.faz.net/red/2018/folgen-sie-uns/twitter.svg\n",
      "https://dynamic.faz.net/red/2018/folgen-sie-uns/whatsapp.svg\n",
      "https://dynamic.faz.net/red/2018/folgen-sie-uns/linkedin.svg\n",
      "https://dynamic.faz.net/red/2018/folgen-sie-uns/xing.svg\n",
      "https://www.faz.net/img/leer.gif\n",
      "https://www.faz.net/img/leer.gif\n",
      "https://www.faz.net/img/leer.gif\n",
      "https://www.faz.net/img/leer.gif\n",
      "https://www.faz.net/img/leer.gif\n",
      "https://www.faz.net/img/leer.gif\n",
      "https://www.faz.net/img/leer.gif\n",
      "https://www.faz.net/img/leer.gif\n",
      "https://www.faz.net/img/leer.gif\n",
      "https://www.faz.net/img/leer.gif\n",
      "https://www.faz.net/img/leer.gif\n",
      "https://www.faz.net/img/leer.gif\n",
      "https://www.faz.net/img/leer.gif\n",
      "https://www.faz.net/img/leer.gif\n",
      "https://www.faz.net/cp10800/-blogs-/statictimthumb/wp-content/blogs.dir/100/files/2018/05/cropped-Vorschaubild-Schlaflos-NEU2-260x146_c.jpg\n",
      "https://www.faz.net/cp10800/-blogs-/statictimthumb/wp-content/blogs.dir/16/files/2017/08/cropped-blog_vorschaubild_comic-260x146_c.jpg\n",
      "https://www.faz.net/cp10800/-blogs-/statictimthumb/wp-content/blogs.dir/8/files/2017/08/cropped-blog_vorschaubild_fazit-260x146_c.jpg\n",
      "https://www.faz.net/img/leer.gif\n",
      "https://www.faz.net/img/leer.gif\n",
      "https://www.faz.net/img/leer.gif\n",
      "https://www.faz.net/img/leer.gif\n",
      "https://www.faz.net/img/leer.gif\n",
      "https://www.faz.net/img/leer.gif\n",
      "https://www.faz.net/img/leer.gif\n",
      "https://www.faz.net/img/leer.gif\n",
      "https://www.faz.net/img/leer.gif\n",
      "https://www.faz.net/img/leer.gif\n",
      "https://www.faz.net/img/leer.gif\n",
      "https://www.faz.net/img/leer.gif\n",
      "https://www.faz.net/img/leer.gif\n",
      "https://www.faz.net/img/leer.gif\n",
      "https://www.faz.net/img/leer.gif\n",
      "https://www.faz.net/img/leer.gif\n",
      "https://www.faz.net/img/leer.gif\n",
      "https://www.faz.net/img/leer.gif\n",
      "https://www.faz.net/img/leer.gif\n",
      "https://www.faz.net/img/leer.gif\n",
      "https://www.faz.net/img/leer.gif\n",
      "https://www.faz.net/img/leer.gif\n",
      "https://www.faz.net/img/leer.gif\n",
      "https://www.faz.net/img/leer.gif\n",
      "https://www.faz.net/img/leer.gif\n",
      "https://www.faz.net/img/leer.gif\n",
      "https://www.faz.net/img/leer.gif\n",
      "https://www.faz.net/img/leer.gif\n",
      "https://www.faz.net/img/leer.gif\n",
      "https://www.faz.net/img/leer.gif\n",
      "https://www.faz.net/img/leer.gif\n",
      "https://www.faz.net/img/leer.gif\n",
      "https://www.faz.net/img/leer.gif\n",
      "https://www.faz.net/img/leer.gif\n",
      "https://www.faz.net/img/leer.gif\n",
      "https://www.faz.net/img/leer.gif\n",
      "https://www.faz.net/img/leer.gif\n",
      "https://www.faz.net/img/leer.gif\n",
      "https://www.faz.net/img/leer.gif\n",
      "https://www.faz.net/img/leer.gif\n",
      "https://www.faz.net/img/leer.gif\n",
      "https://www.faz.net/img/leer.gif\n",
      "https://www.faz.net/img/leer.gif\n",
      "https://www.faz.net/img/leer.gif\n",
      "https://www.faz.net/img/leer.gif\n",
      "https://www.faz.net/img/leer.gif\n",
      "https://www.faz.net/img/leer.gif\n",
      "https://www.faz.net/img/leer.gif\n",
      "https://www.faz.net/img/leer.gif\n",
      "https://www.faz.net/img/leer.gif\n",
      "https://media0.faz.net/ppmedia/aktuell/fotografie/1731802363/1.6808460/article_teaser_ressortmodul_leadwide/platz-ist-auf-dem-kleinsten.jpg\n"
     ]
    }
   ],
   "source": [
    "true_counter = 0\n",
    "for img in imgs:\n",
    "    if img.is_displayed():\n",
    "        true_counter += 1\n",
    "        print(img.get_attribute(\"src\"))"
   ]
  },
  {
   "cell_type": "code",
   "execution_count": 52,
   "metadata": {},
   "outputs": [
    {
     "data": {
      "text/plain": [
       "130"
      ]
     },
     "execution_count": 52,
     "metadata": {},
     "output_type": "execute_result"
    }
   ],
   "source": [
    "true_counter"
   ]
  },
  {
   "cell_type": "code",
   "execution_count": 68,
   "metadata": {},
   "outputs": [
    {
     "name": "stdout",
     "output_type": "stream",
     "text": [
      "url(\"https://static01.nyt.com/newsgraphics/2020/03/16/coronavirus-maps/5990fca4458a05ec9a94c765b40d83fe0b2485fe/build/curve-grid/cases/total/USA.svg\")\n",
      "url(\"https://static01.nyt.com/newsgraphics/2020/03/16/coronavirus-maps/5990fca4458a05ec9a94c765b40d83fe0b2485fe/build/curve-grid/cases/total/IND.svg\")\n",
      "url(\"https://static01.nyt.com/newsgraphics/2020/03/16/coronavirus-maps/5990fca4458a05ec9a94c765b40d83fe0b2485fe/build/curve-grid/cases/total/BRA.svg\")\n",
      "url(\"https://static01.nyt.com/newsgraphics/2020/03/16/coronavirus-maps/5990fca4458a05ec9a94c765b40d83fe0b2485fe/build/curve-grid/cases/total/GBR.svg\")\n",
      "url(\"https://static01.nyt.com/newsgraphics/2020/03/16/coronavirus-maps/5990fca4458a05ec9a94c765b40d83fe0b2485fe/build/curve-grid/cases/total/MEX.svg\")\n",
      "url(\"https://static01.nyt.com/newsgraphics/2020/03/16/coronavirus-maps/5990fca4458a05ec9a94c765b40d83fe0b2485fe/build/curve-grid/cases/total/CAN.svg\")\n"
     ]
    }
   ],
   "source": [
    "for bb in bck:\n",
    "    print(bb.value_of_css_property(\"background-image\"))"
   ]
  },
  {
   "cell_type": "code",
   "execution_count": 72,
   "metadata": {},
   "outputs": [
    {
     "ename": "AttributeError",
     "evalue": "'WebDriver' object has no attribute 'find_element_by_text'",
     "output_type": "error",
     "traceback": [
      "\u001b[1;31m---------------------------------------------------------------------------\u001b[0m",
      "\u001b[1;31mAttributeError\u001b[0m                            Traceback (most recent call last)",
      "\u001b[1;32m<ipython-input-72-20d6834d932f>\u001b[0m in \u001b[0;36m<module>\u001b[1;34m\u001b[0m\n\u001b[1;32m----> 1\u001b[1;33m \u001b[0melem\u001b[0m \u001b[1;33m=\u001b[0m \u001b[0mwbdriver\u001b[0m\u001b[1;33m.\u001b[0m\u001b[0mfind_element_by_text\u001b[0m\u001b[1;33m(\u001b[0m\u001b[1;34m\"Subscribe now\"\u001b[0m\u001b[1;33m)\u001b[0m\u001b[1;33m\u001b[0m\u001b[1;33m\u001b[0m\u001b[0m\n\u001b[0m",
      "\u001b[1;31mAttributeError\u001b[0m: 'WebDriver' object has no attribute 'find_element_by_text'"
     ]
    }
   ],
   "source": [
    "elem = wbdriver.find_element_by_text(\"Subscribe now\")"
   ]
  },
  {
   "cell_type": "code",
   "execution_count": 77,
   "metadata": {},
   "outputs": [
    {
     "data": {
      "text/plain": [
       "78"
      ]
     },
     "execution_count": 77,
     "metadata": {},
     "output_type": "execute_result"
    }
   ],
   "source": [
    "true_counter"
   ]
  },
  {
   "cell_type": "code",
   "execution_count": 78,
   "metadata": {},
   "outputs": [
    {
     "data": {
      "text/plain": [
       "118"
      ]
     },
     "execution_count": 78,
     "metadata": {},
     "output_type": "execute_result"
    }
   ],
   "source": [
    "len(imgs)"
   ]
  },
  {
   "cell_type": "code",
   "execution_count": null,
   "metadata": {},
   "outputs": [],
   "source": []
  }
 ],
 "metadata": {
  "kernelspec": {
   "display_name": "Python 3",
   "language": "python",
   "name": "python3"
  },
  "language_info": {
   "codemirror_mode": {
    "name": "ipython",
    "version": 3
   },
   "file_extension": ".py",
   "mimetype": "text/x-python",
   "name": "python",
   "nbconvert_exporter": "python",
   "pygments_lexer": "ipython3",
   "version": "3.9.1"
  }
 },
 "nbformat": 4,
 "nbformat_minor": 4
}
