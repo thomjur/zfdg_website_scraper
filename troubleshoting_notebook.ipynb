{
 "cells": [
  {
   "cell_type": "code",
   "execution_count": 1,
   "metadata": {},
   "outputs": [],
   "source": [
    "from bs4 import BeautifulSoup\n",
    "from urllib.parse import urljoin, urlparse\n",
    "import shutil, os, time, datetime, re\n",
    "import pandas as pd\n",
    "from PIL import Image\n",
    "from scraper import DataPreparation, Corpus\n",
    "from analyzer import Analyzer"
   ]
  },
  {
   "cell_type": "markdown",
   "metadata": {},
   "source": [
    "# TODO\n",
    "\n",
    "- carousel finder\n",
    "- select some features from builtwith\n",
    "\n",
    "# WORKFLOW\n",
    "\n",
    "1. Create Corpus with `Corpus.initCorpus()` (once initialized, you do not have to initialize it again).\n",
    "2. Prepare the website data in the corpus (via `DataPreparation()` class).\n",
    "\n",
    "    1. Download and analyze images via `DataPreparation.getImages()`.\n",
    "    2. Once you have downloaded the data for the current corpus, you do not need to download and analyze the images again. You can no access them via `DataPreparation.getImagesFromPickle()`.\n",
    "    3. Analyze the infrastructure of the websites with `DataPreparation.getBuiltWith()`. Once you have done this, you can access the data via `DataPreparation.getBuiltWithFromPickle()`.\n",
    "    4. Create and save a dictionary with all the results (except those from `DataPreparation.getBuiltWith()`) via `DataPreparation.createAnalyzerDict()`.\n",
    "\n",
    "3. The clustering of the data dictionary and the analysis of the `builtwith` data are conducted with the `Analyzer` class.\n",
    "    1.To cluster the data in the dictionary created with `DataPreparation.createAnalyzerDict()`, the user can choose the columns that should be selected with the help of the method `Analyzer.setColumnSelection()`. The data can then be clustered with the method `Analyzer.clusterDataKMeans()`. However, it is advisable to standardize the data first with the method `Analyzer.standardizeData()`.\n",
    "    2. To figure out which n works best in the `Analyzer.clusterDataKMeans()` method, the user can use `Analyzer.createElbowPlot()`.\n",
    "    3. The results of the clustering can be visualized with `Analyzer.visualizeCluster()`-\n",
    "    4. To analyze the `builtwith` data, the user first needs to execute `Analyzer.getBuiltWithCategorical()`.\n",
    "    5. Then, the data can be anaylzed using cosine with `Analyzer.getCosine4CategoricalData()`."
   ]
  },
  {
   "cell_type": "markdown",
   "metadata": {},
   "source": [
    "# Corpus Creation"
   ]
  },
  {
   "cell_type": "code",
   "execution_count": null,
   "metadata": {},
   "outputs": [],
   "source": [
    "cp = Corpus()"
   ]
  },
  {
   "cell_type": "code",
   "execution_count": null,
   "metadata": {},
   "outputs": [],
   "source": [
    "cp.initCorpus()"
   ]
  },
  {
   "cell_type": "markdown",
   "metadata": {},
   "source": [
    "# Data Preparation"
   ]
  },
  {
   "cell_type": "code",
   "execution_count": 3,
   "metadata": {},
   "outputs": [],
   "source": [
    "dp = DataPreparation()"
   ]
  },
  {
   "cell_type": "code",
   "execution_count": 2,
   "metadata": {},
   "outputs": [],
   "source": [
    "#dp.getImages()"
   ]
  },
  {
   "cell_type": "code",
   "execution_count": null,
   "metadata": {},
   "outputs": [],
   "source": [
    "#bw_dict = dp.getBuiltWith()"
   ]
  },
  {
   "cell_type": "code",
   "execution_count": null,
   "metadata": {},
   "outputs": [],
   "source": [
    "#bw_dict = dp.getBuiltWithFromPickle()"
   ]
  },
  {
   "cell_type": "code",
   "execution_count": null,
   "metadata": {},
   "outputs": [],
   "source": [
    "#bw_dict"
   ]
  },
  {
   "cell_type": "code",
   "execution_count": 4,
   "metadata": {},
   "outputs": [
    {
     "name": "stdout",
     "output_type": "stream",
     "text": [
      "<DirEntry 'INFO.txt'>\n",
      "<DirEntry 'www.nytimes.com.html'>\n",
      "Current netloc nytimes.com of type <class 'str'>\n"
     ]
    }
   ],
   "source": [
    "data_dict = dp.createAnalyzerDict()"
   ]
  },
  {
   "cell_type": "code",
   "execution_count": null,
   "metadata": {},
   "outputs": [],
   "source": []
  },
  {
   "cell_type": "code",
   "execution_count": null,
   "metadata": {},
   "outputs": [],
   "source": []
  },
  {
   "cell_type": "code",
   "execution_count": null,
   "metadata": {},
   "outputs": [],
   "source": []
  },
  {
   "cell_type": "code",
   "execution_count": null,
   "metadata": {},
   "outputs": [],
   "source": []
  },
  {
   "cell_type": "code",
   "execution_count": null,
   "metadata": {},
   "outputs": [],
   "source": []
  },
  {
   "cell_type": "code",
   "execution_count": null,
   "metadata": {},
   "outputs": [],
   "source": []
  },
  {
   "cell_type": "code",
   "execution_count": null,
   "metadata": {},
   "outputs": [],
   "source": []
  },
  {
   "cell_type": "code",
   "execution_count": null,
   "metadata": {},
   "outputs": [],
   "source": []
  },
  {
   "cell_type": "code",
   "execution_count": null,
   "metadata": {},
   "outputs": [],
   "source": []
  },
  {
   "cell_type": "code",
   "execution_count": null,
   "metadata": {},
   "outputs": [],
   "source": []
  },
  {
   "cell_type": "markdown",
   "metadata": {},
   "source": [
    "# Analysis"
   ]
  },
  {
   "cell_type": "code",
   "execution_count": 5,
   "metadata": {},
   "outputs": [],
   "source": [
    "ana = Analyzer()"
   ]
  },
  {
   "cell_type": "code",
   "execution_count": null,
   "metadata": {},
   "outputs": [],
   "source": [
    " "
   ]
  },
  {
   "cell_type": "code",
   "execution_count": null,
   "metadata": {},
   "outputs": [],
   "source": [
    "# Categorical Data from builtwith"
   ]
  },
  {
   "cell_type": "code",
   "execution_count": null,
   "metadata": {},
   "outputs": [],
   "source": [
    "bw_data = ana.getBuiltWithCategorical()"
   ]
  },
  {
   "cell_type": "code",
   "execution_count": null,
   "metadata": {},
   "outputs": [],
   "source": [
    "bw_clustered = ana.getCosine4CategoricalData(bw_data)"
   ]
  },
  {
   "cell_type": "code",
   "execution_count": null,
   "metadata": {},
   "outputs": [],
   "source": [
    "bw_data"
   ]
  },
  {
   "cell_type": "code",
   "execution_count": null,
   "metadata": {},
   "outputs": [],
   "source": [
    "bw_clustered"
   ]
  },
  {
   "cell_type": "code",
   "execution_count": null,
   "metadata": {},
   "outputs": [],
   "source": []
  },
  {
   "cell_type": "code",
   "execution_count": null,
   "metadata": {},
   "outputs": [],
   "source": []
  },
  {
   "cell_type": "code",
   "execution_count": null,
   "metadata": {},
   "outputs": [],
   "source": [
    "# KMeans clustering and standardization"
   ]
  },
  {
   "cell_type": "code",
   "execution_count": null,
   "metadata": {},
   "outputs": [],
   "source": [
    "ana.setColumnSelection(['big_images', \"small_images\", \"total_length\"])"
   ]
  },
  {
   "cell_type": "code",
   "execution_count": 6,
   "metadata": {},
   "outputs": [
    {
     "name": "stdout",
     "output_type": "stream",
     "text": [
      "Currently, the following columns are selected: ['total_images', 'big_images', 'middle_images', 'small_images', 'background_images', 'total_length', 'external_links', 'internal_links', 'total_links']\n"
     ]
    }
   ],
   "source": [
    "ana.getColumnSelection()"
   ]
  },
  {
   "cell_type": "code",
   "execution_count": 7,
   "metadata": {},
   "outputs": [
    {
     "data": {
      "text/html": [
       "<div>\n",
       "<style scoped>\n",
       "    .dataframe tbody tr th:only-of-type {\n",
       "        vertical-align: middle;\n",
       "    }\n",
       "\n",
       "    .dataframe tbody tr th {\n",
       "        vertical-align: top;\n",
       "    }\n",
       "\n",
       "    .dataframe thead th {\n",
       "        text-align: right;\n",
       "    }\n",
       "</style>\n",
       "<table border=\"1\" class=\"dataframe\">\n",
       "  <thead>\n",
       "    <tr style=\"text-align: right;\">\n",
       "      <th></th>\n",
       "      <th>total_images</th>\n",
       "      <th>big_images</th>\n",
       "      <th>middle_images</th>\n",
       "      <th>small_images</th>\n",
       "      <th>background_images</th>\n",
       "      <th>total_length</th>\n",
       "      <th>external_links</th>\n",
       "      <th>internal_links</th>\n",
       "      <th>total_links</th>\n",
       "    </tr>\n",
       "  </thead>\n",
       "  <tbody>\n",
       "    <tr>\n",
       "      <th>nytimes.com</th>\n",
       "      <td>47</td>\n",
       "      <td>17</td>\n",
       "      <td>17</td>\n",
       "      <td>7</td>\n",
       "      <td>6</td>\n",
       "      <td>7229</td>\n",
       "      <td>5</td>\n",
       "      <td>128</td>\n",
       "      <td>133</td>\n",
       "    </tr>\n",
       "  </tbody>\n",
       "</table>\n",
       "</div>"
      ],
      "text/plain": [
       "             total_images  big_images  middle_images  small_images  \\\n",
       "nytimes.com            47          17             17             7   \n",
       "\n",
       "             background_images  total_length  external_links  internal_links  \\\n",
       "nytimes.com                  6          7229               5             128   \n",
       "\n",
       "             total_links  \n",
       "nytimes.com          133  "
      ]
     },
     "execution_count": 7,
     "metadata": {},
     "output_type": "execute_result"
    }
   ],
   "source": [
    "ana.data_df"
   ]
  },
  {
   "cell_type": "code",
   "execution_count": null,
   "metadata": {},
   "outputs": [],
   "source": [
    "standardized_data = ana.standardizeData(ana.data_df)"
   ]
  },
  {
   "cell_type": "code",
   "execution_count": null,
   "metadata": {},
   "outputs": [],
   "source": [
    "clustered_data = ana.clusterDataKMeans(standardized_data, n=5)"
   ]
  },
  {
   "cell_type": "code",
   "execution_count": null,
   "metadata": {},
   "outputs": [],
   "source": [
    "ana.createElbowPlot(standardized_data)"
   ]
  },
  {
   "cell_type": "code",
   "execution_count": null,
   "metadata": {},
   "outputs": [],
   "source": [
    "#ana.visualizeCluster(clustered_data, \"total_length\", \"total_images\")"
   ]
  },
  {
   "cell_type": "code",
   "execution_count": null,
   "metadata": {},
   "outputs": [],
   "source": [
    "clustered_data"
   ]
  },
  {
   "cell_type": "code",
   "execution_count": null,
   "metadata": {},
   "outputs": [],
   "source": [
    "normal_df = ana.data_df[[\"big_images\", \"small_images\", \"total_length\"]]"
   ]
  },
  {
   "cell_type": "code",
   "execution_count": null,
   "metadata": {},
   "outputs": [],
   "source": [
    "normal_df[\"clusters\"] = clustered_data[\"clusters\"]"
   ]
  },
  {
   "cell_type": "code",
   "execution_count": null,
   "metadata": {},
   "outputs": [],
   "source": [
    "normal_df"
   ]
  },
  {
   "cell_type": "code",
   "execution_count": null,
   "metadata": {},
   "outputs": [],
   "source": [
    "ana.visualizeCluster(normal_df, \"total_length\", \"total_images\")"
   ]
  },
  {
   "cell_type": "code",
   "execution_count": null,
   "metadata": {},
   "outputs": [],
   "source": []
  },
  {
   "cell_type": "code",
   "execution_count": null,
   "metadata": {},
   "outputs": [],
   "source": []
  },
  {
   "cell_type": "markdown",
   "metadata": {},
   "source": [
    "# Testing stuff"
   ]
  },
  {
   "cell_type": "code",
   "execution_count": null,
   "metadata": {},
   "outputs": [],
   "source": [
    "#try and get live image sizes"
   ]
  },
  {
   "cell_type": "code",
   "execution_count": 59,
   "metadata": {},
   "outputs": [],
   "source": [
    "from selenium import webdriver\n",
    "from selenium.webdriver.support import expected_conditions as EC"
   ]
  },
  {
   "cell_type": "code",
   "execution_count": 35,
   "metadata": {},
   "outputs": [],
   "source": [
    "wbdriver = webdriver.Edge(\"webdriver/msedgedriver.exe\")"
   ]
  },
  {
   "cell_type": "code",
   "execution_count": 60,
   "metadata": {},
   "outputs": [],
   "source": [
    "page = wbdriver.get(\"https://www.nytimes.com\")"
   ]
  },
  {
   "cell_type": "code",
   "execution_count": 37,
   "metadata": {},
   "outputs": [],
   "source": [
    "wbdriver.maximize_window()"
   ]
  },
  {
   "cell_type": "code",
   "execution_count": 74,
   "metadata": {},
   "outputs": [],
   "source": [
    "imgs = wbdriver.find_elements_by_tag_name(\"img\")"
   ]
  },
  {
   "cell_type": "code",
   "execution_count": 76,
   "metadata": {},
   "outputs": [
    {
     "name": "stdout",
     "output_type": "stream",
     "text": [
      "https://static01.nyt.com/images/2017/01/29/podcasts/the-daily-album-art/the-daily-album-art-square320-v4.png\n",
      "{'height': 45, 'width': 45}\n",
      "True\n",
      "https://static01.nyt.com/images/2020/09/03/podcasts/sway-album-art/sway-album-art-square320-v10.jpg\n",
      "{'height': 45, 'width': 45}\n",
      "True\n",
      "https://static01.nyt.com/images/2020/12/10/multimedia/tips-bb-promo-image/tips-bb-promo-1607639510132-thumbLarge.png\n",
      "{'height': 45, 'width': 45}\n",
      "True\n",
      "https://static01.nyt.com/images/2021/01/05/us/05GEORGIA-hp-slide-BW5U/05GEORGIA-hp-slide-BW5U-videoSixteenByNine1050-v2.jpg\n",
      "{'height': 329, 'width': 585}\n",
      "False\n",
      "https://static01.nyt.com/images/2021/01/05/us/05GEORGIA-hp-slide-JS40/05GEORGIA-hp-slide-JS40-videoSixteenByNine1050-v2.jpg\n",
      "{'height': 329, 'width': 585}\n",
      "True\n",
      "https://static01.nyt.com/images/2021/01/05/us/05GEORGIA-hp-slide-9XVV/05GEORGIA-hp-slide-9XVV-videoSixteenByNine1050-v2.jpg\n",
      "{'height': 329, 'width': 585}\n",
      "False\n",
      "https://static01.nyt.com/images/2021/01/05/us/05GEORGIA-hp-slide-1RFN/05GEORGIA-hp-slide-1RFN-videoSixteenByNine1050-v2.jpg\n",
      "{'height': 329, 'width': 585}\n",
      "False\n",
      "https://static01.nyt.com/images/2021/01/05/us/05GEORGIA-hp-slide-O8W6/05GEORGIA-hp-slide-O8W6-videoSixteenByNine1050-v2.jpg\n",
      "{'height': 329, 'width': 585}\n",
      "False\n",
      "https://static01.nyt.com/images/2021/01/05/us/05GEORGIA-hp-slide-1XTY/05GEORGIA-hp-slide-1XTY-videoSixteenByNine1050-v2.jpg\n",
      "{'height': 329, 'width': 585}\n",
      "False\n",
      "https://static01.nyt.com/images/2021/02/04/multimedia/04georgia-senateHP3/04georgia-senateHP3-square640-v2.jpg?format=pjpg\n",
      "{'height': 114, 'width': 114}\n",
      "True\n",
      "https://static01.nyt.com/images/2021/01/05/us/5hpwatch1/5hpwatch1-square640-v2.jpg?format=pjpg\n",
      "{'height': 114, 'width': 114}\n",
      "True\n",
      "https://static01.nyt.com/images/2021/01/05/us/5hpvote2/5hpvote2-square640-v2.jpg?format=pjpg\n",
      "{'height': 114, 'width': 114}\n",
      "True\n",
      "https://static01.nyt.com/images/2021/01/04/us/politics/04dc-hawley/04dc-hawley-threeByTwoSmallAt2X.jpg?quality=75&auto=webp&disable=upscale\n",
      "{'height': 197, 'width': 295}\n",
      "True\n",
      "https://static01.nyt.com/images/2021/01/05/slideshows/PM-covid-update-slide-MCBX/PM-covid-update-slide-MCBX-master1050.jpg\n",
      "{'height': 0, 'width': 0}\n",
      "False\n",
      "https://static01.nyt.com/images/2021/01/05/slideshows/PM-covid-update-slide-MCBX/PM-covid-update-slide-MCBX-square640-v2.jpg\n",
      "{'height': 0, 'width': 0}\n",
      "False\n",
      "https://static01.nyt.com/images/2021/01/05/slideshows/PM-covid-update-slide-93FY/PM-covid-update-slide-93FY-master1050.jpg\n",
      "{'height': 0, 'width': 0}\n",
      "False\n",
      "https://static01.nyt.com/images/2021/01/05/slideshows/PM-covid-update-slide-93FY/PM-covid-update-slide-93FY-square640-v2.jpg\n",
      "{'height': 0, 'width': 0}\n",
      "False\n",
      "https://static01.nyt.com/images/2021/01/04/world/04VIRUS-tab-slide-JXSE/04VIRUS-tab-slide-JXSE-master1050.jpg\n",
      "{'height': 0, 'width': 0}\n",
      "False\n",
      "https://static01.nyt.com/images/2021/01/04/world/04VIRUS-tab-slide-JXSE/04VIRUS-tab-slide-JXSE-square640.jpg\n",
      "{'height': 0, 'width': 0}\n",
      "False\n",
      "https://static01.nyt.com/images/2021/01/05/slideshows/PM-covid-update-slide-EMP8/PM-covid-update-slide-EMP8-master1050.jpg\n",
      "{'height': 0, 'width': 0}\n",
      "False\n",
      "https://static01.nyt.com/images/2021/01/05/slideshows/PM-covid-update-slide-EMP8/PM-covid-update-slide-EMP8-square640-v2.jpg\n",
      "{'height': 0, 'width': 0}\n",
      "False\n",
      "https://static01.nyt.com/images/2021/01/05/slideshows/PM-covid-update-slide-HNZE/PM-covid-update-slide-HNZE-master1050.jpg\n",
      "{'height': 0, 'width': 0}\n",
      "False\n",
      "https://static01.nyt.com/images/2021/01/05/slideshows/PM-covid-update-slide-HNZE/PM-covid-update-slide-HNZE-square640-v2.jpg\n",
      "{'height': 0, 'width': 0}\n",
      "False\n",
      "https://static01.nyt.com/images/2021/01/05/slideshows/PM-covid-update-slide-4TMA/PM-covid-update-slide-4TMA-master1050.jpg\n",
      "{'height': 0, 'width': 0}\n",
      "False\n",
      "https://static01.nyt.com/images/2021/01/05/slideshows/PM-covid-update-slide-4TMA/PM-covid-update-slide-4TMA-square640.jpg\n",
      "{'height': 0, 'width': 0}\n",
      "False\n",
      "https://static01.nyt.com/images/2021/01/04/multimedia/04amvirus-fader04/merlin_181956753_ef120116-77a8-4904-9a04-b0af983199b3-master1050.jpg\n",
      "{'height': 0, 'width': 0}\n",
      "False\n",
      "https://static01.nyt.com/images/2021/01/04/multimedia/04amvirus-fader04/merlin_181956753_ef120116-77a8-4904-9a04-b0af983199b3-square640.jpg\n",
      "{'height': 0, 'width': 0}\n",
      "False\n",
      "https://static01.nyt.com/images/2021/01/05/slideshows/PM-covid-update-slide-GI7F/PM-covid-update-slide-GI7F-master1050.jpg\n",
      "{'height': 0, 'width': 0}\n",
      "False\n",
      "https://static01.nyt.com/images/2021/01/05/slideshows/PM-covid-update-slide-GI7F/PM-covid-update-slide-GI7F-square640.jpg\n",
      "{'height': 0, 'width': 0}\n",
      "False\n",
      "https://static01.nyt.com/images/2021/01/05/slideshows/PM-covid-update-slide-2MBY/PM-covid-update-slide-2MBY-master1050.jpg\n",
      "{'height': 0, 'width': 0}\n",
      "False\n",
      "https://static01.nyt.com/images/2021/01/05/slideshows/PM-covid-update-slide-2MBY/PM-covid-update-slide-2MBY-square640-v2.jpg\n",
      "{'height': 0, 'width': 0}\n",
      "False\n",
      "https://static01.nyt.com/images/2020/07/21/us/cases_orphan_usa-1595349567192/cases_orphan_usa-1595349567192-master1050-v511.png\n",
      "{'height': 0, 'width': 0}\n",
      "False\n",
      "https://static01.nyt.com/images/2020/07/21/us/cases_orphan_usa-1595349567192/cases_orphan_usa-1595349567192-square640-v1013.png\n",
      "{'height': 0, 'width': 0}\n",
      "False\n",
      "https://static01.nyt.com/newsgraphics/2020/03/16/coronavirus-maps/5990fca4458a05ec9a94c765b40d83fe0b2485fe/images/orphan_usa-threeByTwoSmallAt2X.png\n",
      "{'height': 69, 'width': 103}\n",
      "True\n",
      "https://static01.nytimes.com/newsgraphics/2020/12/09/vaccine-distribution-tracker/assets/scoop-vaccine-distribution-tracker-threeByTwoSmallAt2X.png\n",
      "{'height': 0, 'width': 0}\n",
      "False\n",
      "https://static01.nyt.com/newsgraphics/2020/03/16/coronavirus-maps/5990fca4458a05ec9a94c765b40d83fe0b2485fe/images/orphan_world-threeByTwoSmallAt2X.png\n",
      "{'height': 69, 'width': 103}\n",
      "True\n",
      "https://static01.nyt.com/newsgraphics/2020/03/16/coronavirus-maps/5990fca4458a05ec9a94c765b40d83fe0b2485fe/images/orphan_usa-threeByTwoSmallAt2X.png\n",
      "{'height': 0, 'width': 0}\n",
      "False\n",
      "https://static01.nyt.com/newsgraphics/2020/03/16/coronavirus-maps/5990fca4458a05ec9a94c765b40d83fe0b2485fe/images/orphan_world-threeByTwoSmallAt2X.png\n",
      "{'height': 0, 'width': 0}\n",
      "False\n",
      "https://static01.nyt.com/newsgraphics/2020/03/16/coronavirus-maps/5990fca4458a05ec9a94c765b40d83fe0b2485fe/images/footer-thumbs/vaccines.png\n",
      "{'height': 0, 'width': 0}\n",
      "False\n",
      "https://static01.nyt.com/newsgraphics/2020/03/16/coronavirus-maps/5990fca4458a05ec9a94c765b40d83fe0b2485fe/images/orphan_usa-threeByTwoSmallAt2X.png\n",
      "{'height': 0, 'width': 0}\n",
      "False\n",
      "https://static01.nyt.com/newsgraphics/2020/03/16/coronavirus-maps/5990fca4458a05ec9a94c765b40d83fe0b2485fe/images/orphan_world-threeByTwoSmallAt2X.png\n",
      "{'height': 0, 'width': 0}\n",
      "False\n",
      "https://static01.nyt.com/newsgraphics/2020/03/16/coronavirus-maps/5990fca4458a05ec9a94c765b40d83fe0b2485fe/images/footer-thumbs/vaccines.png\n",
      "{'height': 0, 'width': 0}\n",
      "False\n",
      "https://static01.nyt.com/images/2021/01/10/magazine/10mag-PointsGuy/10mag-PointsGuy-threeByTwoMediumAt2X.jpg?quality=75&auto=webp&disable=upscale&width=1100\n",
      "{'height': 333, 'width': 499}\n",
      "True\n",
      "https://static01.nyt.com/images/2018/04/03/opinion/ross-douthat/ross-douthat-thumbLarge.png?quality=75&auto=webp&disable=upscale\n",
      "{'height': 36, 'width': 36}\n",
      "True\n",
      "https://static01.nyt.com/images/2019/01/24/opinion/jamelle-bouie/jamelle-bouie-thumbLarge-v3.png?quality=75&auto=webp&disable=upscale\n",
      "{'height': 36, 'width': 36}\n",
      "True\n",
      "https://static01.nyt.com/images/2021/01/05/opinion/05bouie1/05bouie1-square640.jpg?quality=75&auto=webp&disable=upscale&width=350\n",
      "{'height': 178, 'width': 178}\n",
      "True\n",
      "https://static01.nyt.com/images/2018/04/02/opinion/michelle-goldberg/michelle-goldberg-thumbLarge.png?quality=75&auto=webp&disable=upscale\n",
      "{'height': 36, 'width': 36}\n",
      "True\n",
      "https://static01.nyt.com/images/2018/04/02/opinion/paul-krugman/paul-krugman-thumbLarge.png?quality=75&auto=webp&disable=upscale\n",
      "{'height': 0, 'width': 36}\n",
      "False\n",
      "https://static01.nyt.com/images/2020/12/14/nyregion/00nyvirus-publicspace1-copy/00nyvirus-publicspace1-copy-master1050.jpg\n",
      "{'height': 257, 'width': 385}\n",
      "False\n",
      "https://static01.nyt.com/images/2020/12/14/nyregion/00nyvirus-publicspace1-copy/00nyvirus-publicspace1-copy-square640.jpg\n",
      "{'height': 0, 'width': 0}\n",
      "False\n",
      "https://static01.nyt.com/images/2020/12/14/nyregion/00nyvirus-publicspace5-copy/00nyvirus-publicspace5-copy-master1050.jpg\n",
      "{'height': 257, 'width': 385}\n",
      "True\n",
      "https://static01.nyt.com/images/2020/12/14/nyregion/00nyvirus-publicspace5-copy/00nyvirus-publicspace5-copy-square640.jpg\n",
      "{'height': 0, 'width': 0}\n",
      "False\n",
      "https://static01.nyt.com/images/2020/12/14/nyregion/00nyvirus-publicspace6-copy/00nyvirus-publicspace6-copy-master1050.jpg\n",
      "{'height': 257, 'width': 385}\n",
      "False\n",
      "https://static01.nyt.com/images/2020/12/14/nyregion/00nyvirus-publicspace6-copy/00nyvirus-publicspace6-copy-square640.jpg\n",
      "{'height': 0, 'width': 0}\n",
      "False\n",
      "https://static01.nyt.com/images/2020/12/14/nyregion/00nyvirus-publicspace4-copy/00nyvirus-publicspace4-copy-master1050.jpg\n"
     ]
    },
    {
     "name": "stdout",
     "output_type": "stream",
     "text": [
      "{'height': 257, 'width': 385}\n",
      "False\n",
      "https://static01.nyt.com/images/2020/12/14/nyregion/00nyvirus-publicspace4-copy/00nyvirus-publicspace4-copy-square640.jpg\n",
      "{'height': 0, 'width': 0}\n",
      "False\n",
      "https://static01.nyt.com/images/2021/01/06/dining/06Cookbooks/06Cookbooks-square640.jpg?quality=75&auto=webp&disable=upscale&width=350\n",
      "{'height': 178, 'width': 178}\n",
      "True\n",
      "https://static01.nyt.com/images/2021/01/10/books/review/10Miller/10Miller-square640.jpg?quality=75&auto=webp&disable=upscale&width=350\n",
      "{'height': 178, 'width': 178}\n",
      "True\n",
      "https://static01.nyt.com/images/2021/01/05/obituaries/05roberts1-sub/merlin_181960011_cb2cec62-ea41-4900-8762-1eb9e4fffe64-threeByTwoMediumAt2X.jpg?quality=75&auto=webp&disable=upscale&width=1100\n",
      "{'height': 307, 'width': 461}\n",
      "True\n",
      "https://static01.nyt.com/images/2020/12/30/business/00oligarchdivorce01/00oligarchdivorce01-threeByTwoSmallAt2X-v2.jpg?quality=75&auto=webp&disable=upscale&width=400\n",
      "{'height': 144, 'width': 216}\n",
      "True\n",
      "https://static01.nyt.com/images/2020/12/17/nyregion/00nyvirus-parking1/00nyvirus-parking1-threeByTwoSmallAt2X-v2.jpg?quality=75&auto=webp&disable=upscale&width=400\n",
      "{'height': 144, 'width': 216}\n",
      "True\n",
      "https://static01.nyt.com/images/2021/01/05/business/05mentalhealh-01sub/05mentalhealh-01sub-threeByTwoSmallAt2X.jpg?quality=75&auto=webp&disable=upscale&width=400\n",
      "{'height': 144, 'width': 216}\n",
      "True\n",
      "https://static01.nyt.com/images/2020/12/30/well/00well-7min-video-promo/00well-7min-video-promo-threeByTwoSmallAt2X-v5.png?quality=75&auto=webp&disable=upscale&width=400\n",
      "{'height': 144, 'width': 215}\n",
      "True\n",
      "https://static01.nyt.com/images/2020/12/02/reader-center/At-Home-Promo-Hed-1/At-Home-Promo-Hed-1-threeByTwoSmallAt2X-v5.png?quality=75&auto=webp&disable=upscale&width=400\n",
      "{'height': 144, 'width': 215}\n",
      "True\n",
      "https://static01.nyt.com/images/2021/01/05/science/05sci-well-brody-sub/05sci-well-brody-sub-threeByTwoSmallAt2X.jpg?quality=75&auto=webp&disable=upscale&width=400\n",
      "{'height': 144, 'width': 215}\n",
      "True\n",
      "https://static01.nyt.com/images/2021/01/03/multimedia/03ah-geocaching/03ah-geocaching-threeByTwoSmallAt2X.jpg?quality=75&auto=webp&disable=upscale&width=400\n",
      "{'height': 144, 'width': 215}\n",
      "True\n",
      "https://static01.nyt.com/images/2021/01/04/business/00JPDiscovery-streaming1-print/merlin_181779237_fe8bf584-1aa6-4967-ac0c-1826d3f6342d-threeByTwoSmallAt2X.jpg?quality=75&auto=webp&disable=upscale&width=400\n",
      "{'height': 144, 'width': 215}\n",
      "True\n",
      "https://static01.nyt.com/images/2020/12/27/arts/27Kamoinge-profile-6/27Kamoinge-profile-6-threeByTwoMediumAt2X.jpg?quality=75&auto=webp&disable=upscale&width=1100\n",
      "{'height': 472, 'width': 707}\n",
      "True\n",
      "https://static01.nyt.com/images/2021/01/03/realestate/03rightathome/03rightathome-threeByTwoSmallAt2X-v2.jpg?quality=75&auto=webp&disable=upscale&width=400\n",
      "{'height': 144, 'width': 216}\n",
      "True\n",
      "https://static01.nyt.com/images/2021/01/04/arts/04spiral1/04spiral1-threeByTwoSmallAt2X-v2.jpg?quality=75&auto=webp&disable=upscale&width=400\n",
      "{'height': 143, 'width': 215}\n",
      "True\n",
      "https://static01.nyt.com/images/2021/01/05/arts/05latenight/05latenight-threeByTwoSmallAt2X-v2.png?quality=75&auto=webp&disable=upscale&width=400\n",
      "{'height': 144, 'width': 216}\n",
      "True\n",
      "https://static01.nyt.com/images/2021/01/05/sports/04heisman1-print/04heisman1-print-threeByTwoSmallAt2X-v2.jpg?quality=75&auto=webp&disable=upscale&width=400\n",
      "{'height': 143, 'width': 215}\n",
      "True\n",
      "https://static01.nyt.com/images/2021/01/05/science/05SCI-ZALL3/05SCI-ZALL3-threeByTwoMediumAt2X.jpg?quality=75&auto=webp&disable=upscale&width=600\n",
      "{'height': 225, 'width': 338}\n",
      "True\n",
      "https://static01.nyt.com/images/2020/12/29/science/00VIRUS-PSYCHOSIS1/00VIRUS-PSYCHOSIS1-threeByTwoMediumAt2X.jpg?quality=75&auto=webp&disable=upscale&width=600\n",
      "{'height': 225, 'width': 338}\n",
      "True\n",
      "https://static01.nyt.com/images/2020/12/29/well/physed-guidelines-cycling/physed-guidelines-cycling-threeByTwoSmallAt2X.jpg?quality=75&auto=webp&disable=upscale&width=400\n",
      "{'height': 144, 'width': 216}\n",
      "True\n",
      "https://static01.nyt.com/images/2020/12/29/science/29VIRUS-DOSE1/29VIRUS-DOSE1-threeByTwoSmallAt2X-v3.jpg?quality=75&auto=webp&disable=upscale&width=400\n",
      "{'height': 144, 'width': 216}\n",
      "True\n",
      "https://static01.nyt.com/images/2021/01/05/arts/05latenight/05latenight-threeByTwoSmallAt2X-v2.png?quality=75&auto=webp&disable=upscale&width=400\n",
      "{'height': 144, 'width': 215}\n",
      "True\n",
      "https://static01.nyt.com/images/2020/07/14/smarter-living/well-pog-heart/well-pog-heart-threeByTwoSmallAt2X.jpg?quality=75&auto=webp&disable=upscale&width=400\n",
      "{'height': 144, 'width': 215}\n",
      "True\n",
      "https://static01.nyt.com/images/2021/01/10/magazine/10mag-ethicist/10mag-ethicist-threeByTwoSmallAt2X.jpg?quality=75&auto=webp&disable=upscale&width=400\n",
      "{'height': 144, 'width': 215}\n",
      "True\n",
      "https://static01.nyt.com/images/2021/01/10/magazine/10mag-Tip-1/10mag-Tip-1-threeByTwoSmallAt2X-v2.jpg?quality=75&auto=webp&disable=upscale&width=400\n",
      "{'height': 144, 'width': 215}\n",
      "True\n",
      "https://static01.nyt.com/images/2020/03/23/crosswords/spelling-bee-logo-nytgames-hi-res/spelling-bee-logo-nytgames-hi-res-thumbLarge-v3.png?quality=75&auto=webp&disable=upscale\n",
      "{'height': 60, 'width': 60}\n",
      "True\n",
      "https://static01.nyt.com/images/2021/01/04/world/04virus-uk5/04virus-uk5-threeByTwoSmallAt2X.jpg?quality=75&auto=webp&disable=upscale&width=400\n",
      "{'height': 144, 'width': 215}\n",
      "True\n",
      "https://static01.nyt.com/images/2021/01/04/us/04pharmacist-1-hospital/04pharmacist-1-hospital-threeByTwoSmallAt2X.jpg?quality=75&auto=webp&disable=upscale&width=400\n",
      "{'height': 144, 'width': 215}\n",
      "True\n",
      "https://static01.nyt.com/images/2021/01/05/us/politics/05dc-explainer/merlin_181967610_3feb1fef-28bb-41dc-a86b-7ae60b2ccbf7-threeByTwoSmallAt2X.jpg?quality=75&auto=webp&disable=upscale&width=400\n",
      "{'height': 144, 'width': 215}\n",
      "True\n",
      "https://static01.nyt.com/images/2020/12/21/nyregion/00nyvirus-debt/merlin_180721431_a586618f-f367-4c7f-b205-df975979118f-threeByTwoSmallAt2X.jpg?quality=75&auto=webp&disable=upscale&width=400\n",
      "{'height': 144, 'width': 215}\n",
      "True\n",
      "https://static01.nyt.com/images/2020/12/30/business/00oligarchdivorce01/00oligarchdivorce01-threeByTwoSmallAt2X-v2.jpg?quality=75&auto=webp&disable=upscale&width=400\n",
      "{'height': 144, 'width': 215}\n",
      "True\n",
      "https://static01.nyt.com/images/2021/01/05/science/05SCI-CORONA-SATELLITE-promo/05SCI-CORONA-SATELLITE-promo-threeByTwoSmallAt2X.jpg?quality=75&auto=webp&disable=upscale&width=400\n",
      "{'height': 144, 'width': 215}\n",
      "True\n",
      "https://static01.nyt.com/images/2021/01/05/science/05SCI-ZALL3/05SCI-ZALL3-threeByTwoSmallAt2X.jpg?quality=75&auto=webp&disable=upscale&width=400\n",
      "{'height': 144, 'width': 215}\n",
      "True\n",
      "https://static01.nyt.com/images/2021/01/05/sports/05browns-1/merlin_181066923_f4941c7a-0de2-40b7-ad00-0dd52b16524b-threeByTwoSmallAt2X.jpg?quality=75&auto=webp&disable=upscale&width=400\n",
      "{'height': 144, 'width': 215}\n",
      "True\n",
      "https://static01.nyt.com/images/2021/01/05/obituaries/05roberts1-sub/merlin_181960011_cb2cec62-ea41-4900-8762-1eb9e4fffe64-threeByTwoSmallAt2X.jpg?quality=75&auto=webp&disable=upscale&width=400\n",
      "{'height': 144, 'width': 215}\n",
      "True\n",
      "https://static01.nyt.com/images/2021/01/05/upshot/00up-office-future-print/00up-dror-threeByTwoSmallAt2X.jpg?quality=75&auto=webp&disable=upscale&width=400\n",
      "{'height': 144, 'width': 215}\n",
      "True\n",
      "https://static01.nyt.com/images/2021/01/05/climate/05CLI-TRANSPARENCY1/05CLI-TRANSPARENCY1-threeByTwoSmallAt2X.jpg?quality=75&auto=webp&disable=upscale&width=400\n",
      "{'height': 144, 'width': 215}\n",
      "True\n",
      "https://static01.nyt.com/images/2020/10/14/us/00outdoor-schools-lede/merlin_178229871_32824c5d-4457-4815-adb5-16f2e05fb31e-threeByTwoSmallAt2X.jpg?quality=75&auto=webp&disable=upscale&width=400\n",
      "{'height': 144, 'width': 215}\n",
      "True\n",
      "https://static01.nyt.com/images/2021/01/04/us/how-covid-19-vaccines-work-promo-1609795988928/how-covid-19-vaccines-work-promo-1609795988928-threeByTwoSmallAt2X.png?quality=75&auto=webp&disable=upscale&width=400\n",
      "{'height': 144, 'width': 215}\n",
      "True\n",
      "https://static01.nyt.com/images/2021/01/05/pageoneplus/05a2_ittart_BIG/05a2_ittart_BIG-threeByTwoSmallAt2X.jpg?quality=75&auto=webp&disable=upscale&width=400\n",
      "{'height': 144, 'width': 215}\n",
      "True\n",
      "https://static01.nyt.com/images/2021/01/04/opinion/04sokol-01/04sokol-01-threeByTwoSmallAt2X-v2.jpg?quality=75&auto=webp&disable=upscale&width=400\n",
      "{'height': 144, 'width': 215}\n",
      "True\n",
      "https://static01.nyt.com/images/2021/01/05/opinion/05douthatWeb/05douthatWeb-threeByTwoSmallAt2X.jpg?quality=75&auto=webp&disable=upscale&width=400\n",
      "{'height': 144, 'width': 215}\n",
      "True\n",
      "https://static01.nyt.com/images/2021/01/03/opinion/02schools1/02schools1-threeByTwoSmallAt2X.jpg?quality=75&auto=webp&disable=upscale&width=400\n",
      "{'height': 144, 'width': 215}\n",
      "True\n",
      "https://static01.nyt.com/images/2021/01/05/opinion/05stone-leslie/05stone-leslie-threeByTwoSmallAt2X.jpg?quality=75&auto=webp&disable=upscale&width=400\n"
     ]
    },
    {
     "name": "stdout",
     "output_type": "stream",
     "text": [
      "{'height': 144, 'width': 215}\n",
      "True\n",
      "https://static01.nyt.com/images/2021/01/03/opinion/03kristof_SR_print/02kristof-02-threeByTwoSmallAt2X.jpg?quality=75&auto=webp&disable=upscale&width=400\n",
      "{'height': 144, 'width': 215}\n",
      "True\n",
      "https://static01.nyt.com/images/2021/01/04/arts/04bridgerton-race1/merlin_180244809_82916376-4d0b-46c0-8f78-e5affff877d9-threeByTwoSmallAt2X.jpg?quality=75&auto=webp&disable=upscale&width=400\n",
      "{'height': 144, 'width': 215}\n",
      "True\n",
      "https://static01.nyt.com/images/2020/12/30/arts/30moynihan-art-11/30moynihan-art-11-threeByTwoSmallAt2X.jpg?quality=75&auto=webp&disable=upscale&width=400\n",
      "{'height': 144, 'width': 215}\n",
      "True\n",
      "https://static01.nyt.com/images/2021/01/03/arts/03fincher-notebook-bts/03fincher-notebook-bts-threeByTwoSmallAt2X-v2.jpg?quality=75&auto=webp&disable=upscale&width=400\n",
      "{'height': 144, 'width': 215}\n",
      "True\n",
      "https://static01.nyt.com/images/2021/01/04/arts/04spiral1/04spiral1-threeByTwoSmallAt2X-v2.jpg?quality=75&auto=webp&disable=upscale&width=400\n",
      "{'height': 144, 'width': 215}\n",
      "True\n",
      "https://static01.nyt.com/images/2021/01/03/arts/03steve-earle5/03steve-earle5-threeByTwoSmallAt2X.jpg?quality=75&auto=webp&disable=upscale&width=400\n",
      "{'height': 144, 'width': 215}\n",
      "True\n",
      "https://static01.nyt.com/images/2021/01/04/arts/04Breuer-1/04Breuer-1-threeByTwoSmallAt2X.jpg?quality=75&auto=webp&disable=upscale&width=400\n",
      "{'height': 144, 'width': 215}\n",
      "True\n",
      "https://static01.nyt.com/images/2020/12/27/arts/27vienna-waltzes-triptych/27vienna-waltzes-triptych-threeByTwoSmallAt2X.jpg?quality=75&auto=webp&disable=upscale&width=400\n",
      "{'height': 144, 'width': 215}\n",
      "True\n",
      "https://static01.nyt.com/images/2021/01/05/books/06BOOKJENTLESON1/06BOOKJENTLESON1-threeByTwoSmallAt2X.png?quality=75&auto=webp&disable=upscale&width=400\n",
      "{'height': 144, 'width': 215}\n",
      "True\n",
      "https://static01.nyt.com/images/2021/01/10/books/review/04GroupText-HO_DAVIES/04GroupText-HO_DAVIES-threeByTwoSmallAt2X.jpg?quality=75&auto=webp&disable=upscale&width=400\n",
      "{'height': 144, 'width': 215}\n",
      "True\n",
      "https://static01.nyt.com/images/2021/01/03/fashion/02JEANIEBUSS10/02JEANIEBUSS10-threeByTwoSmallAt2X.jpg?quality=75&auto=webp&disable=upscale&width=400\n",
      "{'height': 144, 'width': 215}\n",
      "True\n",
      "https://static01.nyt.com/images/2021/01/06/dining/06dine-workers2/06dine-workers2-threeByTwoSmallAt2X.jpg?quality=75&auto=webp&disable=upscale&width=400\n",
      "{'height': 144, 'width': 215}\n",
      "True\n",
      "https://static01.nyt.com/images/2020/12/27/multimedia/27ah-Quarantine/27ah-Quarantine-threeByTwoSmallAt2X.jpg?quality=75&auto=webp&disable=upscale&width=400\n",
      "{'height': 144, 'width': 215}\n",
      "True\n",
      "https://static01.nyt.com/images/2021/01/10/magazine/10mag-PointsGuy/10mag-PointsGuy-threeByTwoSmallAt2X.jpg?quality=75&auto=webp&disable=upscale&width=400\n",
      "{'height': 144, 'width': 215}\n",
      "True\n",
      "https://static01.nyt.com/images/2020/12/29/t-magazine/29tmag-callicoon-slide-H7ZV/29tmag-callicoon-slide-H7ZV-threeByTwoSmallAt2X.jpg?quality=75&auto=webp&disable=upscale&width=400\n",
      "{'height': 144, 'width': 215}\n",
      "True\n",
      "https://static01.nyt.com/images/2021/01/05/multimedia/05aroundworld-cartagena5/merlin_122317949_5765a8b0-8e06-403e-b777-a0b2ad4524d4-threeByTwoSmallAt2X.jpg?quality=75&auto=webp&disable=upscale&width=400\n",
      "{'height': 144, 'width': 215}\n",
      "True\n",
      "https://static01.nyt.com/images/2021/01/07/fashion/07WeddingTech1/07WeddingTech1-threeByTwoSmallAt2X.jpg?quality=75&auto=webp&disable=upscale&width=400\n",
      "{'height': 144, 'width': 215}\n",
      "True\n",
      "https://static01.nyt.com/images/2021/01/04/autossell/IMG_1631/IMG_1631-threeByTwoSmallAt2X.jpg?quality=75&auto=webp&disable=upscale&width=400\n",
      "{'height': 144, 'width': 215}\n",
      "True\n",
      "https://static01.nyt.com/images/2021/01/05/realestate/05sales/merlin_149945268_32e334f3-0933-48c7-a4db-3096d06a6e60-threeByTwoSmallAt2X.jpg?quality=75&auto=webp&disable=upscale&width=400\n",
      "{'height': 144, 'width': 215}\n",
      "True\n"
     ]
    }
   ],
   "source": [
    "true_counter = 0\n",
    "for img in imgs:\n",
    "    print(img.get_attribute(\"src\"))\n",
    "    print(img.size)\n",
    "    print(img.is_displayed())\n",
    "    if img.is_displayed():\n",
    "        true_counter += 1"
   ]
  },
  {
   "cell_type": "code",
   "execution_count": 63,
   "metadata": {},
   "outputs": [],
   "source": [
    "bck = wbdriver.find_elements_by_xpath(\"//*[contains(@style,'background-image')]\")"
   ]
  },
  {
   "cell_type": "code",
   "execution_count": 68,
   "metadata": {},
   "outputs": [
    {
     "name": "stdout",
     "output_type": "stream",
     "text": [
      "url(\"https://static01.nyt.com/newsgraphics/2020/03/16/coronavirus-maps/5990fca4458a05ec9a94c765b40d83fe0b2485fe/build/curve-grid/cases/total/USA.svg\")\n",
      "url(\"https://static01.nyt.com/newsgraphics/2020/03/16/coronavirus-maps/5990fca4458a05ec9a94c765b40d83fe0b2485fe/build/curve-grid/cases/total/IND.svg\")\n",
      "url(\"https://static01.nyt.com/newsgraphics/2020/03/16/coronavirus-maps/5990fca4458a05ec9a94c765b40d83fe0b2485fe/build/curve-grid/cases/total/BRA.svg\")\n",
      "url(\"https://static01.nyt.com/newsgraphics/2020/03/16/coronavirus-maps/5990fca4458a05ec9a94c765b40d83fe0b2485fe/build/curve-grid/cases/total/GBR.svg\")\n",
      "url(\"https://static01.nyt.com/newsgraphics/2020/03/16/coronavirus-maps/5990fca4458a05ec9a94c765b40d83fe0b2485fe/build/curve-grid/cases/total/MEX.svg\")\n",
      "url(\"https://static01.nyt.com/newsgraphics/2020/03/16/coronavirus-maps/5990fca4458a05ec9a94c765b40d83fe0b2485fe/build/curve-grid/cases/total/CAN.svg\")\n"
     ]
    }
   ],
   "source": [
    "for bb in bck:\n",
    "    print(bb.value_of_css_property(\"background-image\"))"
   ]
  },
  {
   "cell_type": "code",
   "execution_count": 72,
   "metadata": {},
   "outputs": [
    {
     "ename": "AttributeError",
     "evalue": "'WebDriver' object has no attribute 'find_element_by_text'",
     "output_type": "error",
     "traceback": [
      "\u001b[1;31m---------------------------------------------------------------------------\u001b[0m",
      "\u001b[1;31mAttributeError\u001b[0m                            Traceback (most recent call last)",
      "\u001b[1;32m<ipython-input-72-20d6834d932f>\u001b[0m in \u001b[0;36m<module>\u001b[1;34m\u001b[0m\n\u001b[1;32m----> 1\u001b[1;33m \u001b[0melem\u001b[0m \u001b[1;33m=\u001b[0m \u001b[0mwbdriver\u001b[0m\u001b[1;33m.\u001b[0m\u001b[0mfind_element_by_text\u001b[0m\u001b[1;33m(\u001b[0m\u001b[1;34m\"Subscribe now\"\u001b[0m\u001b[1;33m)\u001b[0m\u001b[1;33m\u001b[0m\u001b[1;33m\u001b[0m\u001b[0m\n\u001b[0m",
      "\u001b[1;31mAttributeError\u001b[0m: 'WebDriver' object has no attribute 'find_element_by_text'"
     ]
    }
   ],
   "source": [
    "elem = wbdriver.find_element_by_text(\"Subscribe now\")"
   ]
  },
  {
   "cell_type": "code",
   "execution_count": 77,
   "metadata": {},
   "outputs": [
    {
     "data": {
      "text/plain": [
       "78"
      ]
     },
     "execution_count": 77,
     "metadata": {},
     "output_type": "execute_result"
    }
   ],
   "source": [
    "true_counter"
   ]
  },
  {
   "cell_type": "code",
   "execution_count": 78,
   "metadata": {},
   "outputs": [
    {
     "data": {
      "text/plain": [
       "118"
      ]
     },
     "execution_count": 78,
     "metadata": {},
     "output_type": "execute_result"
    }
   ],
   "source": [
    "len(imgs)"
   ]
  },
  {
   "cell_type": "code",
   "execution_count": null,
   "metadata": {},
   "outputs": [],
   "source": []
  }
 ],
 "metadata": {
  "kernelspec": {
   "display_name": "Python 3",
   "language": "python",
   "name": "python3"
  },
  "language_info": {
   "codemirror_mode": {
    "name": "ipython",
    "version": 3
   },
   "file_extension": ".py",
   "mimetype": "text/x-python",
   "name": "python",
   "nbconvert_exporter": "python",
   "pygments_lexer": "ipython3",
   "version": "3.9.1"
  }
 },
 "nbformat": 4,
 "nbformat_minor": 4
}
