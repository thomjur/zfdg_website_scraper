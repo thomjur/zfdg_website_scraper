{
 "cells": [
  {
   "cell_type": "code",
   "execution_count": 1,
   "metadata": {},
   "outputs": [],
   "source": [
    "from bs4 import BeautifulSoup\n",
    "from urllib.parse import urljoin, urlparse\n",
    "import shutil, os, time, datetime, re\n",
    "import pandas as pd\n",
    "from PIL import Image\n",
    "from scraper import DataPreparation, Corpus\n",
    "from analyzer import Analyzer"
   ]
  },
  {
   "cell_type": "markdown",
   "metadata": {},
   "source": [
    "# TODO\n",
    "\n",
    "- carousel finder\n",
    "- builtwith implementation"
   ]
  },
  {
   "cell_type": "markdown",
   "metadata": {},
   "source": [
    "# Corpus Creation"
   ]
  },
  {
   "cell_type": "code",
   "execution_count": 2,
   "metadata": {},
   "outputs": [],
   "source": [
    "cp = Corpus()"
   ]
  },
  {
   "cell_type": "code",
   "execution_count": 6,
   "metadata": {},
   "outputs": [],
   "source": [
    "#cp.initCorpus()"
   ]
  },
  {
   "cell_type": "markdown",
   "metadata": {},
   "source": [
    "# Data Preparation"
   ]
  },
  {
   "cell_type": "code",
   "execution_count": 2,
   "metadata": {},
   "outputs": [],
   "source": [
    "dp = DataPreparation()"
   ]
  },
  {
   "cell_type": "code",
   "execution_count": 5,
   "metadata": {},
   "outputs": [],
   "source": [
    "#dp.getImages()"
   ]
  },
  {
   "cell_type": "code",
   "execution_count": 3,
   "metadata": {},
   "outputs": [],
   "source": [
    "#data_dict = dp.createAnalyzerDict()"
   ]
  },
  {
   "cell_type": "code",
   "execution_count": 6,
   "metadata": {},
   "outputs": [],
   "source": [
    "bw_dict = dp.getBuiltWithFromPickle()"
   ]
  },
  {
   "cell_type": "code",
   "execution_count": 9,
   "metadata": {},
   "outputs": [],
   "source": [
    "df = pd.DataFrame.from_dict(bw_dict, orient=\"index\")"
   ]
  },
  {
   "cell_type": "code",
   "execution_count": 24,
   "metadata": {},
   "outputs": [],
   "source": [
    "from sklearn.preprocessing import MultiLabelBinarizer"
   ]
  },
  {
   "cell_type": "code",
   "execution_count": null,
   "metadata": {},
   "outputs": [],
   "source": []
  },
  {
   "cell_type": "code",
   "execution_count": null,
   "metadata": {},
   "outputs": [],
   "source": []
  },
  {
   "cell_type": "code",
   "execution_count": null,
   "metadata": {},
   "outputs": [],
   "source": []
  },
  {
   "cell_type": "code",
   "execution_count": null,
   "metadata": {},
   "outputs": [],
   "source": []
  },
  {
   "cell_type": "code",
   "execution_count": null,
   "metadata": {},
   "outputs": [],
   "source": []
  },
  {
   "cell_type": "code",
   "execution_count": null,
   "metadata": {},
   "outputs": [],
   "source": []
  },
  {
   "cell_type": "code",
   "execution_count": null,
   "metadata": {},
   "outputs": [],
   "source": []
  },
  {
   "cell_type": "code",
   "execution_count": null,
   "metadata": {},
   "outputs": [],
   "source": []
  },
  {
   "cell_type": "markdown",
   "metadata": {},
   "source": [
    "# Analysis"
   ]
  },
  {
   "cell_type": "code",
   "execution_count": 2,
   "metadata": {},
   "outputs": [],
   "source": [
    "ana = Analyzer()"
   ]
  },
  {
   "cell_type": "code",
   "execution_count": null,
   "metadata": {},
   "outputs": [],
   "source": [
    " "
   ]
  },
  {
   "cell_type": "code",
   "execution_count": 3,
   "metadata": {},
   "outputs": [],
   "source": [
    "# Categorical Data from builtwith"
   ]
  },
  {
   "cell_type": "code",
   "execution_count": 4,
   "metadata": {},
   "outputs": [],
   "source": [
    "#bw_data = ana.getBuiltWithCategorical()"
   ]
  },
  {
   "cell_type": "code",
   "execution_count": 5,
   "metadata": {},
   "outputs": [],
   "source": [
    "#bw_clustered = ana.getCosine4CategoricalData(bw_data)"
   ]
  },
  {
   "cell_type": "code",
   "execution_count": 6,
   "metadata": {},
   "outputs": [],
   "source": [
    "# KMeans clustering and standardization"
   ]
  },
  {
   "cell_type": "code",
   "execution_count": 15,
   "metadata": {},
   "outputs": [
    {
     "name": "stdout",
     "output_type": "stream",
     "text": [
      "Columns successfully changed!\n"
     ]
    }
   ],
   "source": [
    "ana.setColumnSelection(['total_images', \"total_length\"])"
   ]
  },
  {
   "cell_type": "code",
   "execution_count": 16,
   "metadata": {},
   "outputs": [
    {
     "name": "stdout",
     "output_type": "stream",
     "text": [
      "Currently, the following columns are selected: ['total_images', 'total_length']\n"
     ]
    }
   ],
   "source": [
    "ana.getColumnSelection()"
   ]
  },
  {
   "cell_type": "code",
   "execution_count": null,
   "metadata": {},
   "outputs": [],
   "source": []
  },
  {
   "cell_type": "code",
   "execution_count": 17,
   "metadata": {},
   "outputs": [],
   "source": [
    "standardized_data = ana.standardizeData(ana.data_df)"
   ]
  },
  {
   "cell_type": "code",
   "execution_count": 18,
   "metadata": {},
   "outputs": [
    {
     "name": "stdout",
     "output_type": "stream",
     "text": [
      "Websites in cluster 0:\n",
      "-----------------------------------------------\n",
      "\n",
      "pierrevogelde.blogspot.com\n",
      "http://pierrevogelde.blogspot.com/\n",
      "tabgha.ruhr\n",
      "https://tabgha.ruhr/\n",
      "ditib.de\n",
      "http://www.ditib.de/\n",
      "zentralratderjuden.de\n",
      "https://www.zentralratderjuden.de/\n",
      "\n",
      "Websites in cluster 1:\n",
      "-----------------------------------------------\n",
      "\n",
      "gebetshaus.org\n",
      "https://www.gebetshaus.org/\n",
      "katholisch.de\n",
      "https://www.katholisch.de/\n",
      "\n",
      "Websites in cluster 2:\n",
      "-----------------------------------------------\n",
      "\n",
      "ekd.de\n",
      "https://www.ekd.de/\n",
      "\n",
      "Websites in cluster 3:\n",
      "-----------------------------------------------\n",
      "\n",
      "hausvonazer.de\n",
      "https://hausvonazer.de/\n",
      "houseofsolution.de\n",
      "http://houseofsolution.de/\n",
      "al-adala.de\n",
      "http://www.al-adala.de/\n",
      "buddhismus-deutschland.de\n",
      "https://www.buddhismus-deutschland.de/\n",
      "credo-kirche.de\n",
      "https://www.credo-kirche.de/\n",
      "hinduistische-gemeinde-deutschland.de\n",
      "https://www.hinduistische-gemeinde-deutschland.de/\n",
      "kircheimpott.de\n",
      "https://www.kircheimpott.de/\n",
      "miraath.de\n",
      "http://www.miraath.de/\n",
      "zentralrat.de\n",
      "http://zentralrat.de/\n",
      "\n"
     ]
    }
   ],
   "source": [
    "clustered_data = ana.clusterDataKMeans(standardized_data, n=4)"
   ]
  },
  {
   "cell_type": "code",
   "execution_count": 9,
   "metadata": {},
   "outputs": [
    {
     "name": "stdout",
     "output_type": "stream",
     "text": [
      "Creating elbow plot in range between [2, 3, 4, 5, 6, 7, 8] n for KMeans.\n"
     ]
    },
    {
     "data": {
      "image/png": "[encoded data removed]",
      "text/plain": [
       "<Figure size 504x504 with 1 Axes>"
      ]
     },
     "metadata": {
      "needs_background": "light"
     },
     "output_type": "display_data"
    }
   ],
   "source": [
    "ana.createElbowPlot(standardized_data)"
   ]
  },
  {
   "cell_type": "code",
   "execution_count": 35,
   "metadata": {},
   "outputs": [],
   "source": [
    "clustered_df = clustered_data"
   ]
  },
  {
   "cell_type": "code",
   "execution_count": 44,
   "metadata": {},
   "outputs": [
    {
     "name": "stdout",
     "output_type": "stream",
     "text": [
      "Websites in cluster 0:\n",
      "-----------------------------------------------\n",
      "\n",
      "hausvonazer.de\n",
      "https://hausvonazer.de/\n",
      "pierrevogelde.blogspot.com\n",
      "http://pierrevogelde.blogspot.com/\n",
      "al-adala.de\n",
      "http://www.al-adala.de/\n",
      "ditib.de\n",
      "http://www.ditib.de/\n",
      "zentralratderjuden.de\n",
      "https://www.zentralratderjuden.de/\n",
      "\n",
      "Websites in cluster 1:\n",
      "-----------------------------------------------\n",
      "\n",
      "ekd.de\n",
      "https://www.ekd.de/\n",
      "\n",
      "Websites in cluster 2:\n",
      "-----------------------------------------------\n",
      "\n",
      "houseofsolution.de\n",
      "http://houseofsolution.de/\n",
      "tabgha.ruhr\n",
      "https://tabgha.ruhr/\n",
      "buddhismus-deutschland.de\n",
      "https://www.buddhismus-deutschland.de/\n",
      "credo-kirche.de\n",
      "https://www.credo-kirche.de/\n",
      "gebetshaus.org\n",
      "https://www.gebetshaus.org/\n",
      "hinduistische-gemeinde-deutschland.de\n",
      "https://www.hinduistische-gemeinde-deutschland.de/\n",
      "kircheimpott.de\n",
      "https://www.kircheimpott.de/\n",
      "miraath.de\n",
      "http://www.miraath.de/\n",
      "zentralrat.de\n",
      "http://zentralrat.de/\n",
      "\n",
      "Websites in cluster 3:\n",
      "-----------------------------------------------\n",
      "\n",
      "katholisch.de\n",
      "https://www.katholisch.de/\n",
      "\n"
     ]
    }
   ],
   "source": [
    "with open(\"websites.txt\", \"r\", encoding=\"utf-8\") as f:\n",
    "    orig_websites = f.readlines()\n",
    "clusters = np.sort(clustered_data[\"clusters\"].unique())\n",
    "for cluster in clusters:\n",
    "    print(f\"Websites in cluster {cluster}:\")\n",
    "    print(\"-----------------------------------------------\")\n",
    "    print()\n",
    "    for row in clustered_df[clustered_df[\"clusters\"] == cluster].iterrows():\n",
    "        print(row[0])\n",
    "        for website in orig_websites:\n",
    "            if row[0] in website:\n",
    "                print(website.split(\",\")[0])\n",
    "    print()\n",
    "        \n",
    "    "
   ]
  },
  {
   "cell_type": "code",
   "execution_count": 29,
   "metadata": {},
   "outputs": [],
   "source": [
    "nn = np.sort(clustered_data[\"clusters\"].unique())"
   ]
  },
  {
   "cell_type": "code",
   "execution_count": 28,
   "metadata": {},
   "outputs": [],
   "source": [
    "import numpy as np"
   ]
  },
  {
   "cell_type": "code",
   "execution_count": 32,
   "metadata": {},
   "outputs": [
    {
     "data": {
      "text/plain": [
       "array([0, 1, 2, 3])"
      ]
     },
     "execution_count": 32,
     "metadata": {},
     "output_type": "execute_result"
    }
   ],
   "source": [
    "np.sort(clustered_data[\"clusters\"].unique())"
   ]
  },
  {
   "cell_type": "code",
   "execution_count": null,
   "metadata": {},
   "outputs": [],
   "source": []
  },
  {
   "cell_type": "code",
   "execution_count": null,
   "metadata": {},
   "outputs": [],
   "source": []
  },
  {
   "cell_type": "code",
   "execution_count": null,
   "metadata": {},
   "outputs": [],
   "source": []
  },
  {
   "cell_type": "markdown",
   "metadata": {},
   "source": [
    "# Testing stuff"
   ]
  },
  {
   "cell_type": "code",
   "execution_count": 9,
   "metadata": {},
   "outputs": [],
   "source": [
    "with open(\"CorpusData/www.zentralratderjuden.de.html\", \"r\", encoding=\"utf-8\") as f:\n",
    "    doc = f.read()"
   ]
  },
  {
   "cell_type": "code",
   "execution_count": 10,
   "metadata": {},
   "outputs": [],
   "source": [
    "soup = BeautifulSoup(doc, \"html.parser\")"
   ]
  },
  {
   "cell_type": "code",
   "execution_count": 13,
   "metadata": {},
   "outputs": [],
   "source": [
    "carousels = soup.select(\".carousel.slide\")"
   ]
  },
  {
   "cell_type": "code",
   "execution_count": 14,
   "metadata": {},
   "outputs": [
    {
     "data": {
      "text/plain": [
       "[<div class=\"carousel carousel-fullscreen carousel-transition-fade slide hidden-print\" data-interval=\"5000\" data-ride=\"carousel\" data-wrap=\"true\" id=\"carousel-182\" style=\"touch-action: pan-y; user-select: none; -webkit-user-drag: none; -webkit-tap-highlight-color: rgba(0, 0, 0, 0);\"><div class=\"carousel-inner\" role=\"listbox\"><div class=\"item active carousel-item-type carousel-item-type-header\" data-itemno=\"0\" style=\"background-image: url('https://www.zentralratderjuden.de/fileadmin/user_upload/BannerOMA.png'); background-color: #ffffff;\"><a draggable=\"false\" href=\"https://www.zentralratderjuden.de/der-zentralrat/auszeichnungen/paul-spiegel-preis/\"><div class=\"valign\" style=\"color: #1c6a96;\"><div class=\"vcontainer\"><div class=\"container\"><div class=\"text-resizer slideonce\" style=\"margin-left: 0px;\"><h1 class=\"text-left awesome h1car\">Zentralrat der Juden</h1><h2 class=\"text-left awesome h2car\">in Deutschland</h2></div></div></div></div></a></div><div class=\"item carousel-item-type carousel-item-type-header\" data-itemno=\"1\" style=\"background-image: url('https://www.zentralratderjuden.de/fileadmin/user_upload/gdggddggd.jpg'); background-color: #ffffff;\"><a draggable=\"false\" href=\"https://www.zentralratderjuden.de/70jahre\"><div class=\"valign\" style=\"color: #1c6a96;\"><div class=\"vcontainer\"><div class=\"container\"><div class=\"text-resizer\"><h1 class=\"text-left awesome h1car\">Zentralrat der Juden</h1><h2 class=\"text-left awesome h2car\">in Deutschland</h2></div></div></div></div></a></div><div class=\"item carousel-item-type carousel-item-type-header\" data-itemno=\"2\" style=\"background-image: url('https://www.zentralratderjuden.de/fileadmin/user_upload/Joshka.jpg'); background-color: #ffffff;\"><a draggable=\"false\" href=\"https://gemeindetag.zentralratderjuden.de/\"><div class=\"valign\" style=\"color: #1c6a96;\"><div class=\"vcontainer\"><div class=\"container\"><div class=\"text-resizer\"><h1 class=\"text-left awesome h1car\">Zentralrat der Juden</h1><h2 class=\"text-left awesome h2car\">in Deutschland</h2></div></div></div></div></a></div><div class=\"item carousel-item-type carousel-item-type-header\" data-itemno=\"3\" style=\"background-image: url('https://www.zentralratderjuden.de/fileadmin/user_upload/Colag.jpg'); background-color: #fff;\"><div class=\"valign\" style=\"color: #1c6a96;\"><div class=\"vcontainer\"><div class=\"container\"><div class=\"text-resizer\"><h1 class=\"text-left awesome h1car\">Zentralrat der Juden</h1><h2 class=\"text-left awesome h2car\">in Deutschland</h2></div></div></div></div></div><div class=\"item carousel-item-type carousel-item-type-header\" data-itemno=\"4\" style=\"background-image: url('https://www.zentralratderjuden.de/fileadmin/user_upload/HEADD.jpg'); background-color: #ffffff;\"><div class=\"valign\" style=\"color: #1c6a96;\"><div class=\"vcontainer\"><div class=\"container\"><div class=\"text-resizer\"><h1 class=\"text-left awesome h1car\">Zentralrat der Juden</h1><h2 class=\"text-left awesome h2car\">in Deutschland</h2></div></div></div></div></div><div class=\"item carousel-item-type carousel-item-type-header\" data-itemno=\"5\" style=\"background-image: url('https://www.zentralratderjuden.de/fileadmin/user_upload/dada3133312.jpg'); background-color: #ffffff;\"><div class=\"valign\" style=\"color: #1c6a96;\"><div class=\"vcontainer\"><div class=\"container\"><div class=\"text-resizer\"><h1 class=\"text-left awesome h1car\">Zentralrat der Juden</h1><h2 class=\"text-left awesome h2car\">in Deutschland</h2></div></div></div></div></div><div class=\"item carousel-item-type carousel-item-type-header\" data-itemno=\"6\" style=\"background-image: url('https://www.zentralratderjuden.de/fileadmin/user_upload/SOEDER.jpg'); background-color: #ffffff;\"><div class=\"valign\" style=\"color: #1c6a96;\"><div class=\"vcontainer\"><div class=\"container\"><div class=\"text-resizer\"><h1 class=\"text-left awesome h1car\">Zentralrat der Juden</h1><h2 class=\"text-left awesome h2car\">in Deutschland</h2></div></div></div></div></div><div class=\"item carousel-item-type carousel-item-type-header\" data-itemno=\"7\" style=\"background-image: url('https://www.zentralratderjuden.de/fileadmin/user_upload/KMB.jpg'); background-color: #ffffff;\"><div class=\"valign\" style=\"color: #1c6a96;\"><div class=\"vcontainer\"><div class=\"container\"><div class=\"text-resizer\"><h1 class=\"text-left awesome h1car\">Zentralrat der Juden</h1><h2 class=\"text-left awesome h2car\">in Deutschland</h2></div></div></div></div></div><div class=\"item carousel-item-type carousel-item-type-header\" data-itemno=\"8\" style=\"background-image: url('https://www.zentralratderjuden.de/fileadmin/user_upload/Jewrovisigdon.jpg'); background-color: ##ffffff;\"><a draggable=\"false\" href=\"http://www.jewrovision.de\"><div class=\"valign\" style=\"color: #1c6a96;\"><div class=\"vcontainer\"><div class=\"container\"><div class=\"text-resizer\"><h1 class=\"text-left awesome h1car\">Zentralrat der Juden</h1><h2 class=\"text-left awesome h2car\">in Deutschland</h2></div></div></div></div></a></div><div class=\"item carousel-item-type carousel-item-type-header\" data-itemno=\"9\" style=\"background-image: url('https://www.zentralratderjuden.de/fileadmin/user_upload/img/Header/Startseite-Header/slider_ratsversammlung.jpg'); background-color: #ffffff;\"><div class=\"valign\" style=\"color: #1c6a96;\"><div class=\"vcontainer\"><div class=\"container\"><div class=\"text-resizer\"><h1 class=\"text-left awesome h1car\">Zentralrat der Juden</h1><h2 class=\"text-left awesome h2car\">in Deutschland</h2></div></div></div></div></div></div></div>,\n",
       " <div class=\"carousel carousel-small carousel-transition-fade slide\" data-interval=\"5000\" data-ride=\"carousel\" data-wrap=\"true\" id=\"carousel-199\" style=\"touch-action: pan-y; user-select: none; -webkit-user-drag: none; -webkit-tap-highlight-color: rgba(0, 0, 0, 0);\"><div class=\"carousel-inner\" role=\"listbox\"><div class=\"parallax-window item active carousel-item-type carousel-item-type-backgroundimage\" data-image-src=\"https://www.zentralratderjuden.de/fileadmin//user_upload/banner.png\" data-itemno=\"0\" data-parallax=\"scroll\"></div><script>\n",
       "                     jQuery( document ).ready(function() {\n",
       "                     jQuery('.parallax-window').parallax({imageSrc: 'fileadmin//user_upload/banner.png'});\n",
       "                    });\n",
       "                     </script></div></div>]"
      ]
     },
     "execution_count": 14,
     "metadata": {},
     "output_type": "execute_result"
    }
   ],
   "source": [
    "carousels"
   ]
  },
  {
   "cell_type": "code",
   "execution_count": 55,
   "metadata": {},
   "outputs": [],
   "source": [
    "list1 = [1,2,3]\n",
    "list2 = [3,4,5]"
   ]
  },
  {
   "cell_type": "code",
   "execution_count": 56,
   "metadata": {},
   "outputs": [
    {
     "data": {
      "text/plain": [
       "[1, 2, 3, 3, 4, 5]"
      ]
     },
     "execution_count": 56,
     "metadata": {},
     "output_type": "execute_result"
    }
   ],
   "source": [
    "list1 + list2"
   ]
  },
  {
   "cell_type": "code",
   "execution_count": null,
   "metadata": {},
   "outputs": [],
   "source": []
  },
  {
   "cell_type": "code",
   "execution_count": null,
   "metadata": {},
   "outputs": [],
   "source": []
  },
  {
   "cell_type": "code",
   "execution_count": null,
   "metadata": {},
   "outputs": [],
   "source": []
  }
 ],
 "metadata": {
  "kernelspec": {
   "display_name": "Python 3",
   "language": "python",
   "name": "python3"
  },
  "language_info": {
   "codemirror_mode": {
    "name": "ipython",
    "version": 3
   },
   "file_extension": ".py",
   "mimetype": "text/x-python",
   "name": "python",
   "nbconvert_exporter": "python",
   "pygments_lexer": "ipython3",
   "version": "3.9.1"
  }
 },
 "nbformat": 4,
 "nbformat_minor": 4
}
