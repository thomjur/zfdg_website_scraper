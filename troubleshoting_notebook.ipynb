{
 "cells": [
  {
   "cell_type": "code",
   "execution_count": 4,
   "metadata": {},
   "outputs": [],
   "source": [
    "from bs4 import BeautifulSoup\n",
    "from urllib.parse import urljoin, urlparse\n",
    "import shutil, os, time, datetime, re"
   ]
  },
  {
   "cell_type": "code",
   "execution_count": 14,
   "metadata": {},
   "outputs": [],
   "source": [
    "class Analyzer:\n",
    "    '''\n",
    "        analyzes the websites stored in .\\CorpusData\n",
    "        ** internal and external links\n",
    "        ** number of images\n",
    "        ** image size\n",
    "        ** text analysis (?)\n",
    "    '''\n",
    "\n",
    "    def __init__(self):\n",
    "        directory = os.path.abspath(\"CorpusData/\")\n",
    "        \n",
    "    # private methods\n",
    "\n",
    "    def absoluteURL(self, url):\n",
    "        '''\n",
    "        checks if a URL is relative or absolute\n",
    "        '''\n",
    "        return bool(urlparse(url).netloc)\n",
    "\n",
    "    # public methods\n",
    "    def getLinks(self):\n",
    "        directory = \"CorpusData\"\n",
    "        link_dict_global = dict()\n",
    "        for entry in os.scandir(directory):\n",
    "            if entry.path.endswith(\".html\"):\n",
    "                # getting url of current site + cleaning\n",
    "                _, netloc_ = os.path.split(entry.path)\n",
    "                netloc_ = netloc_.replace(\".html\", \"\").replace(\"www.\", \"\").strip()\n",
    "                curr_site_link_dict = {\"external_links\": 0, \"internal_links\": 0}\n",
    "                print(f\"Current netloc {netloc_} of type {type(netloc_)}\")\n",
    "                with open(entry.path, \"r\", encoding=\"utf-8\") as f:\n",
    "                    soup = BeautifulSoup(f.read(), \"html.parser\")\n",
    "                    #links_elem = soup.find_all(\"link\")\n",
    "                    a_elems = soup.find_all(\"a\")\n",
    "                    for a in a_elems:\n",
    "                        if self.absoluteURL(a.get(\"href\")) and (netloc_ not in a.get(\"href\")):\n",
    "                            curr_site_link_dict[\"external_links\"] += 1\n",
    "                            if netloc_ == \"houseofsolution.de\":\n",
    "                                print(f\"External link {a}\")\n",
    "                                print(netloc_ not in a)\n",
    "                                pass\n",
    "                        else:\n",
    "                            curr_site_link_dict[\"internal_links\"] += 1\n",
    "                            if netloc_ == \"houseofsolution.de\":\n",
    "                                #print(f\"Internal link {a}\")\n",
    "                                pass\n",
    "                    link_dict_global[netloc_] = curr_site_link_dict\n",
    "        return link_dict_global"
   ]
  },
  {
   "cell_type": "code",
   "execution_count": 15,
   "metadata": {},
   "outputs": [],
   "source": [
    "ana = Analyzer()"
   ]
  },
  {
   "cell_type": "code",
   "execution_count": 7,
   "metadata": {},
   "outputs": [],
   "source": [
    "teststring = \"https://houseofsolution.de/wp-content/uploads/2017/03/Header_New2.png\"\n",
    "netloc_ = \"houseofsolution.de\""
   ]
  },
  {
   "cell_type": "code",
   "execution_count": 9,
   "metadata": {},
   "outputs": [
    {
     "data": {
      "text/plain": [
       "False"
      ]
     },
     "execution_count": 9,
     "metadata": {},
     "output_type": "execute_result"
    }
   ],
   "source": [
    "netloc_ not in teststring"
   ]
  },
  {
   "cell_type": "code",
   "execution_count": 16,
   "metadata": {},
   "outputs": [
    {
     "name": "stdout",
     "output_type": "stream",
     "text": [
      "Current netloc hausvonazer.de of type <class 'str'>\n",
      "Current netloc houseofsolution.de of type <class 'str'>\n",
      "External link <a href=\"https://freshmannabookstore.com/\">Bookstore</a>\n",
      "True\n",
      "External link <a href=\"https://www.facebook.com/LHICF\" target=\"_blank\"><i aria-hidden=\"true\" class=\"fa fa-facebook\"></i></a>\n",
      "True\n",
      "External link <a href=\"https://www.youtube.com/channel/UCklvlEnkSeIHZtG6FulJQiQ\" target=\"_blank\"><i aria-hidden=\"true\" class=\"fa fa-youtube\"></i></a>\n",
      "True\n",
      "External link <a href=\"https://freshmannabookstore.com/\">Bookstore</a>\n",
      "True\n",
      "External link <a href=\"https://www.facebook.com/LHICF\" target=\"_blank\"><i aria-hidden=\"true\" class=\"fa fa-facebook\"></i></a>\n",
      "True\n",
      "External link <a href=\"https://www.youtube.com/channel/UCklvlEnkSeIHZtG6FulJQiQ\" target=\"_blank\"><i aria-hidden=\"true\" class=\"fa fa-youtube\"></i></a>\n",
      "True\n",
      "External link <a href=\"https://www.facebook.com/LHICF\" target=\"_blank\"><i aria-hidden=\"true\" class=\"fa fa-facebook\"></i></a>\n",
      "True\n",
      "External link <a href=\"https://www.youtube.com/channel/UCklvlEnkSeIHZtG6FulJQiQ\" target=\"_blank\"><i aria-hidden=\"true\" class=\"fa fa-youtube\"></i></a>\n",
      "True\n",
      "External link <a href=\"https://freshmannabookstore.com/\">Bookstore</a>\n",
      "True\n",
      "External link <a href=\"https://freshmannabookstore.com/\">Bookstore</a>\n",
      "True\n",
      "External link <a href=\"https://www.facebook.com/LHICF\" target=\"_blank\"><i aria-hidden=\"true\" class=\"fa fa-facebook\"></i></a>\n",
      "True\n",
      "External link <a href=\"https://www.youtube.com/channel/UCklvlEnkSeIHZtG6FulJQiQ\" target=\"_blank\"><i aria-hidden=\"true\" class=\"fa fa-youtube\"></i></a>\n",
      "True\n",
      "External link <a class=\"schat-logo\" href=\"http://www.probewise.com/go/live-chat/\" target=\"_blank\"><i class=\"schat-ico-night-bird\"></i></a>\n",
      "True\n",
      "External link <a class=\"schat-logo\" href=\"http://www.probewise.com/go/live-chat/\" target=\"_blank\"><i class=\"schat-ico-night-bird\"></i></a>\n",
      "True\n",
      "External link <a class=\"schat-logo\" href=\"http://www.probewise.com/go/live-chat/\" target=\"_blank\"><i class=\"schat-ico-night-bird\"></i></a>\n",
      "True\n",
      "Current netloc tabgha.ruhr of type <class 'str'>\n",
      "Current netloc credo-kirche.de of type <class 'str'>\n",
      "Current netloc fdp.de of type <class 'str'>\n"
     ]
    },
    {
     "data": {
      "text/plain": [
       "{'hausvonazer.de': {'external_links': 11, 'internal_links': 52},\n",
       " 'houseofsolution.de': {'external_links': 15, 'internal_links': 178},\n",
       " 'tabgha.ruhr': {'external_links': 8, 'internal_links': 54},\n",
       " 'credo-kirche.de': {'external_links': 5, 'internal_links': 42},\n",
       " 'fdp.de': {'external_links': 5, 'internal_links': 96}}"
      ]
     },
     "execution_count": 16,
     "metadata": {},
     "output_type": "execute_result"
    }
   ],
   "source": [
    "ana.getLinks()"
   ]
  },
  {
   "cell_type": "code",
   "execution_count": null,
   "metadata": {},
   "outputs": [],
   "source": []
  }
 ],
 "metadata": {
  "kernelspec": {
   "display_name": "Python 3",
   "language": "python",
   "name": "python3"
  },
  "language_info": {
   "codemirror_mode": {
    "name": "ipython",
    "version": 3
   },
   "file_extension": ".py",
   "mimetype": "text/x-python",
   "name": "python",
   "nbconvert_exporter": "python",
   "pygments_lexer": "ipython3",
   "version": "3.8.3"
  }
 },
 "nbformat": 4,
 "nbformat_minor": 4
}
