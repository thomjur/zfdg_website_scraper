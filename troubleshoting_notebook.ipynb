{
 "cells": [
  {
   "cell_type": "code",
   "execution_count": 1,
   "metadata": {},
   "outputs": [],
   "source": [
    "from bs4 import BeautifulSoup\n",
    "from urllib.parse import urljoin, urlparse\n",
    "import shutil, os, time, datetime, re\n",
    "import pandas as pd\n",
    "from PIL import Image\n",
    "from scraper import DataPreparation, Corpus\n",
    "from analyzer import Analyzer"
   ]
  },
  {
   "cell_type": "markdown",
   "metadata": {},
   "source": [
    "# TODO\n",
    "\n",
    "- carousel finder\n",
    "- builtwith implementation"
   ]
  },
  {
   "cell_type": "markdown",
   "metadata": {},
   "source": [
    "# Corpus Creation"
   ]
  },
  {
   "cell_type": "code",
   "execution_count": 2,
   "metadata": {},
   "outputs": [],
   "source": [
    "cp = Corpus()"
   ]
  },
  {
   "cell_type": "code",
   "execution_count": 6,
   "metadata": {},
   "outputs": [],
   "source": [
    "#cp.initCorpus()"
   ]
  },
  {
   "cell_type": "markdown",
   "metadata": {},
   "source": [
    "# Data Preparation"
   ]
  },
  {
   "cell_type": "code",
   "execution_count": 2,
   "metadata": {},
   "outputs": [],
   "source": [
    "dp = DataPreparation()"
   ]
  },
  {
   "cell_type": "code",
   "execution_count": 5,
   "metadata": {},
   "outputs": [],
   "source": [
    "#dp.getImages()"
   ]
  },
  {
   "cell_type": "code",
   "execution_count": 3,
   "metadata": {},
   "outputs": [],
   "source": [
    "#data_dict = dp.createAnalyzerDict()"
   ]
  },
  {
   "cell_type": "code",
   "execution_count": 6,
   "metadata": {},
   "outputs": [],
   "source": [
    "bw_dict = dp.getBuiltWithFromPickle()"
   ]
  },
  {
   "cell_type": "code",
   "execution_count": 9,
   "metadata": {},
   "outputs": [],
   "source": [
    "df = pd.DataFrame.from_dict(bw_dict, orient=\"index\")"
   ]
  },
  {
   "cell_type": "code",
   "execution_count": 24,
   "metadata": {},
   "outputs": [],
   "source": [
    "from sklearn.preprocessing import MultiLabelBinarizer"
   ]
  },
  {
   "cell_type": "code",
   "execution_count": null,
   "metadata": {},
   "outputs": [],
   "source": []
  },
  {
   "cell_type": "code",
   "execution_count": null,
   "metadata": {},
   "outputs": [],
   "source": []
  },
  {
   "cell_type": "code",
   "execution_count": null,
   "metadata": {},
   "outputs": [],
   "source": []
  },
  {
   "cell_type": "code",
   "execution_count": null,
   "metadata": {},
   "outputs": [],
   "source": []
  },
  {
   "cell_type": "code",
   "execution_count": null,
   "metadata": {},
   "outputs": [],
   "source": []
  },
  {
   "cell_type": "code",
   "execution_count": null,
   "metadata": {},
   "outputs": [],
   "source": []
  },
  {
   "cell_type": "code",
   "execution_count": null,
   "metadata": {},
   "outputs": [],
   "source": []
  },
  {
   "cell_type": "code",
   "execution_count": null,
   "metadata": {},
   "outputs": [],
   "source": []
  },
  {
   "cell_type": "markdown",
   "metadata": {},
   "source": [
    "# Analysis"
   ]
  },
  {
   "cell_type": "code",
   "execution_count": 4,
   "metadata": {},
   "outputs": [],
   "source": [
    "ana = Analyzer()"
   ]
  },
  {
   "cell_type": "code",
   "execution_count": null,
   "metadata": {},
   "outputs": [],
   "source": [
    " "
   ]
  },
  {
   "cell_type": "code",
   "execution_count": 3,
   "metadata": {},
   "outputs": [],
   "source": [
    "# Categorical Data from builtwith"
   ]
  },
  {
   "cell_type": "code",
   "execution_count": 2,
   "metadata": {},
   "outputs": [],
   "source": [
    "#bw_data = ana.getBuiltWithCategorical()"
   ]
  },
  {
   "cell_type": "code",
   "execution_count": 3,
   "metadata": {},
   "outputs": [],
   "source": [
    "#bw_clustered = ana.getCosine4CategoricalData(bw_data)"
   ]
  },
  {
   "cell_type": "code",
   "execution_count": 3,
   "metadata": {},
   "outputs": [],
   "source": [
    "# KMeans clustering and standardization"
   ]
  },
  {
   "cell_type": "code",
   "execution_count": 5,
   "metadata": {},
   "outputs": [
    {
     "name": "stdout",
     "output_type": "stream",
     "text": [
      "Columns successfully changed!\n"
     ]
    }
   ],
   "source": [
    "ana.setColumnSelection(['total_images', 'big_images', 'middle_images', 'small_images', 'background_images'])"
   ]
  },
  {
   "cell_type": "code",
   "execution_count": 6,
   "metadata": {},
   "outputs": [
    {
     "name": "stdout",
     "output_type": "stream",
     "text": [
      "Currently, the following columns are selected: ['total_images', 'big_images', 'middle_images', 'small_images', 'background_images']\n"
     ]
    }
   ],
   "source": [
    "ana.getColumnSelection()"
   ]
  },
  {
   "cell_type": "code",
   "execution_count": null,
   "metadata": {},
   "outputs": [],
   "source": []
  },
  {
   "cell_type": "code",
   "execution_count": 7,
   "metadata": {},
   "outputs": [],
   "source": [
    "standardized_data = ana.standardizeData(ana.data_df)"
   ]
  },
  {
   "cell_type": "code",
   "execution_count": 10,
   "metadata": {},
   "outputs": [],
   "source": [
    "clustered_data = ana.clusterDataKMeans(standardized_data, n=4)"
   ]
  },
  {
   "cell_type": "code",
   "execution_count": 9,
   "metadata": {},
   "outputs": [
    {
     "name": "stdout",
     "output_type": "stream",
     "text": [
      "Creating elbow plot in range between [2, 3, 4, 5, 6, 7, 8] n for KMeans.\n"
     ]
    },
    {
     "data": {
      "image/png": "[encoded data removed]",
      "text/plain": [
       "<Figure size 504x504 with 1 Axes>"
      ]
     },
     "metadata": {
      "needs_background": "light"
     },
     "output_type": "display_data"
    }
   ],
   "source": [
    "ana.createElbowPlot(standardized_data)"
   ]
  },
  {
   "cell_type": "code",
   "execution_count": 11,
   "metadata": {},
   "outputs": [
    {
     "data": {
      "text/html": [
       "<div>\n",
       "<style scoped>\n",
       "    .dataframe tbody tr th:only-of-type {\n",
       "        vertical-align: middle;\n",
       "    }\n",
       "\n",
       "    .dataframe tbody tr th {\n",
       "        vertical-align: top;\n",
       "    }\n",
       "\n",
       "    .dataframe thead th {\n",
       "        text-align: right;\n",
       "    }\n",
       "</style>\n",
       "<table border=\"1\" class=\"dataframe\">\n",
       "  <thead>\n",
       "    <tr style=\"text-align: right;\">\n",
       "      <th></th>\n",
       "      <th>total_images_scaled</th>\n",
       "      <th>big_images_scaled</th>\n",
       "      <th>middle_images_scaled</th>\n",
       "      <th>small_images_scaled</th>\n",
       "      <th>background_images_scaled</th>\n",
       "      <th>clusters</th>\n",
       "    </tr>\n",
       "  </thead>\n",
       "  <tbody>\n",
       "    <tr>\n",
       "      <th>hausvonazer.de</th>\n",
       "      <td>-0.356459</td>\n",
       "      <td>0.537484</td>\n",
       "      <td>0.417883</td>\n",
       "      <td>-0.741087</td>\n",
       "      <td>-0.383104</td>\n",
       "      <td>0</td>\n",
       "    </tr>\n",
       "    <tr>\n",
       "      <th>houseofsolution.de</th>\n",
       "      <td>-0.356459</td>\n",
       "      <td>-0.454794</td>\n",
       "      <td>-0.537278</td>\n",
       "      <td>0.343903</td>\n",
       "      <td>-0.269592</td>\n",
       "      <td>2</td>\n",
       "    </tr>\n",
       "    <tr>\n",
       "      <th>pierrevogelde.blogspot.com</th>\n",
       "      <td>0.334855</td>\n",
       "      <td>-0.620174</td>\n",
       "      <td>0.417883</td>\n",
       "      <td>0.653901</td>\n",
       "      <td>-0.383104</td>\n",
       "      <td>0</td>\n",
       "    </tr>\n",
       "    <tr>\n",
       "      <th>tabgha.ruhr</th>\n",
       "      <td>0.277246</td>\n",
       "      <td>0.041345</td>\n",
       "      <td>-0.728310</td>\n",
       "      <td>0.188905</td>\n",
       "      <td>-0.383104</td>\n",
       "      <td>2</td>\n",
       "    </tr>\n",
       "    <tr>\n",
       "      <th>al-adala.de</th>\n",
       "      <td>-0.500483</td>\n",
       "      <td>-0.620174</td>\n",
       "      <td>1.564075</td>\n",
       "      <td>-0.663588</td>\n",
       "      <td>-0.383104</td>\n",
       "      <td>0</td>\n",
       "    </tr>\n",
       "    <tr>\n",
       "      <th>buddhismus-deutschland.de</th>\n",
       "      <td>-0.327654</td>\n",
       "      <td>0.702863</td>\n",
       "      <td>-0.728310</td>\n",
       "      <td>-0.741087</td>\n",
       "      <td>-0.383104</td>\n",
       "      <td>2</td>\n",
       "    </tr>\n",
       "    <tr>\n",
       "      <th>credo-kirche.de</th>\n",
       "      <td>-0.730921</td>\n",
       "      <td>-0.537484</td>\n",
       "      <td>-0.728310</td>\n",
       "      <td>-0.353591</td>\n",
       "      <td>-0.269592</td>\n",
       "      <td>2</td>\n",
       "    </tr>\n",
       "    <tr>\n",
       "      <th>ditib.de</th>\n",
       "      <td>-0.068411</td>\n",
       "      <td>-0.620174</td>\n",
       "      <td>0.799947</td>\n",
       "      <td>0.111405</td>\n",
       "      <td>-0.383104</td>\n",
       "      <td>0</td>\n",
       "    </tr>\n",
       "    <tr>\n",
       "      <th>ekd.de</th>\n",
       "      <td>3.474574</td>\n",
       "      <td>0.124035</td>\n",
       "      <td>2.519235</td>\n",
       "      <td>3.443877</td>\n",
       "      <td>3.703339</td>\n",
       "      <td>1</td>\n",
       "    </tr>\n",
       "    <tr>\n",
       "      <th>gebetshaus.org</th>\n",
       "      <td>-0.529287</td>\n",
       "      <td>-0.372104</td>\n",
       "      <td>-0.728310</td>\n",
       "      <td>-0.663588</td>\n",
       "      <td>0.184457</td>\n",
       "      <td>2</td>\n",
       "    </tr>\n",
       "    <tr>\n",
       "      <th>hinduistische-gemeinde-deutschland.de</th>\n",
       "      <td>-0.558092</td>\n",
       "      <td>-0.537484</td>\n",
       "      <td>-0.537278</td>\n",
       "      <td>-0.353591</td>\n",
       "      <td>-0.383104</td>\n",
       "      <td>2</td>\n",
       "    </tr>\n",
       "    <tr>\n",
       "      <th>katholisch.de</th>\n",
       "      <td>0.594098</td>\n",
       "      <td>3.431628</td>\n",
       "      <td>-0.728310</td>\n",
       "      <td>-0.818587</td>\n",
       "      <td>-0.269592</td>\n",
       "      <td>3</td>\n",
       "    </tr>\n",
       "    <tr>\n",
       "      <th>kircheimpott.de</th>\n",
       "      <td>-0.817335</td>\n",
       "      <td>-0.537484</td>\n",
       "      <td>-0.728310</td>\n",
       "      <td>-0.586089</td>\n",
       "      <td>-0.383104</td>\n",
       "      <td>2</td>\n",
       "    </tr>\n",
       "    <tr>\n",
       "      <th>miraath.de</th>\n",
       "      <td>-0.644506</td>\n",
       "      <td>-0.620174</td>\n",
       "      <td>-0.728310</td>\n",
       "      <td>-0.121093</td>\n",
       "      <td>-0.383104</td>\n",
       "      <td>2</td>\n",
       "    </tr>\n",
       "    <tr>\n",
       "      <th>zentralratderjuden.de</th>\n",
       "      <td>0.622903</td>\n",
       "      <td>0.620174</td>\n",
       "      <td>1.182011</td>\n",
       "      <td>-0.198592</td>\n",
       "      <td>0.752019</td>\n",
       "      <td>0</td>\n",
       "    </tr>\n",
       "    <tr>\n",
       "      <th>zentralrat.de</th>\n",
       "      <td>-0.414068</td>\n",
       "      <td>-0.537484</td>\n",
       "      <td>-0.728310</td>\n",
       "      <td>0.498902</td>\n",
       "      <td>-0.383104</td>\n",
       "      <td>2</td>\n",
       "    </tr>\n",
       "  </tbody>\n",
       "</table>\n",
       "</div>"
      ],
      "text/plain": [
       "                                       total_images_scaled  big_images_scaled  \\\n",
       "hausvonazer.de                                   -0.356459           0.537484   \n",
       "houseofsolution.de                               -0.356459          -0.454794   \n",
       "pierrevogelde.blogspot.com                        0.334855          -0.620174   \n",
       "tabgha.ruhr                                       0.277246           0.041345   \n",
       "al-adala.de                                      -0.500483          -0.620174   \n",
       "buddhismus-deutschland.de                        -0.327654           0.702863   \n",
       "credo-kirche.de                                  -0.730921          -0.537484   \n",
       "ditib.de                                         -0.068411          -0.620174   \n",
       "ekd.de                                            3.474574           0.124035   \n",
       "gebetshaus.org                                   -0.529287          -0.372104   \n",
       "hinduistische-gemeinde-deutschland.de            -0.558092          -0.537484   \n",
       "katholisch.de                                     0.594098           3.431628   \n",
       "kircheimpott.de                                  -0.817335          -0.537484   \n",
       "miraath.de                                       -0.644506          -0.620174   \n",
       "zentralratderjuden.de                             0.622903           0.620174   \n",
       "zentralrat.de                                    -0.414068          -0.537484   \n",
       "\n",
       "                                       middle_images_scaled  \\\n",
       "hausvonazer.de                                     0.417883   \n",
       "houseofsolution.de                                -0.537278   \n",
       "pierrevogelde.blogspot.com                         0.417883   \n",
       "tabgha.ruhr                                       -0.728310   \n",
       "al-adala.de                                        1.564075   \n",
       "buddhismus-deutschland.de                         -0.728310   \n",
       "credo-kirche.de                                   -0.728310   \n",
       "ditib.de                                           0.799947   \n",
       "ekd.de                                             2.519235   \n",
       "gebetshaus.org                                    -0.728310   \n",
       "hinduistische-gemeinde-deutschland.de             -0.537278   \n",
       "katholisch.de                                     -0.728310   \n",
       "kircheimpott.de                                   -0.728310   \n",
       "miraath.de                                        -0.728310   \n",
       "zentralratderjuden.de                              1.182011   \n",
       "zentralrat.de                                     -0.728310   \n",
       "\n",
       "                                       small_images_scaled  \\\n",
       "hausvonazer.de                                   -0.741087   \n",
       "houseofsolution.de                                0.343903   \n",
       "pierrevogelde.blogspot.com                        0.653901   \n",
       "tabgha.ruhr                                       0.188905   \n",
       "al-adala.de                                      -0.663588   \n",
       "buddhismus-deutschland.de                        -0.741087   \n",
       "credo-kirche.de                                  -0.353591   \n",
       "ditib.de                                          0.111405   \n",
       "ekd.de                                            3.443877   \n",
       "gebetshaus.org                                   -0.663588   \n",
       "hinduistische-gemeinde-deutschland.de            -0.353591   \n",
       "katholisch.de                                    -0.818587   \n",
       "kircheimpott.de                                  -0.586089   \n",
       "miraath.de                                       -0.121093   \n",
       "zentralratderjuden.de                            -0.198592   \n",
       "zentralrat.de                                     0.498902   \n",
       "\n",
       "                                       background_images_scaled  clusters  \n",
       "hausvonazer.de                                        -0.383104         0  \n",
       "houseofsolution.de                                    -0.269592         2  \n",
       "pierrevogelde.blogspot.com                            -0.383104         0  \n",
       "tabgha.ruhr                                           -0.383104         2  \n",
       "al-adala.de                                           -0.383104         0  \n",
       "buddhismus-deutschland.de                             -0.383104         2  \n",
       "credo-kirche.de                                       -0.269592         2  \n",
       "ditib.de                                              -0.383104         0  \n",
       "ekd.de                                                 3.703339         1  \n",
       "gebetshaus.org                                         0.184457         2  \n",
       "hinduistische-gemeinde-deutschland.de                 -0.383104         2  \n",
       "katholisch.de                                         -0.269592         3  \n",
       "kircheimpott.de                                       -0.383104         2  \n",
       "miraath.de                                            -0.383104         2  \n",
       "zentralratderjuden.de                                  0.752019         0  \n",
       "zentralrat.de                                         -0.383104         2  "
      ]
     },
     "execution_count": 11,
     "metadata": {},
     "output_type": "execute_result"
    }
   ],
   "source": [
    "clustered_data"
   ]
  },
  {
   "cell_type": "code",
   "execution_count": null,
   "metadata": {},
   "outputs": [],
   "source": []
  },
  {
   "cell_type": "code",
   "execution_count": 21,
   "metadata": {},
   "outputs": [
    {
     "data": {
      "image/png": "[encoded data removed]",
      "text/plain": [
       "<Figure size 432x288 with 1 Axes>"
      ]
     },
     "metadata": {
      "needs_background": "light"
     },
     "output_type": "display_data"
    }
   ],
   "source": [
    "ana.visualizeCluster(df_orig_clustered, \"big_images\", \"total_length\")"
   ]
  },
  {
   "cell_type": "code",
   "execution_count": 11,
   "metadata": {},
   "outputs": [],
   "source": [
    "df_scaled = ana.standardizeData(df_orig)"
   ]
  },
  {
   "cell_type": "code",
   "execution_count": 12,
   "metadata": {},
   "outputs": [],
   "source": [
    "df_scaled_clustered = ana.clusterData(df_scaled)"
   ]
  },
  {
   "cell_type": "code",
   "execution_count": 13,
   "metadata": {},
   "outputs": [
    {
     "data": {
      "text/html": [
       "<div>\n",
       "<style scoped>\n",
       "    .dataframe tbody tr th:only-of-type {\n",
       "        vertical-align: middle;\n",
       "    }\n",
       "\n",
       "    .dataframe tbody tr th {\n",
       "        vertical-align: top;\n",
       "    }\n",
       "\n",
       "    .dataframe thead th {\n",
       "        text-align: right;\n",
       "    }\n",
       "</style>\n",
       "<table border=\"1\" class=\"dataframe\">\n",
       "  <thead>\n",
       "    <tr style=\"text-align: right;\">\n",
       "      <th></th>\n",
       "      <th>total_images_scaled</th>\n",
       "      <th>big_images_scaled</th>\n",
       "      <th>middle_images_scaled</th>\n",
       "      <th>small_images_scaled</th>\n",
       "      <th>background_images_scaled</th>\n",
       "      <th>total_length_scaled</th>\n",
       "      <th>external_links_scaled</th>\n",
       "      <th>internal_links_scaled</th>\n",
       "      <th>total_links_scaled</th>\n",
       "      <th>clusters</th>\n",
       "    </tr>\n",
       "  </thead>\n",
       "  <tbody>\n",
       "    <tr>\n",
       "      <th>hausvonazer.de</th>\n",
       "      <td>-0.326248</td>\n",
       "      <td>0.609449</td>\n",
       "      <td>0.417883</td>\n",
       "      <td>-0.741087</td>\n",
       "      <td>-0.383104</td>\n",
       "      <td>-0.791339</td>\n",
       "      <td>-0.438083</td>\n",
       "      <td>-0.801780</td>\n",
       "      <td>-0.846838</td>\n",
       "      <td>0</td>\n",
       "    </tr>\n",
       "    <tr>\n",
       "      <th>houseofsolution.de</th>\n",
       "      <td>-0.356076</td>\n",
       "      <td>-0.474016</td>\n",
       "      <td>-0.537278</td>\n",
       "      <td>0.343903</td>\n",
       "      <td>-0.269592</td>\n",
       "      <td>-0.489500</td>\n",
       "      <td>-0.267124</td>\n",
       "      <td>0.248460</td>\n",
       "      <td>0.191975</td>\n",
       "      <td>0</td>\n",
       "    </tr>\n",
       "    <tr>\n",
       "      <th>pierrevogelde.blogspot.com</th>\n",
       "      <td>0.389633</td>\n",
       "      <td>-0.557360</td>\n",
       "      <td>0.417883</td>\n",
       "      <td>0.653901</td>\n",
       "      <td>-0.383104</td>\n",
       "      <td>-0.299769</td>\n",
       "      <td>1.186030</td>\n",
       "      <td>0.178444</td>\n",
       "      <td>0.378812</td>\n",
       "      <td>0</td>\n",
       "    </tr>\n",
       "    <tr>\n",
       "      <th>tabgha.ruhr</th>\n",
       "      <td>0.329976</td>\n",
       "      <td>0.109388</td>\n",
       "      <td>-0.728310</td>\n",
       "      <td>0.188905</td>\n",
       "      <td>-0.383104</td>\n",
       "      <td>-0.624632</td>\n",
       "      <td>-0.438083</td>\n",
       "      <td>-0.786221</td>\n",
       "      <td>-0.831891</td>\n",
       "      <td>0</td>\n",
       "    </tr>\n",
       "    <tr>\n",
       "      <th>al-adala.de</th>\n",
       "      <td>-0.475390</td>\n",
       "      <td>-0.557360</td>\n",
       "      <td>1.564075</td>\n",
       "      <td>-0.663588</td>\n",
       "      <td>-0.383104</td>\n",
       "      <td>0.154582</td>\n",
       "      <td>-0.694522</td>\n",
       "      <td>2.061096</td>\n",
       "      <td>1.858559</td>\n",
       "      <td>0</td>\n",
       "    </tr>\n",
       "    <tr>\n",
       "      <th>buddhismus-deutschland.de</th>\n",
       "      <td>-0.296420</td>\n",
       "      <td>0.776136</td>\n",
       "      <td>-0.728310</td>\n",
       "      <td>-0.741087</td>\n",
       "      <td>-0.383104</td>\n",
       "      <td>-0.197124</td>\n",
       "      <td>-0.908221</td>\n",
       "      <td>-0.755103</td>\n",
       "      <td>-0.884205</td>\n",
       "      <td>0</td>\n",
       "    </tr>\n",
       "    <tr>\n",
       "      <th>credo-kirche.de</th>\n",
       "      <td>-0.743845</td>\n",
       "      <td>-0.557360</td>\n",
       "      <td>-0.728310</td>\n",
       "      <td>-0.353591</td>\n",
       "      <td>-0.269592</td>\n",
       "      <td>-0.702799</td>\n",
       "      <td>-0.694522</td>\n",
       "      <td>-0.887356</td>\n",
       "      <td>-0.973887</td>\n",
       "      <td>0</td>\n",
       "    </tr>\n",
       "    <tr>\n",
       "      <th>ditib.de</th>\n",
       "      <td>-0.027964</td>\n",
       "      <td>-0.557360</td>\n",
       "      <td>0.799947</td>\n",
       "      <td>0.111405</td>\n",
       "      <td>-0.383104</td>\n",
       "      <td>-0.484859</td>\n",
       "      <td>-0.438083</td>\n",
       "      <td>-0.226093</td>\n",
       "      <td>-0.293801</td>\n",
       "      <td>0</td>\n",
       "    </tr>\n",
       "    <tr>\n",
       "      <th>ekd.de</th>\n",
       "      <td>3.491785</td>\n",
       "      <td>0.109388</td>\n",
       "      <td>2.519235</td>\n",
       "      <td>3.443877</td>\n",
       "      <td>3.703339</td>\n",
       "      <td>1.358392</td>\n",
       "      <td>-0.309864</td>\n",
       "      <td>2.527869</td>\n",
       "      <td>2.374228</td>\n",
       "      <td>1</td>\n",
       "    </tr>\n",
       "    <tr>\n",
       "      <th>gebetshaus.org</th>\n",
       "      <td>-0.654360</td>\n",
       "      <td>-0.307329</td>\n",
       "      <td>-0.728310</td>\n",
       "      <td>-0.663588</td>\n",
       "      <td>0.184457</td>\n",
       "      <td>2.925829</td>\n",
       "      <td>-0.181644</td>\n",
       "      <td>0.123987</td>\n",
       "      <td>0.087346</td>\n",
       "      <td>0</td>\n",
       "    </tr>\n",
       "    <tr>\n",
       "      <th>hinduistische-gemeinde-deutschland.de</th>\n",
       "      <td>-0.535047</td>\n",
       "      <td>-0.474016</td>\n",
       "      <td>-0.537278</td>\n",
       "      <td>-0.353591</td>\n",
       "      <td>-0.383104</td>\n",
       "      <td>-0.552288</td>\n",
       "      <td>-0.908221</td>\n",
       "      <td>-0.817340</td>\n",
       "      <td>-0.943993</td>\n",
       "      <td>0</td>\n",
       "    </tr>\n",
       "    <tr>\n",
       "      <th>katholisch.de</th>\n",
       "      <td>0.628260</td>\n",
       "      <td>3.526472</td>\n",
       "      <td>-0.728310</td>\n",
       "      <td>-0.818587</td>\n",
       "      <td>-0.269592</td>\n",
       "      <td>1.496072</td>\n",
       "      <td>3.023843</td>\n",
       "      <td>0.839706</td>\n",
       "      <td>1.335416</td>\n",
       "      <td>2</td>\n",
       "    </tr>\n",
       "    <tr>\n",
       "      <th>kircheimpott.de</th>\n",
       "      <td>-0.803502</td>\n",
       "      <td>-0.474016</td>\n",
       "      <td>-0.728310</td>\n",
       "      <td>-0.586089</td>\n",
       "      <td>-0.383104</td>\n",
       "      <td>-0.584865</td>\n",
       "      <td>-0.309864</td>\n",
       "      <td>-0.607292</td>\n",
       "      <td>-0.637581</td>\n",
       "      <td>0</td>\n",
       "    </tr>\n",
       "    <tr>\n",
       "      <th>miraath.de</th>\n",
       "      <td>-0.624532</td>\n",
       "      <td>-0.557360</td>\n",
       "      <td>-0.728310</td>\n",
       "      <td>-0.121093</td>\n",
       "      <td>-0.383104</td>\n",
       "      <td>-0.599880</td>\n",
       "      <td>-0.395343</td>\n",
       "      <td>0.077309</td>\n",
       "      <td>0.005138</td>\n",
       "      <td>0</td>\n",
       "    </tr>\n",
       "    <tr>\n",
       "      <th>zentralratderjuden.de</th>\n",
       "      <td>0.389633</td>\n",
       "      <td>-0.140642</td>\n",
       "      <td>1.182011</td>\n",
       "      <td>-0.198592</td>\n",
       "      <td>0.752019</td>\n",
       "      <td>-0.419614</td>\n",
       "      <td>0.544933</td>\n",
       "      <td>-0.319448</td>\n",
       "      <td>-0.211593</td>\n",
       "      <td>0</td>\n",
       "    </tr>\n",
       "    <tr>\n",
       "      <th>zentralrat.de</th>\n",
       "      <td>-0.385905</td>\n",
       "      <td>-0.474016</td>\n",
       "      <td>-0.728310</td>\n",
       "      <td>0.498902</td>\n",
       "      <td>-0.383104</td>\n",
       "      <td>-0.188206</td>\n",
       "      <td>1.228770</td>\n",
       "      <td>-0.856237</td>\n",
       "      <td>-0.607687</td>\n",
       "      <td>0</td>\n",
       "    </tr>\n",
       "  </tbody>\n",
       "</table>\n",
       "</div>"
      ],
      "text/plain": [
       "                                       total_images_scaled  big_images_scaled  \\\n",
       "hausvonazer.de                                   -0.326248           0.609449   \n",
       "houseofsolution.de                               -0.356076          -0.474016   \n",
       "pierrevogelde.blogspot.com                        0.389633          -0.557360   \n",
       "tabgha.ruhr                                       0.329976           0.109388   \n",
       "al-adala.de                                      -0.475390          -0.557360   \n",
       "buddhismus-deutschland.de                        -0.296420           0.776136   \n",
       "credo-kirche.de                                  -0.743845          -0.557360   \n",
       "ditib.de                                         -0.027964          -0.557360   \n",
       "ekd.de                                            3.491785           0.109388   \n",
       "gebetshaus.org                                   -0.654360          -0.307329   \n",
       "hinduistische-gemeinde-deutschland.de            -0.535047          -0.474016   \n",
       "katholisch.de                                     0.628260           3.526472   \n",
       "kircheimpott.de                                  -0.803502          -0.474016   \n",
       "miraath.de                                       -0.624532          -0.557360   \n",
       "zentralratderjuden.de                             0.389633          -0.140642   \n",
       "zentralrat.de                                    -0.385905          -0.474016   \n",
       "\n",
       "                                       middle_images_scaled  \\\n",
       "hausvonazer.de                                     0.417883   \n",
       "houseofsolution.de                                -0.537278   \n",
       "pierrevogelde.blogspot.com                         0.417883   \n",
       "tabgha.ruhr                                       -0.728310   \n",
       "al-adala.de                                        1.564075   \n",
       "buddhismus-deutschland.de                         -0.728310   \n",
       "credo-kirche.de                                   -0.728310   \n",
       "ditib.de                                           0.799947   \n",
       "ekd.de                                             2.519235   \n",
       "gebetshaus.org                                    -0.728310   \n",
       "hinduistische-gemeinde-deutschland.de             -0.537278   \n",
       "katholisch.de                                     -0.728310   \n",
       "kircheimpott.de                                   -0.728310   \n",
       "miraath.de                                        -0.728310   \n",
       "zentralratderjuden.de                              1.182011   \n",
       "zentralrat.de                                     -0.728310   \n",
       "\n",
       "                                       small_images_scaled  \\\n",
       "hausvonazer.de                                   -0.741087   \n",
       "houseofsolution.de                                0.343903   \n",
       "pierrevogelde.blogspot.com                        0.653901   \n",
       "tabgha.ruhr                                       0.188905   \n",
       "al-adala.de                                      -0.663588   \n",
       "buddhismus-deutschland.de                        -0.741087   \n",
       "credo-kirche.de                                  -0.353591   \n",
       "ditib.de                                          0.111405   \n",
       "ekd.de                                            3.443877   \n",
       "gebetshaus.org                                   -0.663588   \n",
       "hinduistische-gemeinde-deutschland.de            -0.353591   \n",
       "katholisch.de                                    -0.818587   \n",
       "kircheimpott.de                                  -0.586089   \n",
       "miraath.de                                       -0.121093   \n",
       "zentralratderjuden.de                            -0.198592   \n",
       "zentralrat.de                                     0.498902   \n",
       "\n",
       "                                       background_images_scaled  \\\n",
       "hausvonazer.de                                        -0.383104   \n",
       "houseofsolution.de                                    -0.269592   \n",
       "pierrevogelde.blogspot.com                            -0.383104   \n",
       "tabgha.ruhr                                           -0.383104   \n",
       "al-adala.de                                           -0.383104   \n",
       "buddhismus-deutschland.de                             -0.383104   \n",
       "credo-kirche.de                                       -0.269592   \n",
       "ditib.de                                              -0.383104   \n",
       "ekd.de                                                 3.703339   \n",
       "gebetshaus.org                                         0.184457   \n",
       "hinduistische-gemeinde-deutschland.de                 -0.383104   \n",
       "katholisch.de                                         -0.269592   \n",
       "kircheimpott.de                                       -0.383104   \n",
       "miraath.de                                            -0.383104   \n",
       "zentralratderjuden.de                                  0.752019   \n",
       "zentralrat.de                                         -0.383104   \n",
       "\n",
       "                                       total_length_scaled  \\\n",
       "hausvonazer.de                                   -0.791339   \n",
       "houseofsolution.de                               -0.489500   \n",
       "pierrevogelde.blogspot.com                       -0.299769   \n",
       "tabgha.ruhr                                      -0.624632   \n",
       "al-adala.de                                       0.154582   \n",
       "buddhismus-deutschland.de                        -0.197124   \n",
       "credo-kirche.de                                  -0.702799   \n",
       "ditib.de                                         -0.484859   \n",
       "ekd.de                                            1.358392   \n",
       "gebetshaus.org                                    2.925829   \n",
       "hinduistische-gemeinde-deutschland.de            -0.552288   \n",
       "katholisch.de                                     1.496072   \n",
       "kircheimpott.de                                  -0.584865   \n",
       "miraath.de                                       -0.599880   \n",
       "zentralratderjuden.de                            -0.419614   \n",
       "zentralrat.de                                    -0.188206   \n",
       "\n",
       "                                       external_links_scaled  \\\n",
       "hausvonazer.de                                     -0.438083   \n",
       "houseofsolution.de                                 -0.267124   \n",
       "pierrevogelde.blogspot.com                          1.186030   \n",
       "tabgha.ruhr                                        -0.438083   \n",
       "al-adala.de                                        -0.694522   \n",
       "buddhismus-deutschland.de                          -0.908221   \n",
       "credo-kirche.de                                    -0.694522   \n",
       "ditib.de                                           -0.438083   \n",
       "ekd.de                                             -0.309864   \n",
       "gebetshaus.org                                     -0.181644   \n",
       "hinduistische-gemeinde-deutschland.de              -0.908221   \n",
       "katholisch.de                                       3.023843   \n",
       "kircheimpott.de                                    -0.309864   \n",
       "miraath.de                                         -0.395343   \n",
       "zentralratderjuden.de                               0.544933   \n",
       "zentralrat.de                                       1.228770   \n",
       "\n",
       "                                       internal_links_scaled  \\\n",
       "hausvonazer.de                                     -0.801780   \n",
       "houseofsolution.de                                  0.248460   \n",
       "pierrevogelde.blogspot.com                          0.178444   \n",
       "tabgha.ruhr                                        -0.786221   \n",
       "al-adala.de                                         2.061096   \n",
       "buddhismus-deutschland.de                          -0.755103   \n",
       "credo-kirche.de                                    -0.887356   \n",
       "ditib.de                                           -0.226093   \n",
       "ekd.de                                              2.527869   \n",
       "gebetshaus.org                                      0.123987   \n",
       "hinduistische-gemeinde-deutschland.de              -0.817340   \n",
       "katholisch.de                                       0.839706   \n",
       "kircheimpott.de                                    -0.607292   \n",
       "miraath.de                                          0.077309   \n",
       "zentralratderjuden.de                              -0.319448   \n",
       "zentralrat.de                                      -0.856237   \n",
       "\n",
       "                                       total_links_scaled  clusters  \n",
       "hausvonazer.de                                  -0.846838         0  \n",
       "houseofsolution.de                               0.191975         0  \n",
       "pierrevogelde.blogspot.com                       0.378812         0  \n",
       "tabgha.ruhr                                     -0.831891         0  \n",
       "al-adala.de                                      1.858559         0  \n",
       "buddhismus-deutschland.de                       -0.884205         0  \n",
       "credo-kirche.de                                 -0.973887         0  \n",
       "ditib.de                                        -0.293801         0  \n",
       "ekd.de                                           2.374228         1  \n",
       "gebetshaus.org                                   0.087346         0  \n",
       "hinduistische-gemeinde-deutschland.de           -0.943993         0  \n",
       "katholisch.de                                    1.335416         2  \n",
       "kircheimpott.de                                 -0.637581         0  \n",
       "miraath.de                                       0.005138         0  \n",
       "zentralratderjuden.de                           -0.211593         0  \n",
       "zentralrat.de                                   -0.607687         0  "
      ]
     },
     "execution_count": 13,
     "metadata": {},
     "output_type": "execute_result"
    }
   ],
   "source": [
    "df_scaled_clustered"
   ]
  },
  {
   "cell_type": "code",
   "execution_count": 15,
   "metadata": {},
   "outputs": [
    {
     "data": {
      "image/png": "[encoded data removed]",
      "text/plain": [
       "<Figure size 432x288 with 1 Axes>"
      ]
     },
     "metadata": {
      "needs_background": "light"
     },
     "output_type": "display_data"
    }
   ],
   "source": [
    "ana.visualizeCluster(df_scaled_clustered, \"big_images_scaled\", \"total_length_scaled\")"
   ]
  },
  {
   "cell_type": "code",
   "execution_count": null,
   "metadata": {},
   "outputs": [],
   "source": []
  },
  {
   "cell_type": "markdown",
   "metadata": {},
   "source": [
    "# Testing stuff"
   ]
  },
  {
   "cell_type": "code",
   "execution_count": 9,
   "metadata": {},
   "outputs": [],
   "source": [
    "with open(\"CorpusData/www.zentralratderjuden.de.html\", \"r\", encoding=\"utf-8\") as f:\n",
    "    doc = f.read()"
   ]
  },
  {
   "cell_type": "code",
   "execution_count": 10,
   "metadata": {},
   "outputs": [],
   "source": [
    "soup = BeautifulSoup(doc, \"html.parser\")"
   ]
  },
  {
   "cell_type": "code",
   "execution_count": 13,
   "metadata": {},
   "outputs": [],
   "source": [
    "carousels = soup.select(\".carousel.slide\")"
   ]
  },
  {
   "cell_type": "code",
   "execution_count": 14,
   "metadata": {},
   "outputs": [
    {
     "data": {
      "text/plain": [
       "[<div class=\"carousel carousel-fullscreen carousel-transition-fade slide hidden-print\" data-interval=\"5000\" data-ride=\"carousel\" data-wrap=\"true\" id=\"carousel-182\" style=\"touch-action: pan-y; user-select: none; -webkit-user-drag: none; -webkit-tap-highlight-color: rgba(0, 0, 0, 0);\"><div class=\"carousel-inner\" role=\"listbox\"><div class=\"item active carousel-item-type carousel-item-type-header\" data-itemno=\"0\" style=\"background-image: url('https://www.zentralratderjuden.de/fileadmin/user_upload/BannerOMA.png'); background-color: #ffffff;\"><a draggable=\"false\" href=\"https://www.zentralratderjuden.de/der-zentralrat/auszeichnungen/paul-spiegel-preis/\"><div class=\"valign\" style=\"color: #1c6a96;\"><div class=\"vcontainer\"><div class=\"container\"><div class=\"text-resizer slideonce\" style=\"margin-left: 0px;\"><h1 class=\"text-left awesome h1car\">Zentralrat der Juden</h1><h2 class=\"text-left awesome h2car\">in Deutschland</h2></div></div></div></div></a></div><div class=\"item carousel-item-type carousel-item-type-header\" data-itemno=\"1\" style=\"background-image: url('https://www.zentralratderjuden.de/fileadmin/user_upload/gdggddggd.jpg'); background-color: #ffffff;\"><a draggable=\"false\" href=\"https://www.zentralratderjuden.de/70jahre\"><div class=\"valign\" style=\"color: #1c6a96;\"><div class=\"vcontainer\"><div class=\"container\"><div class=\"text-resizer\"><h1 class=\"text-left awesome h1car\">Zentralrat der Juden</h1><h2 class=\"text-left awesome h2car\">in Deutschland</h2></div></div></div></div></a></div><div class=\"item carousel-item-type carousel-item-type-header\" data-itemno=\"2\" style=\"background-image: url('https://www.zentralratderjuden.de/fileadmin/user_upload/Joshka.jpg'); background-color: #ffffff;\"><a draggable=\"false\" href=\"https://gemeindetag.zentralratderjuden.de/\"><div class=\"valign\" style=\"color: #1c6a96;\"><div class=\"vcontainer\"><div class=\"container\"><div class=\"text-resizer\"><h1 class=\"text-left awesome h1car\">Zentralrat der Juden</h1><h2 class=\"text-left awesome h2car\">in Deutschland</h2></div></div></div></div></a></div><div class=\"item carousel-item-type carousel-item-type-header\" data-itemno=\"3\" style=\"background-image: url('https://www.zentralratderjuden.de/fileadmin/user_upload/Colag.jpg'); background-color: #fff;\"><div class=\"valign\" style=\"color: #1c6a96;\"><div class=\"vcontainer\"><div class=\"container\"><div class=\"text-resizer\"><h1 class=\"text-left awesome h1car\">Zentralrat der Juden</h1><h2 class=\"text-left awesome h2car\">in Deutschland</h2></div></div></div></div></div><div class=\"item carousel-item-type carousel-item-type-header\" data-itemno=\"4\" style=\"background-image: url('https://www.zentralratderjuden.de/fileadmin/user_upload/HEADD.jpg'); background-color: #ffffff;\"><div class=\"valign\" style=\"color: #1c6a96;\"><div class=\"vcontainer\"><div class=\"container\"><div class=\"text-resizer\"><h1 class=\"text-left awesome h1car\">Zentralrat der Juden</h1><h2 class=\"text-left awesome h2car\">in Deutschland</h2></div></div></div></div></div><div class=\"item carousel-item-type carousel-item-type-header\" data-itemno=\"5\" style=\"background-image: url('https://www.zentralratderjuden.de/fileadmin/user_upload/dada3133312.jpg'); background-color: #ffffff;\"><div class=\"valign\" style=\"color: #1c6a96;\"><div class=\"vcontainer\"><div class=\"container\"><div class=\"text-resizer\"><h1 class=\"text-left awesome h1car\">Zentralrat der Juden</h1><h2 class=\"text-left awesome h2car\">in Deutschland</h2></div></div></div></div></div><div class=\"item carousel-item-type carousel-item-type-header\" data-itemno=\"6\" style=\"background-image: url('https://www.zentralratderjuden.de/fileadmin/user_upload/SOEDER.jpg'); background-color: #ffffff;\"><div class=\"valign\" style=\"color: #1c6a96;\"><div class=\"vcontainer\"><div class=\"container\"><div class=\"text-resizer\"><h1 class=\"text-left awesome h1car\">Zentralrat der Juden</h1><h2 class=\"text-left awesome h2car\">in Deutschland</h2></div></div></div></div></div><div class=\"item carousel-item-type carousel-item-type-header\" data-itemno=\"7\" style=\"background-image: url('https://www.zentralratderjuden.de/fileadmin/user_upload/KMB.jpg'); background-color: #ffffff;\"><div class=\"valign\" style=\"color: #1c6a96;\"><div class=\"vcontainer\"><div class=\"container\"><div class=\"text-resizer\"><h1 class=\"text-left awesome h1car\">Zentralrat der Juden</h1><h2 class=\"text-left awesome h2car\">in Deutschland</h2></div></div></div></div></div><div class=\"item carousel-item-type carousel-item-type-header\" data-itemno=\"8\" style=\"background-image: url('https://www.zentralratderjuden.de/fileadmin/user_upload/Jewrovisigdon.jpg'); background-color: ##ffffff;\"><a draggable=\"false\" href=\"http://www.jewrovision.de\"><div class=\"valign\" style=\"color: #1c6a96;\"><div class=\"vcontainer\"><div class=\"container\"><div class=\"text-resizer\"><h1 class=\"text-left awesome h1car\">Zentralrat der Juden</h1><h2 class=\"text-left awesome h2car\">in Deutschland</h2></div></div></div></div></a></div><div class=\"item carousel-item-type carousel-item-type-header\" data-itemno=\"9\" style=\"background-image: url('https://www.zentralratderjuden.de/fileadmin/user_upload/img/Header/Startseite-Header/slider_ratsversammlung.jpg'); background-color: #ffffff;\"><div class=\"valign\" style=\"color: #1c6a96;\"><div class=\"vcontainer\"><div class=\"container\"><div class=\"text-resizer\"><h1 class=\"text-left awesome h1car\">Zentralrat der Juden</h1><h2 class=\"text-left awesome h2car\">in Deutschland</h2></div></div></div></div></div></div></div>,\n",
       " <div class=\"carousel carousel-small carousel-transition-fade slide\" data-interval=\"5000\" data-ride=\"carousel\" data-wrap=\"true\" id=\"carousel-199\" style=\"touch-action: pan-y; user-select: none; -webkit-user-drag: none; -webkit-tap-highlight-color: rgba(0, 0, 0, 0);\"><div class=\"carousel-inner\" role=\"listbox\"><div class=\"parallax-window item active carousel-item-type carousel-item-type-backgroundimage\" data-image-src=\"https://www.zentralratderjuden.de/fileadmin//user_upload/banner.png\" data-itemno=\"0\" data-parallax=\"scroll\"></div><script>\n",
       "                     jQuery( document ).ready(function() {\n",
       "                     jQuery('.parallax-window').parallax({imageSrc: 'fileadmin//user_upload/banner.png'});\n",
       "                    });\n",
       "                     </script></div></div>]"
      ]
     },
     "execution_count": 14,
     "metadata": {},
     "output_type": "execute_result"
    }
   ],
   "source": [
    "carousels"
   ]
  },
  {
   "cell_type": "code",
   "execution_count": 55,
   "metadata": {},
   "outputs": [],
   "source": [
    "list1 = [1,2,3]\n",
    "list2 = [3,4,5]"
   ]
  },
  {
   "cell_type": "code",
   "execution_count": 56,
   "metadata": {},
   "outputs": [
    {
     "data": {
      "text/plain": [
       "[1, 2, 3, 3, 4, 5]"
      ]
     },
     "execution_count": 56,
     "metadata": {},
     "output_type": "execute_result"
    }
   ],
   "source": [
    "list1 + list2"
   ]
  },
  {
   "cell_type": "code",
   "execution_count": null,
   "metadata": {},
   "outputs": [],
   "source": []
  },
  {
   "cell_type": "code",
   "execution_count": null,
   "metadata": {},
   "outputs": [],
   "source": []
  },
  {
   "cell_type": "code",
   "execution_count": null,
   "metadata": {},
   "outputs": [],
   "source": []
  }
 ],
 "metadata": {
  "kernelspec": {
   "display_name": "Python 3",
   "language": "python",
   "name": "python3"
  },
  "language_info": {
   "codemirror_mode": {
    "name": "ipython",
    "version": 3
   },
   "file_extension": ".py",
   "mimetype": "text/x-python",
   "name": "python",
   "nbconvert_exporter": "python",
   "pygments_lexer": "ipython3",
   "version": "3.9.1"
  }
 },
 "nbformat": 4,
 "nbformat_minor": 4
}
