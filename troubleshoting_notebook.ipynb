{
 "cells": [
  {
   "cell_type": "code",
   "execution_count": 1,
   "metadata": {},
   "outputs": [],
   "source": [
    "from bs4 import BeautifulSoup\n",
    "from urllib.parse import urljoin, urlparse\n",
    "import shutil, os, time, datetime, re\n",
    "import pandas as pd\n",
    "from PIL import Image\n",
    "from scraper import DataPreparation, Corpus\n",
    "from analyzer import Analyzer"
   ]
  },
  {
   "cell_type": "markdown",
   "metadata": {},
   "source": [
    "# Corpus Creation"
   ]
  },
  {
   "cell_type": "code",
   "execution_count": 2,
   "metadata": {},
   "outputs": [],
   "source": [
    "cp = Corpus()"
   ]
  },
  {
   "cell_type": "code",
   "execution_count": 6,
   "metadata": {},
   "outputs": [],
   "source": [
    "#cp.initCorpus()"
   ]
  },
  {
   "cell_type": "markdown",
   "metadata": {},
   "source": [
    "# Data Preparation"
   ]
  },
  {
   "cell_type": "code",
   "execution_count": 22,
   "metadata": {},
   "outputs": [],
   "source": [
    "dp = DataPreparation()"
   ]
  },
  {
   "cell_type": "code",
   "execution_count": 7,
   "metadata": {},
   "outputs": [],
   "source": [
    "#dp.getImages()"
   ]
  },
  {
   "cell_type": "code",
   "execution_count": 23,
   "metadata": {},
   "outputs": [
    {
     "name": "stdout",
     "output_type": "stream",
     "text": [
      "<DirEntry 'hausvonazer.de.html'>\n",
      "<DirEntry 'houseofsolution.de.html'>\n",
      "<DirEntry 'INFO.txt'>\n",
      "<DirEntry 'pierrevogelde.blogspot.com.html'>\n",
      "<DirEntry 'tabgha.ruhr.html'>\n",
      "<DirEntry 'www.al-adala.de.html'>\n",
      "<DirEntry 'www.buddhismus-deutschland.de.html'>\n",
      "<DirEntry 'www.credo-kirche.de.html'>\n",
      "<DirEntry 'www.ditib.de.html'>\n",
      "<DirEntry 'www.ekd.de.html'>\n",
      "<DirEntry 'www.gebetshaus.org.html'>\n",
      "<DirEntry 'www.hinduistische-gemeinde-deutschland.de.html'>\n",
      "<DirEntry 'www.katholisch.de.html'>\n",
      "<DirEntry 'www.kircheimpott.de.html'>\n",
      "<DirEntry 'www.miraath.de.html'>\n",
      "<DirEntry 'www.zentralratderjuden.de.html'>\n",
      "<DirEntry 'zentralrat.de.html'>\n",
      "Current netloc hausvonazer.de of type <class 'str'>\n",
      "Current netloc houseofsolution.de of type <class 'str'>\n",
      "Current netloc pierrevogelde.blogspot.com of type <class 'str'>\n",
      "Current netloc tabgha.ruhr of type <class 'str'>\n",
      "Current netloc al-adala.de of type <class 'str'>\n",
      "Current netloc buddhismus-deutschland.de of type <class 'str'>\n",
      "Current netloc credo-kirche.de of type <class 'str'>\n",
      "Current netloc ditib.de of type <class 'str'>\n",
      "Current netloc ekd.de of type <class 'str'>\n",
      "Current netloc gebetshaus.org of type <class 'str'>\n",
      "Current netloc hinduistische-gemeinde-deutschland.de of type <class 'str'>\n",
      "Current netloc katholisch.de of type <class 'str'>\n",
      "Current netloc kircheimpott.de of type <class 'str'>\n",
      "Current netloc miraath.de of type <class 'str'>\n",
      "Current netloc zentralratderjuden.de of type <class 'str'>\n",
      "Current netloc zentralrat.de of type <class 'str'>\n"
     ]
    }
   ],
   "source": [
    "data_dict = dp.createAnalyzerDict()"
   ]
  },
  {
   "cell_type": "code",
   "execution_count": 25,
   "metadata": {},
   "outputs": [
    {
     "data": {
      "text/plain": [
       "{'total_images': 10,\n",
       " 'big_images': 3,\n",
       " 'middle_images': 0,\n",
       " 'small_images': 2,\n",
       " 'background_images': 5,\n",
       " 'images': {'https://www.facebook.com/tr?id=351653355242095&ev=PageView &noscript=1': {'width': 1,\n",
       "   'height': 1},\n",
       "  'gebetshaus-logo-white.svg': {'width': -1, 'height': -1},\n",
       "  'fileadmin/_processed_/1/4/csm_Willkommen_im_Gebetshaus-1_d0d2e857a7.jpg': {'width': 1024,\n",
       "   'height': 683},\n",
       "  'fileadmin/home/gebetshaus-slide-1-1024x638.jpg': {'width': 1024,\n",
       "   'height': 637},\n",
       "  'fileadmin/_processed_/a/3/csm_Willkommen_im_Gebetshaus-3_941ada6cd3.jpg': {'width': 1024,\n",
       "   'height': 683},\n",
       "  'fileadmin/home/Unterstuetzen.png': {'width': -1, 'height': -1},\n",
       "  'fileadmin/home/Mitarbeiten.png': {'width': -1, 'height': -1},\n",
       "  'fileadmin/home/Besuchen.png': {'width': -1, 'height': -1},\n",
       "  'https://www.paypal.com/de_DE/i/scr/pixel.gif': {'width': 1, 'height': 1},\n",
       "  'typo3conf/ext/yt_gebetshaus/Resources/Public/Images/scroll-top.png': {'width': -1,\n",
       "   'height': -1}},\n",
       " 'total_length': 41724,\n",
       " 'text_complete': ' Gebetshaus Website: Home Home Gebetshaus Vision Gebetsraum GebetshausMissionare Geschichte FAQ Besuchen Zimmer und Gästehaus But first: Coffee Gebetsraum Anfahrt & Adresse Veranstaltungen Livestream SCHØN MEHR DonnerstagAbend Gebetszeiten Schulungen FlameAcademy Unterstützen Spenden Mitarbeiten Partner werden Medien 90 Sekunden Hardfacts How to: LIFE Glaube & Zweifel Schwarzbrot – das harte Zeug Podcasts Shop Kontakt Allgemein Gebetsanliegen Sprecher anfragen Bewerbung Volontariat Impressum & Datenschutz Suchbegriff Suchen Night and day we pray Video ansehen Man kann es auch verrückt nennen. Für uns ist es pure Faszination. Gebet ohne Unterbrechung. Und mittlerweile teilen Tausende unsere Begeisterung. Willkommen auf unserer Seite! *** Covid19 Beschränkungen: Aufgrund der aktuellen Situation ist das Gebetshaus\\xa0leider vorübergehend für Besucher geschlossen. Die Prayerhomes sind momentan wieder offen. *** Mehr Termine News Vorträge Vision 02.12.2020 Info für PrayerHomes Gäste Aufgrund der neuesten Bestimmung sind Reisen aus religiösem Anlass\\xa0erlaubt. Deshalb öffnen wir für Sie ab sofort die PrayerHomes. Buchen Sie wie gewohnt Ihren Aufenthalt bei uns.\\xa0Wir freuen uns auf Sie! 13.10.2020 15.10. Donnerstag Abend mit Johannes Hartl Am 15.10. wird Johannes Hartl über das Thema “Eifersucht” sprechen. Ist Eifersucht eigentlich immer schlecht? Oder wo bin ich einfach nur kleinlich? Wir leben in einer Neidgesellschaft. Umso wichtiger ist es, zu durchschauen, was da im eigenen Herzen eigentlich abläuft. Denn Liebe braucht Grenzen, doch Eifersucht kann auch alles vergiften. Von Jesus lernen wir einen Lebensstil der radikalen Großzügigkeit. Start: 19:30 ACHTUNG: NUR LIVESTREAM. Der DonnerstagAbend ist bis auf Weiteres für Besucher geschlossen. 29.09.2020 3. Oktober 2020 – Wir sagen DANKE! In einer Zeit, in der vieles in Frage gestellt wird und die Zukunft so unsicher wie noch nie zu sein scheint, wollen wir zum Gebet aufrufen. An dem Tag, der uns daran erinnert, dass unser Land vor 30 Jahren wieder geeint wurde, geben wir bewusst der Dankbarkeit eine Bühne! >> weiterlesen 15.09.2020 Donnerstag Abend mit Markus Spieker Keine Person der Weltgeschichte ist so bekannt wie Jesus, keine so verehrt. Und keine so missverstanden. Höchste Zeit, mit einigen verbreiteten Vorurteilen aufzuräumen und einen frischen Blick auf den Messias zu werfen. Diesen DonnerstagAbend spricht Markus Spieker über das Thema “Jesus: Eine Richtigstellung”. Wir freuen uns schon! Sei live dabei am 17.09. um 19:30 Uhr 08.09.2020 *** Covid19 Beschränkungen *** Aufgrund der aktuellen Situation ist der Gebetshaus Besuch leider nur für PrayerHomes Gäste und Mitarbeiter möglich. Eine PrayerHomes Buchung kann unter diesem Link vorgenommen werden: gebetshaus.org/besuchen/ 01.09.2020 Die Kunst einen Mann zu lieben Männer sind anders. Und das ist auch gut so. Leider sind sie oft auch ganz schön schwierig. Was bedeutet es für eine Frau, ihren Mann zu lieben? Gibt es da Tricks? Ein unmittelbar Betroffener gibt in diesem Vortrag ein paar Innenansichten weiter, vielleicht ist das auch für Männer interessant. Am 03.09. ab 19:30 Uhr wird Johannes Hartl über das Thema “Die Kunst einen Mann zu lieben” sprechen. 18.08.2020 SHIFT. Was Gebet bewirkt Bei unserem nächsten DonnerstagAbend am 20.08. wird Christiane Hammer über das Thema “SHIFT. Was Gebet bewirkt” sprechen. Wir freuen uns schon! 27.07.2020 Corona: Gebetshaus weiter nicht geöffnet! Auf Grund der geltenden Bestimmungen ist das Gebetshaus momentan leider noch immer nicht für reguläre Besucher geöffnet. Einzige Ausnahme: die Gäste der PrayerHomes. Hier können Sie sich über unsere PrayerHomes informieren. 27.07.2020 Aktionsangebot in unserem Shop: MEHR DVD Vortragspaket Nur für kurze Zeit! Das 13er DVD Kombipaket mit allen Vorträgen von Johannes Hartl auf der MEHR 2017, 2018 & 2020 gibt es jetzt für 59,90€ in unserem Shop. 23.07.2020 DonnerstagAbend mit Constantin Maasburg: 23.07. ab 19:30 Uhr im Livestream Was für die antiken Griechen täglich Brot war, ist heute zum Luxusgut verkommen: Denken. Und Nachdenken über das Denken. Warum ist es wünschenswert und wichtig, dass das Christentum wieder mehr Denker hervorbringt? Es braucht heute mehr denn je Menschen, die mit Vernunft und Maß die Gesellschaft mitgestalten. Aber ist es überhaupt noch erlaubt zu denken? Sei heute Abend über unseren Livestream dabei, wenn unser GebetshausMissionar Constantin Maasburg über dieses Thema spricht! Der DonnerstagAbend ist bis auf Weiteres für Besucher geschlossen 20.07.2020 „Seht auf seine Wunden. Er hat uns verbunden, geheilt und wiederhergestellt.“ Hast du bei Gebetshaus At Home schon das Lied von unserer GebetshausMissionarin Joy Fackler entdeckt? Übrigens: Joy und ihr Mann Markus sind dabei ihr erstes eigenes Studioalbum zu produzieren. Songs, die unter die Haut gehen. Tiefe Anbetung, die die Schönheit Gottes vor Augen malt. Lieder über das Leichte und Schwere und den Gott, der in all dem da ist und gut ist. Lieder geboren aus dem Gebet. Wenn du sie bei ihrem Vorhaben unterstützen möchtest, klick dich auf ihre Crowdfunding-Kampagne. >> weiterlesen 15.07.2020 \"Was du im Innern kultivierst, wird immer ins Sichtbare kommen.\" Am vergangenen DonnerstagAbend sprach Johannes Hartl über das Thema \"Spirit Fitness\". Der Vortrag ist auf seinem neuen YouTube-Kanal zu finden. 13.07.2020 ZimZum Festival - Das Jugendfestival - 05. – 08. August 2021 Ein Festival. Groß genug um Einfluss zu nehmen. Voller Liebe und Freiheit. Ein Festival. Auf dem junge Menschen Gottes Liebe begegnen. Ein Festival. Das eine Generation vereint und begeistert. Für den einen. Durch den einen. Jesus. Es könnte Die Welt verändern. ZimZum Festival. >>weiterlesen 09.07.2020 09.07. ab 19:30 Uhr - Digitaler DonnerstagAbend mit Johannes Hartl über \"Spirit Fitness\" Du trainierst deinen Körper, doch wie sieht es mit deinem geistlichen Leben aus? Zum DonnerstagAbend kommt eine geballte Ladung alltagstaugliche Praxis, damit dein Innen lebendig und in enger Beziehung mit Gott bleibt. Der DonnerstagAbend wird wieder über unseren Livestream übertragen (und ist aktuell leider noch für Besucher vor Ort geschlossen). 06.07.2020 „Wir lieben deinen Namen! Und wir hör’n nicht auf zu singen!“ Wir freuen uns schon auf die Zeiten, wenn wir wieder gemeinsam mit vielen, vielen Menschen Gott anbeten können. Bis dahin haben wir für euch einen Mitschnitt vom Lobpreis der MEHR2020 für euch auf unserem YouTube-Kanal. 02.07.2020 Vergangener DonnerstagAbend: Tobias Teichen sprach über Identität \"Der Teufel kennt deinen Namen, aber er ruft dich bei deiner Sünde. Gott kennt deine Sünde, aber er ruft dich bei deinem Namen\". Was macht meinen Wert und mein wahres Ich aus Gottes Perspektive aus? Inwiefern verändert sich dadurch meine eigene Perspektive und mein Lebensstil im Alltag? Den Vortrag vom vergangenen DonnerstagAbend verpasst? Kein Problem: Er ist auf unserem YouTube-Kanal verfügbar. 24.06.2020 25.06. ab 19:30 Uhr: Livestream zum DonnerstagAbend mit Tobias Teichen (ICF München) Was macht meinen Wert und mein wahres Ich aus Gottes Perspektive aus? Inwiefern verändert sich dadurch meine eigene Perspektive und mein Lebensstil im Alltag? Am 25.06. wird Tobias Teichen, Pastor und Gründer des ICF München beim DonnerstagAbend über das Thema Identität sprechen. Zusammen mit seiner Frau Frauke und einem Team leitet er das ICF München - eine neue überkonfessionelle und zeitgemäße Art von Kirche, in der Menschen Gott neu erleben und in ihrer Beziehung zu Jesus wachsen können. Achtung: Nur Livestream, der DonnerstagAbend ist bis auf Weiteres für Besucher geschlossen. 23.06.2020 Das Gebetshaus ist im Moment noch nicht für Besucher geöffnet Obwohl die PrayerHomes nun offiziell wieder Übernachtungsgäste in Empfang nehmen, ist das Gebetshaus leider noch nicht für allgemeine Besucher geöffnet. Wir bitten um Verständnis - und werden Euch mitteilen, sobald dies wieder möglich ist. 22.06.2020 FlameAcademy: Alte Lasten ablegen Die Schüler unserer diesjährigen Jüngerschaftsschule haben sich kreativ ausgetobt und Videos über ihre gesammelten Erfahrungen im Gebetshaus gedreht. Schau doch mal bei Facebook oder Instagram vorbei, um sie dir anzusehen. Übrigens: Unsere Jüngerschaftsschule geht unter einem neuen Namen in die nächste Runde. Die FlameAcademy. Verändert, um die Welt zu verändern. Gott begegnen wie nie zuvor. 17.06.2020 \"Jedes Gefühl hat eine Berechtigung und Funktion im Leben\" Am vergangenen DonnerstagAbend sprach Johannes Hartl über den Zusammenhang von Gefühlen, Gedanken und Bedürfnissen. Wie kann uns ein gesunder Umgang mit unseren tiefsten Bedürfnissen gelingen? Wie gehe ich mit negativen Gefühlen um? Wie erkenne ich Suchtverhalten? Er gibt praktische Tipps, die helfen ein gesundes und wahrhaftiges Leben zu führen. Der komplette Vortrag ist auf seinem YouTube-Kanal zu finden. 15.06.2020 Das Gebetshaus bildet aus - ab dem 01.09.2020 als Auszubildende/r zur/m Veranstaltungskauffrau/mann (m/w/d) Als Gebetshaus decken wir ein großes Veranstaltungsspektrum ab. Von wöchentlichen Lehrveranstaltungen die vor Ort ca. 150 Menschen und online ca. 1.000 Menschen erreichen, bis hin zu mehrtägigen Konferenzen mit bis zu 12.000 Besuchern, Jugend- und Teenagerevents, als auch Seminare für Erwachsenenbildung bieten wir eine große Bandbreite in der Veranstaltungsbranche. >> weiterlesen 11.06.2020 Wir öffnen unsere PrayerHomes ab dem 15.06. wieder für Besucher Endlich ist es soweit! Nach langer Pause, bedingt durch die Corona-Beschränkungen, dürfen wir nun wieder Übernachtungsgäste in unseren Gästezimmern begrüßen und freuen uns auf Ihren Besuch in den PrayerHomes. Aufgrund der derzeit geltenden Hygienevorschriften können Sie nur Zimmer mit eigenem Bad buchen. Zimmer mit geteiltem Bad ist nur bei zwei Personen oder zwei Haushalten, die sich kennen, möglich. Vielen Dank für Ihr Verständnis und bis bald bei uns in Augsburg! 10.06.2020 Nächster DonnerstagAbend mit J. Hartl via Livestream: 11.06. ab 19:30 Uhr Gefühle. Sie können lästig sein, doch was wäre das Leben ohne sie? Wut, Freude, Angst, Liebe und Trauer: ein gesunder Umgang mit den eigenen Gefühlen ist der Schlüssel für gesunde Beziehungen. Und weil Gott selbst emotional ist, ändert sich alles, wenn man ihn kennen lernt. Wichtig: Weiterhin nur Livestream, der DonnerstagAbend ist bis auf Weiteres für Besucher geschlossen. 08.06.2020 Wie ein Brausen des Himmels... ...komm. Wie ein starker Sturm weh. Wie in Zungen von Feuer fall. Komm Heiliger Geist erfülle uns. Der offizielle Song zu „Gemeinsam vor Pfingsten“ vom Gebetshaus feat. Veronika Lohmer ist auf unserem YouTube-Kanal zu finden. 29.05.2020 24/7 Live Lobpreis aus dem Gebetsraum endet am 01. Juni In den letzten Wochen haben wir Tag und Nacht live aus dem Gebetsraum gestreamt. Stunden voll Lobpreis, Fürbitte und Anbetung des Herrn, um sich in der von Corona geprägten Zeit von Zuhause aus einklinken zu können. Der Livestream wird nun in der Nacht zu Pfingstmontag wieder abgeschaltet. Die Beschränkungen werden nach und nach gelockert, so dass wieder mehr außerhalb der eigenen vier Wände stattfinden kann. Wir hoffen, dass wir das Gebetshaus bald auch wieder für Besucher öffnen können und werden Euch über entsprechende Pläne so früh wie möglich informieren. 25.05.2020 28. Mai um 19:00-20:30: Gemeinsam vor Pfingsten - bist Du dabei? Hoffnung statt Angst, Sich-verstehen statt Zersplitterung: wir brauchen heute neu den Geist von Pfingsten. Wir beten um Gottes guten Geist inmitten einer Zeit der Erschütterung. Wir wollen die Orte des Gebets neu mit Lobpreis und Gebet füllen. Sei live am Bildschirm dabei oder gestalte dein eigenes, dezentrale Gebetstreffen. Mehr Infos unter gemeinsamvorpfingsten.org. 23.05.2020 Jetzt für die FlameAcademy 2020/21 bewerben! Tief und Echt. Werde Teil einer Schar verrückter Leute, die Tag und Nacht beten. Lerne Jesus und Dich selbst auf ganz neue Weise kennen. Theologie, die mitten ins Herz geht. Lass dich von Gott an den tiefsten Punkten berühren. | 1. Oktober 2020 bis 31. Juli 2021 | Informier Dich jetzt hier oder bewirb Dich gleich! 18.05.2020 DonnerstagAbend mit Roland Huwer: \"Die Währung im Reich Gottes ist Glaube\" Was gibt mir Sicherheit? Auf was vertraue ich? Der Experte für Wirtschafts- und Finanzkrisen in Firmen und Familien hat am vergangenen DonnerstagAbend über das Thema Geld und Wert gesprochen und uns einen Einblick in die Geschichte des Geldes gegeben. Den Vortrag gibt es auf unserem YouTube-Kanal zum Nachhören. 15.05.2020 Gottes globale Weisheit - ein Interview mit Fadi Krikor \"Jedes Mal, wenn wir ein Stück von Gott verstehen, verändert sich unser Herz.\" Was tut Gott gerade weltweit und was bewegt sich im Leib Christi? Eine hoffnungsvolle Perspektive auf die gegenwärtige Zeit. Das Interview von Fadi Krikor und Johannes Hartl vom letzten DonnerstagAbend findest du auf unserem YouTube-Kanal zum Nachhören. 12.05.2020 SCHØN-Konferenz 2020 findet nicht statt Leider kann die SCHØN aufgrund der Corona-Krise nicht wie geplant stattfinden. Wir bedauern dies sehr. Sollten Sie sich bereits ein Ticket gekauft haben, wird dieses binnen der nächsten 14 Tage auf Ihr Konto zurückerstattet. Bei weiteren Fragen können Sie sich an die info@schoenkonferenz.org wenden. 11.05.2020 Gemeinsam vor Pfingsten: 28. Mai | 19:00 - 20:30 Uhr Wie wäre es, wenn sich kurz vor Pfingsten Christen aus dem ganzen deutschsprachigen Raum zu einem Online-Gebetstreffen verbinden würden? Anlässlich der Coronakrise verbanden sich vor kurzem über eine halbe Million Menschen zur Aktion „Deutschland Betet Gemeinsam“. Vor Pfingsten versammelten sich die Jünger im Obergemach und warteten auf den Heiligen Geist. Am 28. Mai 2020 wollen wir die Orte des Gebets neu mit Lobpreis und Gebet füllen. 08.05.2020 Gebetshaus at home: Hoffnung und Inspiration in dieser Zeit Du möchtest wissen, wie man mit Stresssituationen umgehen kann? Wie man in diesen Zeiten aufblühen und Trost finden kann? Was man mit der Familie tun kann, wenn so viel Zeit Zuhause verbracht wird? Oder möchtest dich durch neue Lieder ermuntern lassen? Dann schau bei Gebetshaus @ home vorbei und lass dich durch unsere Videobotschaften inspirieren, die wir in der aktuellen Zeit regelmäßig für Euch hochladen. 06.05.2020 Leben mit dem Tod - Vortrag von Johannes Hartl auf YouTube nachhören Jede Lebenskrise ist eine Entscheidung zwischen Leben und Tod. Gesundheit ist nicht das höchste Gut. Die Liebe, die Wahrheit, die Treue und die Anbetung sind das höchste Gut. Wer den Vortrag von Johannes Hartl im Livestream verpasst hat, kann sie auf unserem YouTube-Kanal nachhören. 29.04.2020 DonnerstagAbend mit J. Hartl + F. Krikor | Livestream am Do 30.04. ab 19:30 Uhr Was tut Gott gerade weltweit und was bewegt sich im Leib Christi? Eine hoffnungsvolle Perspektive auf die gegenwärtige Zeit. Euch erwartet beim DonnerstagAbend ein Interview von Johannes Hartl und Fadi Krikor. Fadi ist der Gründer von Father\\'s House for all Nations. >> weiterlesen 27.04.2020 Aufblühen in Krisenzeiten - Vortrag von Inka Hammond zum Nachhören In den unwirklichsten Umständen darf Neues wachsen. In den Wüstenzeiten unseres Lebens schafft Gott Lebendiges und dort, wo alles zerbrochen zu sein scheint, beginnt das Abenteuer. Den DonnerstagAbend-Vortrag von Inka Hammond findet ihr zum Nachhören auf unserem YouTube-Kanal. 24.04.2020 Die FlameAcademy 2020/21 - Start im Oktober 2020 - jetzt informieren und bewerben! In Deinen Gaben wachsen. Tiefer sehen lernen. Deine Bestimmung finden. An einem einzigartigen Ort. Gebet nonstop. Ein pulsierendes Zentrum hunderter junger Menschen, die gemeinsam Jesus nachfolgen. Ansteckende Gemeinschaft, geistlicher Tiefgang, Lernen und herausgefordert werden: das ist die FlameAcademy. 20.04.2020 Das neue Lied aus dem Gebetshaus: Der Herr segne dich! - Die deutsche Fassung von „The Blessing\" Der Herr segne Dich! Seine Gunst sei immer auf Dir! Und auf Tausend derer nach Dir! Das neue Lied \"Der Herr segne Dich\" gesungen von Markus Fackler und Veronika Lohmer findet ihr auf unserem YouTube-Kanal, bei Spotify und ab sofort auch in unserem Shop zum kostenlosen Download! 16.04.2020 Leben mit dem Tod - Digitaler DonnerstagAbend mit Johannes Hartl - 16.04. ab 19:30 Es gibt kein Leben ohne den Tod. Dennoch ist der Gedanke an das eigene Sterben oder das geliebter Menschen fast unerträglich. Lebensweisheit und Sinn beginnen aber mit einer geerdeten Perspektive auf Tod und Leben. Genau daraus erwächst Hoffnung. Johannes Hartl wird heute im Livestream des DonnerstagAbends über dieses Thema sprechen - sei herzlich eingeladen! 15.04.2020 Wir beten weiter: Täglich um 19:00 live auf dem YouTube Kanal \"Deutschland betet gemeinsam\" Hunderttausende haben letzte Woche gebetet - wir tragen das Feuer weiter. Sei dabei: täglich live eine Stunde Gebet in virtueller Gemeinschaft, die alle Grenzen überwindet. Deutschland betet gemeinsam: ab Mi 15.04. täglich um 19:00 Uhr. 06.04.2020 Deutschland betet gemeinsam: 08.04. ab 17 Uhr In einer Zeit wie dieser, muss ein Ruck durch unser Land gehen. Wie wäre es, wenn sich Hunderttausende in Deutschland zeitgleich zum Gebet versammeln würden? Ministerpräsident Söder hat aufgerufen, für unser Land zu beten: das wollen wir tun. >> weiterlesen 01.04.2020 Digitaler DonnerstagAbend geht weiter - 02.04. um 19:30 Uhr „In den unwirklichsten Umständen darf Neues wachsen. In den Wüstenzeiten unseres Lebens schafft Gott Lebendiges und dort, wo alles zerbrochen zu sein scheint, beginnt das Abenteuer.“ Am 02.04. wird Inka Hammond beim DonnerstagAbend zu uns sprechen (Achtung: Weiterhin nur Livestream!). >>weiterlesen 30.03.2020 Gebetshaus at home - Täglich Hoffnung Ermutigende Botschaften, neue Songs und kurzweilige Videos erwarten dich bei \"Gebetshaus at home\". Schau auf unserem YouTube-Kanal oder unseren anderen sozialen Kanälen vorbei und lass dich mit Hoffnung beschenken. >> weiterlesen 28.03.2020 Krisen bewältigen Letzte Woche hat Johannes Hartl über die Chance gesprochen, die in jeder Krise steckt. Gerade globale Herausforderungen wie die aktuelle Coronaepidemie stellen unser Leben auf die Probe. Höre dir die Lehre nachträglich auf YouTube an und entdecke durch diese ermutigende Botschaft, wie du Krisen nicht nur bewältigen, sondern sogar gestärkt daraus hervorgehen kannst. 26.03.2020 20 Tipps für Quarantäne und Isolation Um Tage alleine zuhause gut zu überstehen, hilft eine selbst auferlegte Struktur. „Sich Hängenlassen“ ist der sichere Weg in Kraftlosigkeit und Depression. Mit diesen Tipps wird eine Quarantänezeit für Dich zur Kraftzeit >> weiterlesen 24.03.2020 Gebet in der Corona-Krise Wir wollen uns zusammen daran erinnern, das wir einen großen Gott haben, dem nichts unmöglich ist. Er ist der beste Arzt der Welt, deshalb brauchen wir uns nicht zu fürchten. Mit dem folgenden Gebet kannst du dich im Glauben stärken und für die Menschen in deiner Umgebung beten >> weiterlesen 18.03.2020 24/7 Live Webstream aus dem Gebetsraum Ab sofort streamen wir Tag und Nacht live unser Gebet aus dem Gebetsraum. Klink dich ein und bete mit! Für den Player einfach nach unten scrollen (YouTube). 16.03.2020 Hoffnung statt Corona: Fasten von 18.-20.3. Wir schließen uns einer weltweiten Fastenkette an und laden Euch ein, diese 3 Tage ebenso zu fasten und zu beten! 16.03.2020 GEBETSHAUS AB 18.3. GESCHLOSSEN Auf Grund des Katastrophenfalls in Bayern bleibt das Gebetshaus geschlossen. Wir laden Euch ein, mit uns zusammen das Feuer des Gebets bei Euch zuhause am Brennen zu halten! Wir werden Euch in dieser Zeit besonders intensiv mit erfrischenden Impulsen und Einladungen zum Gebet per YouTube und in den anderen sozialen Netzwerken versorgen! Bis bald! 14.03.2020 DonnerstagAbend 19.3. NUR LIVESTREAM: Johannes Hartl spricht Der DonnerstagAbend ist bis auf Weiteres für Besucher geschlossen! Herzliche Einladung aber, uns im Livestream zu folgen. Wie gewohnt Lobpreis ab 19:30 Uhr, ab ca. 20:30 Uhr spricht Johannes Hartl zum Thema \"Krisen bewältigen\". 14.03.2020 CORONA UPDATE Das Feuer des Gebets bleibt am Brennen! Doch für Besucher gibt es leider einige Einschränkungen: 04.03.2020 Nächster DonnerstagAbend am 05.03. ab 19:30 Uhr An diesem Donnerstag wird unser GebetshausMissionar Silas Rink über das Thema \"Ab Morgen ohne Sorgen\" sprechen. Gehören Sorgen zum Leben dazu? „Alle eure Sorge werft auf ihn; denn er sorgt für euch“, sagt die Bibel. Aber lebst Du in dieser gottgewollten Sorgenfreiheit? Was sind überhaupt Sorgen und wie wirst Du sie los? Ich glaube: Du bist zu einem sorgenfreien Leben berufen! Worauf wartest Du noch? Sei live vor Ort im Gebetshaus oder am Livestream dabei, wir freuen uns auf Dich! 02.03.2020 MEHR 2020: Vortrag von Friedegard Warkentin auf YouTube Friedegard Warkentin ist Gründerin und Leiterin der therapeutischen Gemeinschaft Eser 21 in Augsburg. Sie arbeitet als Systemische- und Traumatherapeutin sowie als Supervisorin. Ihre Berufung ist es, Menschen zu begleiten, die mit Hoffnungslosigkeit kämpfen. Auf der MEHR 2020 hat sie aus ihrem Leben und von ihren Leidenschaften erzählt. >> weiterlesen 29.02.2020 1000 Dank - Lieder aus dem Gebetshaus Was dich bei diesem Album erwartet? Eine CD, die gute Laune und Musik zum Mitsingen verspricht und obendrein auch noch einlädt, Gott anzubeten. Sie ist vollgepackt mit Songs die aus der Feder von Gebetshausmissionaren und Familymitarbeitern stammen und von einer ganz individuellen Handschrift geprägt sind. >> weiterlesen Sie erzählen von einer lebendigen Beziehung mit Jesus, von seiner Größe und Freundlichkeit und davon, wie dankbar wir sind, für das was er tut und wie er ist! 1000 DANK ist in unserem Shop, aber auch bei Spotify, AmazonMusic, AppleMusic und Deezer erhältlich. 24.02.2020 Start der Daniel Academy +++ jetzt noch kurzfristig bewerben! Die DanielAcademy hat vorletztes Wochenende einen grandiosen Start hingelegt! Im ersten von 5 Wochenenden (plus einer Intensivwoche) ging es um den Daniel Lifestyle, Selbstführung und \"Getting Things Done\". Umrahmt waren die Trainingseinheiten von intensiven Lobpreiszeiten mit Christiane Hammer und Band. Die Sehnsucht nach tieferer Begegnung mit Jesus war unter den 318 Teilnehmern deutlich spürbar. Wir freuen uns schon sehr auf die Intensivwoche vom 13.–18.4., die diesem Wochenende folgen wird. Vielleicht ja sogar noch mit dir? >> weiterlesen 19.02.2020 Der Donnerstag Abend startet wieder! Am 20.2. um 19:30 Uhr beginnt endlich unser Lobpreis- und Vortragsabend wieder. Dieses Mal als Sprecherin dabei ist: Anna Dengler mit dem Thema \"Deine Zeit ist jetzt!\" >> weiterlesen 17.02.2020 Das Gebetshaus im ZDF-Mittagsmagazin Das ZDF war wieder einmal bei uns! Im Mittagsmagazin wurde unser GebetshausMissionar Silas Rink zu seinem Alltag im Gebetshaus befragt und durfte den Sender im Haus herumführen. >> weiterlesen 11.02.2020 Bei sich selbst Zuhause sein Das bedeutet der Titel des neuen Instrumentalalbums Habitare Secum. Johannes Hartl am Klavier und Christian Heidenbauer (Michael Patrick Kelly Band) an der E-Gitarre weben filigrane Melodien ineinander und schaffen darin einen Raum zum Verweilen. Künstlerische Neo-Klassik, die berührt und ins Gebet führt. Das Album findest du bei Spotify, Amazon Music und bei uns im Shop: shop.gebetshaus.org 10.02.2020 Segnungsgebet Das Segnungsgebet am Montag Abend 18–20 Uhr fällt diese Woche leider aus. 07.02.2020 Europe Shall Be Saved! Gebetsaktion ab dem 1. März Wie wäre es, wenn jeder 7. Einwohner deiner Stadt eine persönliche Begegnung mit Jesus hätte und Ihm sein Leben geben würde? Die Vision von „Europe shall be saved“ ist es, dass Europa durch die Gute Nachricht von Jesus verändert wird. Und daran kann sich jeder Christ beteiligen. >> weiterlesen 03.02.2020 Gebetsabend der Evangelischen Allianz im Gebetshaus Augsburg Wir freuen uns, zum ersten Mal Gastgeber eines Allianz Gebetsabends gewesen zu sein. Die Allianz Gebetswoche findet jedes Jahr in vielen Städten weltweit statt und so auch schon seit vielen Jahren in Augsburg. Unser Gebetsraum war… >>weiterlesen 28.01.2020 MEHR 2020 - Lobpreiszeit mit Veronika Lohmer bei YouTube Eines der Highlights der MEHR 2020 waren definitiv die Lobpreiszeiten! Den Sonntagabend mit Veronika Lohmer gibt es jetzt in voller länger auf YouTube zum Mitsingen und loben :-) Viel Freude damit! Übrigens Veronika und Band gibt‘s nicht nur auf der MEHR sondern auch auf anderen Events. Mehr Infos unter: veronikalohmer.de 21.01.2020 Die neuen Donnerstag Abend Termine sind Online! Wir freuen uns ab dem 20.2. wieder alle zwei Wochen unseren Lobpreis und Vortragsabend, den \"Donnerstag Abend\" im Gebetshaus zu veranstalten. Auch dieses Jahr wird es... >>weiterlesen 08.01.2020 MEHR 2020 Was für intensive und segensreiche Tage liegen hinter uns! Wir haben schon viele Zeugnisse und Rückmeldungen bekommen und würden uns sehr darüber freuen auch von dir zu hören, wie du die MEHR erlebt hast. Lass uns an dem, was Gott großartiges in deinem Leben getan hat teilhaben und schreib uns dein Zeugnis an zeugnis@mehrkonferenz.org. 06.01.2020 Save the Date Die nächste MEHR Konferenz findet vom 6.- 9.1.2022 statt. 01.01.2020 MEHR Livestream Wir werden auch dieses Jahr wieder die komplette Konferenz live und kostenlos streamen. Hier gehts zum Stream >> 01.01.2020 Nur noch 2 Tage! Bist du auch schon so voller Vorfreude auf die MEHR? Wir können es kaum erwarten, wenn es in 2 Tagen endlich los geht mit der: MEHR 2020 – Colors of Hope! Die Tickets für die Haupthalle, das MEHRauditorium sind bereits seit ein paar Wochen ausverkauft. Noch gibt es ein paar Resttickets für das MEHRspace. Wir freuen uns darauf, mit dir zusammen 4 Tage voll mit ermutigenden Vorträgen, Lobpreis und neu erwachender Hoffnung zu erleben. 27.12.2019 MEHR 2020 Kurz ein paar last-minute Infos zur #MEHR2020: 24.12.2019 Gesegnete Weihnachten! Gott wurde Mensch und kam uns nah! Was für ein Wunder! Wir wünschen dir und deiner Familie wunderbare, besinnliche Weihnachten. 14.12.2019 SCHØN Konferenz 2020 – jetzt Frühbuchertickets sichern! Im Juni 2020 findet die nächste SCHØN Konferenz in Augsburg statt. Für wen ist die SCHØN? Für alle, die Schönheit lieben. Für Kunstfreunde. Für Kreative und solche, die es werden wollen. Für Christen und Nichtchristen. Für Künstler. Für Nachdenker. Für alle, die interessiert, wohin sich die Gesellschaft entwickelt. Oder solche, die einfach gute Musik, Film, Architektur, Design, Photographie, Theater oder Literatur schätzen. >>weiterlesen 13.12.2019 Der Donnerstag Abend Livestream pausiert bis Frühjahr 2020 Während der Vor- und Nachbereitung zur MEHR Konferenz 2020 geht der zweiwöchentliche Donnerstag Abend in die Winterpause. Im Frühjahr 2020 geht es mit neuem Input weiter, bis dahin werden alle zwei Wochen bereits ausgestrahlte Vorträge kostenfrei zur Verfügung gestellt. >>weiterlesen 07.12.2019 10.000 Tickets wurden schon verkauft! Bereits 10.000 Menschen haben sich für die MEHR2020 angemeldet und unsere Tickets werden langsam knapp bzw. sind teilweise schon ausverkauft! Wer sein Jahr mit 4 Tagen voller Lobpreis, Input, Gemeinschaft und den Thema #colorsofhope starten möchte, sollte also jetzt beim Ticketkauf schnell sein! >>weiterlesen 04.12.2019 DanielAcademy 2020: Mit Gott im Alltag leben Du sehnst dich danach, dass Glaube nicht nur sonntags stattfindet? Du willst in deinem Leben eine Kultur bauen, die es dir erlaubt, fokussiert die täglichen Herausforderungen zu meistern? Du glaubst auch, dass der Gebetsraum überall dort ist, wo du bist? Du willst persönlich und geistlich trainiert werden? Du glaubst, dass die größte Kraft des Universums in dir wohnt und willst lernen, als Freund Gottes sein Reich in deinem Job zu bauen? >>weiterlesen 27.11.2019 Nur noch drei Tage: 4 + 1 GRATISTICKET-AKTION Noch bis zum 30.11. hast du die Möglichkeit unsere 4+1 Gratisticketaktion zu nutzen! Du hast einen Freund, einen Bekannten, einen Arbeitskollegen, ... den du gerne mit auf die MEHR nehmen möchtest bzw. der sich das Ticket vielleicht nicht leisten kann, aber total gerne dabei wäre? Dann tu dich mit deinen Freunden zusammen und schenke ihm ein Gratisticket! Mehr Infos unter: Mehrkonferenz.org 22.11.2019 Tickets für die SCHØN Kunst. Wahrheit. Design. Kreativität. Pop. Literatur. Spiritualität. Die ganz großen Fragen und die ganz feinen Nuancen. Ein Fest der Sinne und des Sinns. Die erste SCHØN war ein Paukenschlag. Jetzt geht die Reise weiter: Wie kann Kreativität morgen aussehen? Woher kommt das Schöne und warum ist es die Rettung der Welt? Es ist Zeit für eine Revolution der Schönheit. Wir stellen uns die Fragen, ist die … weiterlesen>> 20.11.2019 MEHR: fast ausgebucht! WOW! Wir sind für die MEHR2020 im MEHRauditorium schon zu 90% ausgebucht und die Tagestickets für Samstag und Sonntag sind bereits komplett weg! Übrigens läuft unsere 4+1 Gratisticketaktion noch bis Ende November. Es lohnt sich also doppelt, jetzt schnell zu sein. Mehr Infos und deine Tickets bekommst du hier: mehrkonferenz.org 20.11.2019 Sie ist zurück! Gute Neuigkeiten! 1000 DANK ist wieder auf allen gängigen Streamingplattformen verfügbar! Wir lieben diese Platte und sie läuft bei uns rauf und runter, ist sie doch so voll von dem was wir im Gebetshaus leben und lieben! Es sind Lieder die authentisch und ehrlich sind, mitten ins Herz gehen und vor lauter Tiefe trotzdem nicht den gute Launefaktor vergessen. Es ist Lobpreis, wie du ihn vielleicht noch nicht so oft gehört hast. 18.11.2019 Der letzte Donnerstag Abend Am 21. November findet unser letzter Donnerstag Abend\\xa0vor der MEHR\\xa0statt. Wir\\xa0sammeln und ballen\\xa0unsere Kräfte für die MEHR\\xa02020\\xa0und starten dann im Februar wieder\\xa0mit unserem Lobpreis- und Vortragsabend.\\xa0Neben\\xa0einem spannenden Vortrag von Sebastian Lohmer erwartet dich noch ein\\xa0besonderesSchmankerl. So viel sei schon verraten: Es wird schøn! 15.11.2019 +++ 4 + 1 GRATISTICKET-AKTION: Nur bis zum 30. November +++ Kaufe 4 Tickets und bekomme das 5. geschenkt! Du hast einen Freund, einen Bekannten, einen Arbeitskollegen, ... den du gerne mit auf die MEHR nehmen möchtest bzw. der sich das Ticket vielleicht nicht leisten kann, aber total gerne dabei wäre? Dann tu dich mit deinen Freunden zusammen und schenke ihm ein Gratisticket! 13.11.2019 MEHR Mitarbeiter Wir suchen noch Mitarbeiter im Bereich\\xa0Kinderdienst, CD-Produktion, Infopoint und Shop. Der Arbeitsaufwand beträgt 25–30 Stunden, dafür erhältst du kostenlosen\\xa0Eintritt zur MEHR. Außerdem werden noch Leute gesucht, die beim Segnungsgebet mit beten. Du wärst\\xa010-15 Stunden als \"Helfer\" dabei und erhältst dafür ein ermäßigtes Ticket. 11.11.2019 1000 Dank auf Streamingplattformen Das neue Album 1000 Dank ist kurzzeitig über die gängigen Streamingplattformen nicht verfügbar, da ein paar Änderungen vorgenommen werden. Es wird aber ganz bald wieder verfügbar sein und als LP und Download bekommst du sie in der Zwischenzeit natürlich auch bei uns im Gebetshaus Shop. 04.11.2019 So baust du das Fundament deines Lebens Diesen Donnerstag Abend spricht Patrick Knittelfelder\\xa0über „So baust du das Fundament deines Lebens\".\\xa0Wie kann dein christliches Fundament entscheidend zu deiner Persönlichkeitsentwicklung, zu gesunden Beziehungen, zu solider Resilienz und zu einem erfüllten Alltag beitragen. Lerne wie 4 jüngerschaftliche Säulen zum Lebensturbo für dich werden können. Sei live dabei oder schalte am\\xa007.11. um 19:30 Uhr im Webstream\\xa0ein. 02.11.2019 +++ 4 + 1 GRATISTICKET-AKTION: Nur bis zum 30. November +++ Kaufe 4 Tickets und bekomme das 5. geschenkt! Du hast einen Freund, einen Bekannten, einen Arbeitskollegen, ... den du gerne mit auf die MEHR nehmen möchtest bzw. der sich das Ticket vielleicht nicht leisten kann, aber total gerne dabei wäre? Dann tu dich mit deinen Freunden zusammen und schenke ihm ein Gratisticket! 22.10.2019 1000 Dank! Am Donnerstag erscheint das neue Gebetshaus Album 1000 DANK! Was dich erwartet? Eine richtig poppige und freshe Platte, die gute Laune verspricht, Musik zum mitsingen und obendrein auch noch einlädt, Gott anzubeten. Die CD ist vollgepackt mit Songs, die aus der Feder von Gebetshausmissionaren und Familymitarbeitern stammen und von einer ganz individuellen Handschrift geprägt sind. Sie erzählen von einer lebendigen Beziehung mit Jesus, von seiner Größe und Freundlichkeit und davon, wie dankbar wir sind, für das was er tut und wie er ist! 1000 DANK wird im Rahmen des Donnerstag Abends, am\\xa024.10. vorgestellt und ist dann unter anderem im Gebetshaus\\xa0Shop und bei Spotify erhältlich. 21.10.2019 Wanted: Echte Männer „Wann ist ein Mann ein Mann?“ fragte schon Herbert Grönemeyer 1984 in seinem Top-Hit „Männer“. Antworten auf diese Fragen werden seither eher konfuser als klarer. Braucht es überhaupt noch echte Männer – außer zur Fortpflanzung? Wenn ja, warum sehen wir dann so wenige solcher Männer? Adam war nicht zufällig ein Mann. Gott hat einen Plan für uns Männer. Es wird spannend. Wir freuen uns, dass Constantin Maasburg zum ersten Mal am Donnerstag Abend sprechen wird. Wie echte Männer aussehen und was es zu dem Thema sonst noch so zu sagen gibt? Das erfährst du am 24.10. ab 19:30 Uhr entweder direkt bei uns im Gebetshaus oder via Livestream. 15.10.2019 Vom 21.-23.10. kein \"Normalbetrieb\" im Gebetsraum Einmal im Jahr führen wir unsere Jüngerschaftsschule INCENSE in das kontemplative Gebet ein. In dieser Zeit finden am Tag keine normalen Lobpreiszeiten statt. Wir empfehlen einen Besuch im Gebetsraum auf die Abend und Nachtstunden ab 20 Uhr zu verlegen oder ab Donnerstag wieder in den normalen Gebetshaus Alltag einzutauchen. 08.10.2019 Schon 6.000 Tickets verkauft! 3 Monate\\xa0vor dem Start der\\xa0MEHR\\xa02020\\xa0sind\\xa0inzwischen schon\\xa06.000 Ticketbestellungen\\xa0bei uns eingegangen! Wir freuen uns\\xa0bereits heute\\xa0auf 4 unvergessliche Tage voller Lobpreis, ermutigenden Vorträgen, Hoffnung\\xa0und Begegnungen. Sehen wir uns auf der MEHR 2020 – Colors of Hope? 07.10.2019 Gott ist anders Für unsere Beziehung mit Gott ist unser Gottesbild entscheidend. Wie wir uns Gott vorstellen wird darüber entscheiden, ob wir uns ihm gerne nahen\\xa0oder eher lieber Abstand halten. Wie ist Gott? Ist er vertrauenswürdig? Ist er gut? Ist er gut gelaunt, oder sehr beschäftigt und hat gar keine Zeit für meine kleinen Anliegen? Um diese und weitere spannende Fragen wird es diesen Donnerstag Abend gehen. 04.10.2019 Die INCENSE hat begonnen! Seit Anfang Oktober sind zu unseren 49 Missionaren noch 43 INCENSE Schüler dazu gekommen. Diese werden sich in den nächsten 10 Monaten in Jüngerschaft trainieren lassen. Einen Platz im Gebetsraum zu ergattern, stellt sich seit Oktober schon mal als etwas schwieriger heraus. Hilfe, wir haben zu viele junge Leute die beten wollen!! ;-) 22.09.2019 23.-25. September Die GebetshausMissionare sind vom 23.-25. September auf Mitarbeiterklausur. Trotzdem beten wir weiter Rund um die Uhr. Ein herzliches Dankeschön an alle Volontäre und ehrenamtlichen Mitarbeiter die, in dieser Zeit die Gebetskette fortsetzen. Wir bitten um Verständnis, dass in dieser Zeit weniger aktive Lobpreiszeiten stattfinden können. 21.09.2019 7 Anzeichen, dass du manipuliert wirst Sei live dabei oder schalte am 26.9. um 19:30 Uhr im Webstream zu, wenn Johannes Hartl\\xa0beim Donnerstag Abend über \"7 Anzeichen, dass du manipuliert wirst\"\\xa0spricht. 20.09.2019 Wir feiern 8 Jahre! Am\\xa019.09.2019\\xa0sind wir in\\xa0unser 9. Jahr 24/7-Gebet\\xa0gegangen! Wir sind so dankbar dafür! Wir blicken zurück auf 8 Jahre,\\xa0in denen Jesus der Mittelpunkt im Gebetsraum\\xa0war. 8 Jahre,\\xa0in denen Menschen bei Tag und bei Nacht Lobpreis und Fürbitten\\xa0zu Gottes Thron aufsteigen\\xa0ließen.\\xa08 Jahre Gebet ohne Unterlass. weiterlesen>> 16.09.2019 Nur noch bis 30.09. Frühbucherpreis! Noch kein Ticket für die MEHR gebucht? Jetzt aber schnell ;-) Nur noch bis zum 30.09. gibt es die Tickets zu Frühbucher Konditionen. 06.09.2019 Innere Stärke finden Die meisten Menschen sorgen in wachsendem Maße gut für ihren Körper. ERNÄHRUNG, HYGIENE, FITNESS haben Hochkonjunktur. Aber was ernährt eigentlich die Seele? Was bedeutet Hygiene für den inneren Menschen? Und was müssen wir tun, um auch in unserer Seele fit und flexibel zu bleiben. Sei live dabei oder schalte am 11.9. um 19:30 Uhr im Webstream zu, wenn Jörg Ahlbrecht über \"Innere Stärke finden\"\\xa0spricht. 04.09.2019 Neue Misionare Wir freuen uns\\xa0so\\xa0sehr über 9 weitere GebetshausMissionare!\\xa0Sie starteten am 1.9. hier im Gebetshaus.\\xa0Aktuell sind\\xa0wir\\xa0jetzt 49 vollzeitliche Missionare. Was für ein Zeugnis\\xa0der Treue\\xa0Gottes!\\xa049 Menschen\\xa0werden\\xa0darin freigesetzt,\\xa0Tag und Nacht beten\\xa0zu können! 02.09.2019 JESAJA nachhören Am 29. August\\xa0ging die Vortragsreihe \"JESAJA\" von Johannes Hartl ins Finale. Der Vortrag kann noch bis zum 12. September\\xa0bei\\xa0Youtube\\xa0nachgehört werden. Alle Teile des Vortragsreihe findet ihr im\\xa0Gebetshaus Shop.\\xa0Teil 1 ist übrigens gratis ;-) 29.08.2019 Freude teilen Falls du unseren farbenfrohen MEHR-Trailer noch nicht kennst,\\xa0schau doch hier gleich rein und teile ihn mit den Menschen, die du gerne auf der MEHR sehen möchtest. 27.08.2019 Das große Finale:\\xa0Der Krieger und die Braut Schönheit aus der Asche und ein unverhoffter Sieg: das Finale des Jesajabuches enthüllt eine überwältigende Zukunftsvision. Im 6. und letzten Teil der Serie über das Buch des großen Propheten geht es um... 16.08.2019 Neue Lieder Still und heimlich entsteht in unserem Studio im Keller etwas ganz Großartiges! Das neue Gebetshaus Lobpreisalbum mit selbstgeschriebenen Songs der verschiedenen Lobpreisleiter ist in der finalen Studiophase. Gerade werden Gesang und Chorelemente aufgenommen. Da wird ... 16.08.2019 Urlaub im Gebetshaus Ob Last Minute Urlaub oder schon mal den Herbsturlaub planen, der Gebetsraum ist definitiv ein gutes Urlaubsziel zum auftanken und neu ausrichten. Übernachtungsmöglichkeiten direkt im Gebetshaus gibt es hier: gebetshaus.org/besuchen 26.11.2020 | How to: LIFE Wollen wir so leben Wollen wir so leben? 12.11.2020 | Glaube & Zweifel Unfertig - Andreas Boppart Ist das Leben als Christ wirklich abenteuerlich, radikal und bedeutungsvoll? Andreas \"Boppi\" Boppart... 30.10.2020 | Glaube & Zweifel Spezial Fürbitte Wie wäre es, wenn ganz Deutschland in der Nacht vom 31.10.2020 voller Feuer des Gebets und der... 29.10.2020 | Glaube & Zweifel Worship Das Wesen Unserer Höchsten Berufung “Der Vater sucht Anbeter im Geist und in der Wahrheit.” 15.10.2020 | How to: LIFE Eifersucht Ist Eifersucht eigentlich immer schlecht? Oder wo bin ich einfach nur kleinlich? Wir leben in einer... 01.10.2020 | How to: LIFE Wozu ruft mich Gott „Wo ist mein Platz? Wozu bin ich hier? Was ist meine Berufung?“ Fragen die sich jeder Mensch im... 17.09.2020 | Schwarzbrot – das harte Zeug Jesus eine Person der Weltgeschichte ist so bekannt wie Jesus, keine so verehrt. Und keine so... 30.04.2020 | Schwarzbrot – das harte Zeug Gottes globale Weisheit \"Was tut Gott gerade weltweit und was bewegt sich im Leib Christi? Eine hoffnungsvolle Perspektive... 16.04.2020 | Schwarzbrot – das harte Zeug Leben mit dem Tod Es gibt kein Leben ohne den Tod. Dennoch ist der Gedanke an das eigene Sterben oder das geliebter... 17.02.2020 | Podcast Quarantäne überleben - 20 Tipps Um Tage alleine zuhause gut zu überstehen, hilft eine selbst auferlegte Struktur. 17.02.2020 | Podcast Krisen bewältigen Corona ist nicht die erste und nicht die letzte Krise der Menschheit. Lerne in diesem ermutigenden... 13.12.2019 | Podcast Ökologie des Herzens Auch der Mensch ist Teil der Natur. Doch während global Anstrengungen zur Schutz des Klimas... 12.01.2019 | 90 Sekunden Hardfacts Mein größtes Geheimnis \\u200b In dieser Folge \"90 Sekunden Hardfacts mit Johannes Hartl\" spricht Johannes über \"sein größtes... 06.01.2019 | 90 Sekunden Hardfacts Liebe deine Hater & Trolls wie dich selbst \\u200b In dieser Folge \"90 Sekunden Hardfacts mit Johannes Hartl\" spricht Johannes über das Thema \"Liebe... 25.12.2018 | 90 Sekunden Hardfacts Brauche ich Therapie? \\u200b In dieser Folge \"90 Sekunden Hardfacts mit Johannes Hartl\" spricht Johannes über die Frage \"Brauche... DAS LEBEN WIR, DAS TRAI\\xadNIE\\xadREN WIR… Willkommen im Gebetshaus… …wir haben Tag und Nacht geöffnet*. Jeder ist im Gebetsraum willkommen. Natürlich kann man das Gebetshaus auch für mehrere Tage besuchen und die einzigartige Atmosphäre genießen.*Aktuell haben wir aufgrund der coronabedingten Einschränkungen leider nicht für die Allgemeinheit geöffnet. Die PrayerHomes sind wieder eröffnet worden und wir hoffen, dass wir auch Tagesgäste bald wieder bei uns begrüßen dürfen.Hier kann man sich in einem etwas ungewöhnlichem Videorundgang unser einzigartiges Gebäude ansehen.Rundgang Donnerstag AbendSkript Download Livestream unterstützen Aktuelle Termine Save the Date Wir haben eine Überraschung für Euch vorbereitet! 31.12.2020 | ab 21:00 Uhr Weitere Infos folgen... 31.12.2020 Webstream Wie werde ich Partner? Mehr Infos Wie werde ich Mitarbeiter? Mehr Infos Wie werde ich Volontär? Mehr Infos Jetzt spenden Das Gebetshaus wird nicht von Kirche oder Staat unterstützt, sondern trägt sich durch Spenden. Danke für Ihre Unterstützung!\\xa0Gebetshaus e.V. IBAN: DE07 7509 0300 0002 3334 30 BIC: GENODEF1M05 Liga BankWir bestätigen, dass Ihre Zuwendung nur zur Förderung mildtätiger und religiöser Zwecke verwendet wird. Wir senden Ihnen gerne eine separate Zuwendungsbestätigung für das Finanzamt, wenn uns alle notwendigen Informationen (Name und Anschrift) vorliegen. Die Versendung der Zuwendungsbestätigungen erfolgt immer zum Jahresanfang.Spenden per PayPal: Benutzen Sie den Button und sie gelangen direkt zu PayPal. WEIL JESUS ES WERT IST... Gebetshaus Vision Gebetsraum GebetshausMissionare Geschichte FAQ Besuchen Zimmer und Gästehaus But first: Coffee Gebetsraum Anfahrt & Adresse Veranstaltungen Livestream SCHØN MEHR DonnerstagAbend Gebetszeiten Schulungen FlameAcademy Allgemein Youtube Twitter Instagram Facebook Abonniere jetzt unseren Newsletter Deine E-Mail Adresse ',\n",
       " 'external_links': 17,\n",
       " 'internal_links': 171,\n",
       " 'total_links': 188}"
      ]
     },
     "execution_count": 25,
     "metadata": {},
     "output_type": "execute_result"
    }
   ],
   "source": [
    "data_dict[\"gebetshaus.org\"]"
   ]
  },
  {
   "cell_type": "markdown",
   "metadata": {},
   "source": [
    "# Analysis"
   ]
  },
  {
   "cell_type": "code",
   "execution_count": 2,
   "metadata": {},
   "outputs": [],
   "source": [
    "ana = Analyzer()"
   ]
  },
  {
   "cell_type": "code",
   "execution_count": null,
   "metadata": {},
   "outputs": [],
   "source": [
    " "
   ]
  },
  {
   "cell_type": "code",
   "execution_count": 3,
   "metadata": {},
   "outputs": [],
   "source": [
    "# Clustering & Standardization"
   ]
  },
  {
   "cell_type": "code",
   "execution_count": 6,
   "metadata": {},
   "outputs": [],
   "source": [
    "df_orig = ana.data_df"
   ]
  },
  {
   "cell_type": "code",
   "execution_count": 19,
   "metadata": {},
   "outputs": [],
   "source": [
    "df_orig_clustered = ana.clusterData(df_orig[[\"big_images\", \"total_length\"]])"
   ]
  },
  {
   "cell_type": "code",
   "execution_count": 20,
   "metadata": {},
   "outputs": [
    {
     "data": {
      "text/html": [
       "<div>\n",
       "<style scoped>\n",
       "    .dataframe tbody tr th:only-of-type {\n",
       "        vertical-align: middle;\n",
       "    }\n",
       "\n",
       "    .dataframe tbody tr th {\n",
       "        vertical-align: top;\n",
       "    }\n",
       "\n",
       "    .dataframe thead th {\n",
       "        text-align: right;\n",
       "    }\n",
       "</style>\n",
       "<table border=\"1\" class=\"dataframe\">\n",
       "  <thead>\n",
       "    <tr style=\"text-align: right;\">\n",
       "      <th></th>\n",
       "      <th>big_images</th>\n",
       "      <th>total_length</th>\n",
       "      <th>clusters</th>\n",
       "    </tr>\n",
       "  </thead>\n",
       "  <tbody>\n",
       "    <tr>\n",
       "      <th>hausvonazer.de</th>\n",
       "      <td>14</td>\n",
       "      <td>875</td>\n",
       "      <td>0</td>\n",
       "    </tr>\n",
       "    <tr>\n",
       "      <th>houseofsolution.de</th>\n",
       "      <td>1</td>\n",
       "      <td>4192</td>\n",
       "      <td>0</td>\n",
       "    </tr>\n",
       "    <tr>\n",
       "      <th>pierrevogelde.blogspot.com</th>\n",
       "      <td>0</td>\n",
       "      <td>6277</td>\n",
       "      <td>0</td>\n",
       "    </tr>\n",
       "    <tr>\n",
       "      <th>tabgha.ruhr</th>\n",
       "      <td>8</td>\n",
       "      <td>2707</td>\n",
       "      <td>0</td>\n",
       "    </tr>\n",
       "    <tr>\n",
       "      <th>al-adala.de</th>\n",
       "      <td>0</td>\n",
       "      <td>11270</td>\n",
       "      <td>0</td>\n",
       "    </tr>\n",
       "    <tr>\n",
       "      <th>buddhismus-deutschland.de</th>\n",
       "      <td>16</td>\n",
       "      <td>7405</td>\n",
       "      <td>0</td>\n",
       "    </tr>\n",
       "    <tr>\n",
       "      <th>credo-kirche.de</th>\n",
       "      <td>0</td>\n",
       "      <td>1848</td>\n",
       "      <td>0</td>\n",
       "    </tr>\n",
       "    <tr>\n",
       "      <th>ditib.de</th>\n",
       "      <td>0</td>\n",
       "      <td>4243</td>\n",
       "      <td>0</td>\n",
       "    </tr>\n",
       "    <tr>\n",
       "      <th>ekd.de</th>\n",
       "      <td>8</td>\n",
       "      <td>24499</td>\n",
       "      <td>1</td>\n",
       "    </tr>\n",
       "    <tr>\n",
       "      <th>gebetshaus.org</th>\n",
       "      <td>3</td>\n",
       "      <td>41724</td>\n",
       "      <td>2</td>\n",
       "    </tr>\n",
       "    <tr>\n",
       "      <th>hinduistische-gemeinde-deutschland.de</th>\n",
       "      <td>1</td>\n",
       "      <td>3502</td>\n",
       "      <td>0</td>\n",
       "    </tr>\n",
       "    <tr>\n",
       "      <th>katholisch.de</th>\n",
       "      <td>49</td>\n",
       "      <td>26012</td>\n",
       "      <td>1</td>\n",
       "    </tr>\n",
       "    <tr>\n",
       "      <th>kircheimpott.de</th>\n",
       "      <td>1</td>\n",
       "      <td>3144</td>\n",
       "      <td>0</td>\n",
       "    </tr>\n",
       "    <tr>\n",
       "      <th>miraath.de</th>\n",
       "      <td>0</td>\n",
       "      <td>2979</td>\n",
       "      <td>0</td>\n",
       "    </tr>\n",
       "    <tr>\n",
       "      <th>zentralratderjuden.de</th>\n",
       "      <td>5</td>\n",
       "      <td>4960</td>\n",
       "      <td>0</td>\n",
       "    </tr>\n",
       "    <tr>\n",
       "      <th>zentralrat.de</th>\n",
       "      <td>1</td>\n",
       "      <td>7503</td>\n",
       "      <td>0</td>\n",
       "    </tr>\n",
       "  </tbody>\n",
       "</table>\n",
       "</div>"
      ],
      "text/plain": [
       "                                       big_images  total_length  clusters\n",
       "hausvonazer.de                                 14           875         0\n",
       "houseofsolution.de                              1          4192         0\n",
       "pierrevogelde.blogspot.com                      0          6277         0\n",
       "tabgha.ruhr                                     8          2707         0\n",
       "al-adala.de                                     0         11270         0\n",
       "buddhismus-deutschland.de                      16          7405         0\n",
       "credo-kirche.de                                 0          1848         0\n",
       "ditib.de                                        0          4243         0\n",
       "ekd.de                                          8         24499         1\n",
       "gebetshaus.org                                  3         41724         2\n",
       "hinduistische-gemeinde-deutschland.de           1          3502         0\n",
       "katholisch.de                                  49         26012         1\n",
       "kircheimpott.de                                 1          3144         0\n",
       "miraath.de                                      0          2979         0\n",
       "zentralratderjuden.de                           5          4960         0\n",
       "zentralrat.de                                   1          7503         0"
      ]
     },
     "execution_count": 20,
     "metadata": {},
     "output_type": "execute_result"
    }
   ],
   "source": [
    "df_orig_clustered"
   ]
  },
  {
   "cell_type": "code",
   "execution_count": 21,
   "metadata": {},
   "outputs": [
    {
     "data": {
      "image/png": "[encoded data removed]",
      "text/plain": [
       "<Figure size 432x288 with 1 Axes>"
      ]
     },
     "metadata": {
      "needs_background": "light"
     },
     "output_type": "display_data"
    }
   ],
   "source": [
    "ana.visualizeCluster(df_orig_clustered, \"big_images\", \"total_length\")"
   ]
  },
  {
   "cell_type": "code",
   "execution_count": 11,
   "metadata": {},
   "outputs": [],
   "source": [
    "df_scaled = ana.standardizeData(df_orig)"
   ]
  },
  {
   "cell_type": "code",
   "execution_count": 12,
   "metadata": {},
   "outputs": [],
   "source": [
    "df_scaled_clustered = ana.clusterData(df_scaled)"
   ]
  },
  {
   "cell_type": "code",
   "execution_count": 13,
   "metadata": {},
   "outputs": [
    {
     "data": {
      "text/html": [
       "<div>\n",
       "<style scoped>\n",
       "    .dataframe tbody tr th:only-of-type {\n",
       "        vertical-align: middle;\n",
       "    }\n",
       "\n",
       "    .dataframe tbody tr th {\n",
       "        vertical-align: top;\n",
       "    }\n",
       "\n",
       "    .dataframe thead th {\n",
       "        text-align: right;\n",
       "    }\n",
       "</style>\n",
       "<table border=\"1\" class=\"dataframe\">\n",
       "  <thead>\n",
       "    <tr style=\"text-align: right;\">\n",
       "      <th></th>\n",
       "      <th>total_images_scaled</th>\n",
       "      <th>big_images_scaled</th>\n",
       "      <th>middle_images_scaled</th>\n",
       "      <th>small_images_scaled</th>\n",
       "      <th>background_images_scaled</th>\n",
       "      <th>total_length_scaled</th>\n",
       "      <th>external_links_scaled</th>\n",
       "      <th>internal_links_scaled</th>\n",
       "      <th>total_links_scaled</th>\n",
       "      <th>clusters</th>\n",
       "    </tr>\n",
       "  </thead>\n",
       "  <tbody>\n",
       "    <tr>\n",
       "      <th>hausvonazer.de</th>\n",
       "      <td>-0.326248</td>\n",
       "      <td>0.609449</td>\n",
       "      <td>0.417883</td>\n",
       "      <td>-0.741087</td>\n",
       "      <td>-0.383104</td>\n",
       "      <td>-0.791339</td>\n",
       "      <td>-0.438083</td>\n",
       "      <td>-0.801780</td>\n",
       "      <td>-0.846838</td>\n",
       "      <td>0</td>\n",
       "    </tr>\n",
       "    <tr>\n",
       "      <th>houseofsolution.de</th>\n",
       "      <td>-0.356076</td>\n",
       "      <td>-0.474016</td>\n",
       "      <td>-0.537278</td>\n",
       "      <td>0.343903</td>\n",
       "      <td>-0.269592</td>\n",
       "      <td>-0.489500</td>\n",
       "      <td>-0.267124</td>\n",
       "      <td>0.248460</td>\n",
       "      <td>0.191975</td>\n",
       "      <td>0</td>\n",
       "    </tr>\n",
       "    <tr>\n",
       "      <th>pierrevogelde.blogspot.com</th>\n",
       "      <td>0.389633</td>\n",
       "      <td>-0.557360</td>\n",
       "      <td>0.417883</td>\n",
       "      <td>0.653901</td>\n",
       "      <td>-0.383104</td>\n",
       "      <td>-0.299769</td>\n",
       "      <td>1.186030</td>\n",
       "      <td>0.178444</td>\n",
       "      <td>0.378812</td>\n",
       "      <td>0</td>\n",
       "    </tr>\n",
       "    <tr>\n",
       "      <th>tabgha.ruhr</th>\n",
       "      <td>0.329976</td>\n",
       "      <td>0.109388</td>\n",
       "      <td>-0.728310</td>\n",
       "      <td>0.188905</td>\n",
       "      <td>-0.383104</td>\n",
       "      <td>-0.624632</td>\n",
       "      <td>-0.438083</td>\n",
       "      <td>-0.786221</td>\n",
       "      <td>-0.831891</td>\n",
       "      <td>0</td>\n",
       "    </tr>\n",
       "    <tr>\n",
       "      <th>al-adala.de</th>\n",
       "      <td>-0.475390</td>\n",
       "      <td>-0.557360</td>\n",
       "      <td>1.564075</td>\n",
       "      <td>-0.663588</td>\n",
       "      <td>-0.383104</td>\n",
       "      <td>0.154582</td>\n",
       "      <td>-0.694522</td>\n",
       "      <td>2.061096</td>\n",
       "      <td>1.858559</td>\n",
       "      <td>0</td>\n",
       "    </tr>\n",
       "    <tr>\n",
       "      <th>buddhismus-deutschland.de</th>\n",
       "      <td>-0.296420</td>\n",
       "      <td>0.776136</td>\n",
       "      <td>-0.728310</td>\n",
       "      <td>-0.741087</td>\n",
       "      <td>-0.383104</td>\n",
       "      <td>-0.197124</td>\n",
       "      <td>-0.908221</td>\n",
       "      <td>-0.755103</td>\n",
       "      <td>-0.884205</td>\n",
       "      <td>0</td>\n",
       "    </tr>\n",
       "    <tr>\n",
       "      <th>credo-kirche.de</th>\n",
       "      <td>-0.743845</td>\n",
       "      <td>-0.557360</td>\n",
       "      <td>-0.728310</td>\n",
       "      <td>-0.353591</td>\n",
       "      <td>-0.269592</td>\n",
       "      <td>-0.702799</td>\n",
       "      <td>-0.694522</td>\n",
       "      <td>-0.887356</td>\n",
       "      <td>-0.973887</td>\n",
       "      <td>0</td>\n",
       "    </tr>\n",
       "    <tr>\n",
       "      <th>ditib.de</th>\n",
       "      <td>-0.027964</td>\n",
       "      <td>-0.557360</td>\n",
       "      <td>0.799947</td>\n",
       "      <td>0.111405</td>\n",
       "      <td>-0.383104</td>\n",
       "      <td>-0.484859</td>\n",
       "      <td>-0.438083</td>\n",
       "      <td>-0.226093</td>\n",
       "      <td>-0.293801</td>\n",
       "      <td>0</td>\n",
       "    </tr>\n",
       "    <tr>\n",
       "      <th>ekd.de</th>\n",
       "      <td>3.491785</td>\n",
       "      <td>0.109388</td>\n",
       "      <td>2.519235</td>\n",
       "      <td>3.443877</td>\n",
       "      <td>3.703339</td>\n",
       "      <td>1.358392</td>\n",
       "      <td>-0.309864</td>\n",
       "      <td>2.527869</td>\n",
       "      <td>2.374228</td>\n",
       "      <td>1</td>\n",
       "    </tr>\n",
       "    <tr>\n",
       "      <th>gebetshaus.org</th>\n",
       "      <td>-0.654360</td>\n",
       "      <td>-0.307329</td>\n",
       "      <td>-0.728310</td>\n",
       "      <td>-0.663588</td>\n",
       "      <td>0.184457</td>\n",
       "      <td>2.925829</td>\n",
       "      <td>-0.181644</td>\n",
       "      <td>0.123987</td>\n",
       "      <td>0.087346</td>\n",
       "      <td>0</td>\n",
       "    </tr>\n",
       "    <tr>\n",
       "      <th>hinduistische-gemeinde-deutschland.de</th>\n",
       "      <td>-0.535047</td>\n",
       "      <td>-0.474016</td>\n",
       "      <td>-0.537278</td>\n",
       "      <td>-0.353591</td>\n",
       "      <td>-0.383104</td>\n",
       "      <td>-0.552288</td>\n",
       "      <td>-0.908221</td>\n",
       "      <td>-0.817340</td>\n",
       "      <td>-0.943993</td>\n",
       "      <td>0</td>\n",
       "    </tr>\n",
       "    <tr>\n",
       "      <th>katholisch.de</th>\n",
       "      <td>0.628260</td>\n",
       "      <td>3.526472</td>\n",
       "      <td>-0.728310</td>\n",
       "      <td>-0.818587</td>\n",
       "      <td>-0.269592</td>\n",
       "      <td>1.496072</td>\n",
       "      <td>3.023843</td>\n",
       "      <td>0.839706</td>\n",
       "      <td>1.335416</td>\n",
       "      <td>2</td>\n",
       "    </tr>\n",
       "    <tr>\n",
       "      <th>kircheimpott.de</th>\n",
       "      <td>-0.803502</td>\n",
       "      <td>-0.474016</td>\n",
       "      <td>-0.728310</td>\n",
       "      <td>-0.586089</td>\n",
       "      <td>-0.383104</td>\n",
       "      <td>-0.584865</td>\n",
       "      <td>-0.309864</td>\n",
       "      <td>-0.607292</td>\n",
       "      <td>-0.637581</td>\n",
       "      <td>0</td>\n",
       "    </tr>\n",
       "    <tr>\n",
       "      <th>miraath.de</th>\n",
       "      <td>-0.624532</td>\n",
       "      <td>-0.557360</td>\n",
       "      <td>-0.728310</td>\n",
       "      <td>-0.121093</td>\n",
       "      <td>-0.383104</td>\n",
       "      <td>-0.599880</td>\n",
       "      <td>-0.395343</td>\n",
       "      <td>0.077309</td>\n",
       "      <td>0.005138</td>\n",
       "      <td>0</td>\n",
       "    </tr>\n",
       "    <tr>\n",
       "      <th>zentralratderjuden.de</th>\n",
       "      <td>0.389633</td>\n",
       "      <td>-0.140642</td>\n",
       "      <td>1.182011</td>\n",
       "      <td>-0.198592</td>\n",
       "      <td>0.752019</td>\n",
       "      <td>-0.419614</td>\n",
       "      <td>0.544933</td>\n",
       "      <td>-0.319448</td>\n",
       "      <td>-0.211593</td>\n",
       "      <td>0</td>\n",
       "    </tr>\n",
       "    <tr>\n",
       "      <th>zentralrat.de</th>\n",
       "      <td>-0.385905</td>\n",
       "      <td>-0.474016</td>\n",
       "      <td>-0.728310</td>\n",
       "      <td>0.498902</td>\n",
       "      <td>-0.383104</td>\n",
       "      <td>-0.188206</td>\n",
       "      <td>1.228770</td>\n",
       "      <td>-0.856237</td>\n",
       "      <td>-0.607687</td>\n",
       "      <td>0</td>\n",
       "    </tr>\n",
       "  </tbody>\n",
       "</table>\n",
       "</div>"
      ],
      "text/plain": [
       "                                       total_images_scaled  big_images_scaled  \\\n",
       "hausvonazer.de                                   -0.326248           0.609449   \n",
       "houseofsolution.de                               -0.356076          -0.474016   \n",
       "pierrevogelde.blogspot.com                        0.389633          -0.557360   \n",
       "tabgha.ruhr                                       0.329976           0.109388   \n",
       "al-adala.de                                      -0.475390          -0.557360   \n",
       "buddhismus-deutschland.de                        -0.296420           0.776136   \n",
       "credo-kirche.de                                  -0.743845          -0.557360   \n",
       "ditib.de                                         -0.027964          -0.557360   \n",
       "ekd.de                                            3.491785           0.109388   \n",
       "gebetshaus.org                                   -0.654360          -0.307329   \n",
       "hinduistische-gemeinde-deutschland.de            -0.535047          -0.474016   \n",
       "katholisch.de                                     0.628260           3.526472   \n",
       "kircheimpott.de                                  -0.803502          -0.474016   \n",
       "miraath.de                                       -0.624532          -0.557360   \n",
       "zentralratderjuden.de                             0.389633          -0.140642   \n",
       "zentralrat.de                                    -0.385905          -0.474016   \n",
       "\n",
       "                                       middle_images_scaled  \\\n",
       "hausvonazer.de                                     0.417883   \n",
       "houseofsolution.de                                -0.537278   \n",
       "pierrevogelde.blogspot.com                         0.417883   \n",
       "tabgha.ruhr                                       -0.728310   \n",
       "al-adala.de                                        1.564075   \n",
       "buddhismus-deutschland.de                         -0.728310   \n",
       "credo-kirche.de                                   -0.728310   \n",
       "ditib.de                                           0.799947   \n",
       "ekd.de                                             2.519235   \n",
       "gebetshaus.org                                    -0.728310   \n",
       "hinduistische-gemeinde-deutschland.de             -0.537278   \n",
       "katholisch.de                                     -0.728310   \n",
       "kircheimpott.de                                   -0.728310   \n",
       "miraath.de                                        -0.728310   \n",
       "zentralratderjuden.de                              1.182011   \n",
       "zentralrat.de                                     -0.728310   \n",
       "\n",
       "                                       small_images_scaled  \\\n",
       "hausvonazer.de                                   -0.741087   \n",
       "houseofsolution.de                                0.343903   \n",
       "pierrevogelde.blogspot.com                        0.653901   \n",
       "tabgha.ruhr                                       0.188905   \n",
       "al-adala.de                                      -0.663588   \n",
       "buddhismus-deutschland.de                        -0.741087   \n",
       "credo-kirche.de                                  -0.353591   \n",
       "ditib.de                                          0.111405   \n",
       "ekd.de                                            3.443877   \n",
       "gebetshaus.org                                   -0.663588   \n",
       "hinduistische-gemeinde-deutschland.de            -0.353591   \n",
       "katholisch.de                                    -0.818587   \n",
       "kircheimpott.de                                  -0.586089   \n",
       "miraath.de                                       -0.121093   \n",
       "zentralratderjuden.de                            -0.198592   \n",
       "zentralrat.de                                     0.498902   \n",
       "\n",
       "                                       background_images_scaled  \\\n",
       "hausvonazer.de                                        -0.383104   \n",
       "houseofsolution.de                                    -0.269592   \n",
       "pierrevogelde.blogspot.com                            -0.383104   \n",
       "tabgha.ruhr                                           -0.383104   \n",
       "al-adala.de                                           -0.383104   \n",
       "buddhismus-deutschland.de                             -0.383104   \n",
       "credo-kirche.de                                       -0.269592   \n",
       "ditib.de                                              -0.383104   \n",
       "ekd.de                                                 3.703339   \n",
       "gebetshaus.org                                         0.184457   \n",
       "hinduistische-gemeinde-deutschland.de                 -0.383104   \n",
       "katholisch.de                                         -0.269592   \n",
       "kircheimpott.de                                       -0.383104   \n",
       "miraath.de                                            -0.383104   \n",
       "zentralratderjuden.de                                  0.752019   \n",
       "zentralrat.de                                         -0.383104   \n",
       "\n",
       "                                       total_length_scaled  \\\n",
       "hausvonazer.de                                   -0.791339   \n",
       "houseofsolution.de                               -0.489500   \n",
       "pierrevogelde.blogspot.com                       -0.299769   \n",
       "tabgha.ruhr                                      -0.624632   \n",
       "al-adala.de                                       0.154582   \n",
       "buddhismus-deutschland.de                        -0.197124   \n",
       "credo-kirche.de                                  -0.702799   \n",
       "ditib.de                                         -0.484859   \n",
       "ekd.de                                            1.358392   \n",
       "gebetshaus.org                                    2.925829   \n",
       "hinduistische-gemeinde-deutschland.de            -0.552288   \n",
       "katholisch.de                                     1.496072   \n",
       "kircheimpott.de                                  -0.584865   \n",
       "miraath.de                                       -0.599880   \n",
       "zentralratderjuden.de                            -0.419614   \n",
       "zentralrat.de                                    -0.188206   \n",
       "\n",
       "                                       external_links_scaled  \\\n",
       "hausvonazer.de                                     -0.438083   \n",
       "houseofsolution.de                                 -0.267124   \n",
       "pierrevogelde.blogspot.com                          1.186030   \n",
       "tabgha.ruhr                                        -0.438083   \n",
       "al-adala.de                                        -0.694522   \n",
       "buddhismus-deutschland.de                          -0.908221   \n",
       "credo-kirche.de                                    -0.694522   \n",
       "ditib.de                                           -0.438083   \n",
       "ekd.de                                             -0.309864   \n",
       "gebetshaus.org                                     -0.181644   \n",
       "hinduistische-gemeinde-deutschland.de              -0.908221   \n",
       "katholisch.de                                       3.023843   \n",
       "kircheimpott.de                                    -0.309864   \n",
       "miraath.de                                         -0.395343   \n",
       "zentralratderjuden.de                               0.544933   \n",
       "zentralrat.de                                       1.228770   \n",
       "\n",
       "                                       internal_links_scaled  \\\n",
       "hausvonazer.de                                     -0.801780   \n",
       "houseofsolution.de                                  0.248460   \n",
       "pierrevogelde.blogspot.com                          0.178444   \n",
       "tabgha.ruhr                                        -0.786221   \n",
       "al-adala.de                                         2.061096   \n",
       "buddhismus-deutschland.de                          -0.755103   \n",
       "credo-kirche.de                                    -0.887356   \n",
       "ditib.de                                           -0.226093   \n",
       "ekd.de                                              2.527869   \n",
       "gebetshaus.org                                      0.123987   \n",
       "hinduistische-gemeinde-deutschland.de              -0.817340   \n",
       "katholisch.de                                       0.839706   \n",
       "kircheimpott.de                                    -0.607292   \n",
       "miraath.de                                          0.077309   \n",
       "zentralratderjuden.de                              -0.319448   \n",
       "zentralrat.de                                      -0.856237   \n",
       "\n",
       "                                       total_links_scaled  clusters  \n",
       "hausvonazer.de                                  -0.846838         0  \n",
       "houseofsolution.de                               0.191975         0  \n",
       "pierrevogelde.blogspot.com                       0.378812         0  \n",
       "tabgha.ruhr                                     -0.831891         0  \n",
       "al-adala.de                                      1.858559         0  \n",
       "buddhismus-deutschland.de                       -0.884205         0  \n",
       "credo-kirche.de                                 -0.973887         0  \n",
       "ditib.de                                        -0.293801         0  \n",
       "ekd.de                                           2.374228         1  \n",
       "gebetshaus.org                                   0.087346         0  \n",
       "hinduistische-gemeinde-deutschland.de           -0.943993         0  \n",
       "katholisch.de                                    1.335416         2  \n",
       "kircheimpott.de                                 -0.637581         0  \n",
       "miraath.de                                       0.005138         0  \n",
       "zentralratderjuden.de                           -0.211593         0  \n",
       "zentralrat.de                                   -0.607687         0  "
      ]
     },
     "execution_count": 13,
     "metadata": {},
     "output_type": "execute_result"
    }
   ],
   "source": [
    "df_scaled_clustered"
   ]
  },
  {
   "cell_type": "code",
   "execution_count": 15,
   "metadata": {},
   "outputs": [
    {
     "data": {
      "image/png": "[encoded data removed]",
      "text/plain": [
       "<Figure size 432x288 with 1 Axes>"
      ]
     },
     "metadata": {
      "needs_background": "light"
     },
     "output_type": "display_data"
    }
   ],
   "source": [
    "ana.visualizeCluster(df_scaled_clustered, \"big_images_scaled\", \"total_length_scaled\")"
   ]
  },
  {
   "cell_type": "code",
   "execution_count": null,
   "metadata": {},
   "outputs": [],
   "source": []
  },
  {
   "cell_type": "code",
   "execution_count": null,
   "metadata": {},
   "outputs": [],
   "source": []
  },
  {
   "cell_type": "code",
   "execution_count": 27,
   "metadata": {},
   "outputs": [],
   "source": [
    "with open(\"CorpusData/www.gebetshaus.org.html\", \"r\", encoding=\"utf-8\") as f:\n",
    "    doc = f.read()"
   ]
  },
  {
   "cell_type": "code",
   "execution_count": 29,
   "metadata": {},
   "outputs": [],
   "source": [
    "soup = BeautifulSoup(doc, \"html.parser\")"
   ]
  },
  {
   "cell_type": "code",
   "execution_count": 32,
   "metadata": {},
   "outputs": [],
   "source": [
    "bk_imgs = soup.find_all(style=re.compile(\"background-image\"))"
   ]
  },
  {
   "cell_type": "code",
   "execution_count": 54,
   "metadata": {},
   "outputs": [
    {
     "name": "stdout",
     "output_type": "stream",
     "text": [
      "background-image: url(\"fileadmin/_processed_/e/7/csm_Startseite_-_Sebastian_-_DSC00145_080105ecf4.jpg\"); opacity: 1; transform: scale(1);\n",
      "\"fileadmin/_processed_/e/7/csm_Startseite_-_Sebastian_-_DSC00145_080105ecf4.jpg\"\n",
      "fileadmin/_processed_/e/7/csm_Startseite_-_Sebastian_-_DSC00145_080105ecf4.jpg\n",
      "background-image: url('fileadmin/Oktober2020-2.jpg')\n",
      "'fileadmin/Oktober2020-2.jpg'\n",
      "fileadmin/Oktober2020-2.jpg\n",
      "background-image: url('fileadmin/IMG_2759.JPG')\n",
      "'fileadmin/IMG_2759.JPG'\n",
      "fileadmin/IMG_2759.JPG\n",
      "background-image: url('fileadmin/1000_Dank_-_1500x1500_-_Cover_Mockup.jpg')\n",
      "'fileadmin/1000_Dank_-_1500x1500_-_Cover_Mockup.jpg'\n",
      "fileadmin/1000_Dank_-_1500x1500_-_Cover_Mockup.jpg\n",
      "background-image: url('fileadmin/home/Termine.jpg')\n",
      "'fileadmin/home/Termine.jpg'\n",
      "fileadmin/home/Termine.jpg\n"
     ]
    }
   ],
   "source": [
    "for img in bk_imgs:\n",
    "    print(img[\"style\"])\n",
    "    match = re.search(r\"url\\((.*?)\\)\", img[\"style\"])\n",
    "    print(match.group(1))\n",
    "    url = re.sub(r\"[\\\"']+\", \"\", match.group(1).strip())\n",
    "    print(url)"
   ]
  },
  {
   "cell_type": "code",
   "execution_count": 55,
   "metadata": {},
   "outputs": [],
   "source": [
    "list1 = [1,2,3]\n",
    "list2 = [3,4,5]"
   ]
  },
  {
   "cell_type": "code",
   "execution_count": 56,
   "metadata": {},
   "outputs": [
    {
     "data": {
      "text/plain": [
       "[1, 2, 3, 3, 4, 5]"
      ]
     },
     "execution_count": 56,
     "metadata": {},
     "output_type": "execute_result"
    }
   ],
   "source": [
    "list1 + list2"
   ]
  },
  {
   "cell_type": "code",
   "execution_count": null,
   "metadata": {},
   "outputs": [],
   "source": []
  }
 ],
 "metadata": {
  "kernelspec": {
   "display_name": "Python 3",
   "language": "python",
   "name": "python3"
  },
  "language_info": {
   "codemirror_mode": {
    "name": "ipython",
    "version": 3
   },
   "file_extension": ".py",
   "mimetype": "text/x-python",
   "name": "python",
   "nbconvert_exporter": "python",
   "pygments_lexer": "ipython3",
   "version": "3.9.1"
  }
 },
 "nbformat": 4,
 "nbformat_minor": 4
}
